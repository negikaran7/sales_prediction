{
 "cells": [
  {
   "cell_type": "code",
   "execution_count": 1,
   "id": "0bc8d97f-10f2-4ca6-89fc-0e66a3f29881",
   "metadata": {},
   "outputs": [],
   "source": [
    "import numpy as np \n",
    "import pandas as pd \n",
    "import seaborn as sns\n",
    "import matplotlib.pyplot as plt\n",
    "%matplotlib inline"
   ]
  },
  {
   "cell_type": "code",
   "execution_count": 2,
   "id": "9b80020b-31c0-49ce-adda-0f1b2d48c8d9",
   "metadata": {},
   "outputs": [],
   "source": [
    "train=pd.read_csv('Train.csv')\n",
    "test=pd.read_csv('Test.csv')"
   ]
  },
  {
   "cell_type": "code",
   "execution_count": 3,
   "id": "f9555609-2e6f-4842-bcbe-02aea34b3345",
   "metadata": {},
   "outputs": [
    {
     "data": {
      "text/plain": [
       "((8523, 12), (5681, 11))"
      ]
     },
     "execution_count": 3,
     "metadata": {},
     "output_type": "execute_result"
    }
   ],
   "source": [
    "train.shape, test.shape"
   ]
  },
  {
   "cell_type": "code",
   "execution_count": 4,
   "id": "a19e84d6-8955-4dbd-9b0c-7fe70f4d389f",
   "metadata": {},
   "outputs": [
    {
     "data": {
      "text/plain": [
       "Index(['Item_Identifier', 'Item_Weight', 'Item_Fat_Content', 'Item_Visibility',\n",
       "       'Item_Type', 'Item_MRP', 'Outlet_Identifier',\n",
       "       'Outlet_Establishment_Year', 'Outlet_Size', 'Outlet_Location_Type',\n",
       "       'Outlet_Type', 'Item_Outlet_Sales'],\n",
       "      dtype='object')"
      ]
     },
     "execution_count": 4,
     "metadata": {},
     "output_type": "execute_result"
    }
   ],
   "source": [
    "train.columns"
   ]
  },
  {
   "cell_type": "code",
   "execution_count": 5,
   "id": "a7c42f1c-51f5-446e-b0ea-2fb3b4150bb7",
   "metadata": {},
   "outputs": [
    {
     "data": {
      "text/plain": [
       "Index(['Item_Identifier', 'Item_Weight', 'Item_Fat_Content', 'Item_Visibility',\n",
       "       'Item_Type', 'Item_MRP', 'Outlet_Identifier',\n",
       "       'Outlet_Establishment_Year', 'Outlet_Size', 'Outlet_Location_Type',\n",
       "       'Outlet_Type'],\n",
       "      dtype='object')"
      ]
     },
     "execution_count": 5,
     "metadata": {},
     "output_type": "execute_result"
    }
   ],
   "source": [
    "test.columns"
   ]
  },
  {
   "cell_type": "code",
   "execution_count": 6,
   "id": "c6529162-77e1-45e3-8fbe-7da7ace1bbae",
   "metadata": {},
   "outputs": [],
   "source": [
    "train['source'] = 'train'\n",
    "test['source'] = 'test'\n",
    "test['Item_Outlet_Sales'] = 0"
   ]
  },
  {
   "cell_type": "code",
   "execution_count": 7,
   "id": "3c4528b0-9577-4e70-840e-a90a59307818",
   "metadata": {},
   "outputs": [
    {
     "data": {
      "text/html": [
       "<div>\n",
       "<style scoped>\n",
       "    .dataframe tbody tr th:only-of-type {\n",
       "        vertical-align: middle;\n",
       "    }\n",
       "\n",
       "    .dataframe tbody tr th {\n",
       "        vertical-align: top;\n",
       "    }\n",
       "\n",
       "    .dataframe thead th {\n",
       "        text-align: right;\n",
       "    }\n",
       "</style>\n",
       "<table border=\"1\" class=\"dataframe\">\n",
       "  <thead>\n",
       "    <tr style=\"text-align: right;\">\n",
       "      <th></th>\n",
       "      <th>Item_Identifier</th>\n",
       "      <th>Item_Weight</th>\n",
       "      <th>Item_Fat_Content</th>\n",
       "      <th>Item_Visibility</th>\n",
       "      <th>Item_Type</th>\n",
       "      <th>Item_MRP</th>\n",
       "      <th>Outlet_Identifier</th>\n",
       "      <th>Outlet_Establishment_Year</th>\n",
       "      <th>Outlet_Size</th>\n",
       "      <th>Outlet_Location_Type</th>\n",
       "      <th>Outlet_Type</th>\n",
       "      <th>Item_Outlet_Sales</th>\n",
       "      <th>source</th>\n",
       "    </tr>\n",
       "  </thead>\n",
       "  <tbody>\n",
       "    <tr>\n",
       "      <th>0</th>\n",
       "      <td>FDA15</td>\n",
       "      <td>9.30</td>\n",
       "      <td>Low Fat</td>\n",
       "      <td>0.016047</td>\n",
       "      <td>Dairy</td>\n",
       "      <td>249.8092</td>\n",
       "      <td>OUT049</td>\n",
       "      <td>1999</td>\n",
       "      <td>Medium</td>\n",
       "      <td>Tier 1</td>\n",
       "      <td>Supermarket Type1</td>\n",
       "      <td>3735.1380</td>\n",
       "      <td>train</td>\n",
       "    </tr>\n",
       "    <tr>\n",
       "      <th>1</th>\n",
       "      <td>DRC01</td>\n",
       "      <td>5.92</td>\n",
       "      <td>Regular</td>\n",
       "      <td>0.019278</td>\n",
       "      <td>Soft Drinks</td>\n",
       "      <td>48.2692</td>\n",
       "      <td>OUT018</td>\n",
       "      <td>2009</td>\n",
       "      <td>Medium</td>\n",
       "      <td>Tier 3</td>\n",
       "      <td>Supermarket Type2</td>\n",
       "      <td>443.4228</td>\n",
       "      <td>train</td>\n",
       "    </tr>\n",
       "    <tr>\n",
       "      <th>2</th>\n",
       "      <td>FDN15</td>\n",
       "      <td>17.50</td>\n",
       "      <td>Low Fat</td>\n",
       "      <td>0.016760</td>\n",
       "      <td>Meat</td>\n",
       "      <td>141.6180</td>\n",
       "      <td>OUT049</td>\n",
       "      <td>1999</td>\n",
       "      <td>Medium</td>\n",
       "      <td>Tier 1</td>\n",
       "      <td>Supermarket Type1</td>\n",
       "      <td>2097.2700</td>\n",
       "      <td>train</td>\n",
       "    </tr>\n",
       "    <tr>\n",
       "      <th>3</th>\n",
       "      <td>FDX07</td>\n",
       "      <td>19.20</td>\n",
       "      <td>Regular</td>\n",
       "      <td>0.000000</td>\n",
       "      <td>Fruits and Vegetables</td>\n",
       "      <td>182.0950</td>\n",
       "      <td>OUT010</td>\n",
       "      <td>1998</td>\n",
       "      <td>NaN</td>\n",
       "      <td>Tier 3</td>\n",
       "      <td>Grocery Store</td>\n",
       "      <td>732.3800</td>\n",
       "      <td>train</td>\n",
       "    </tr>\n",
       "    <tr>\n",
       "      <th>4</th>\n",
       "      <td>NCD19</td>\n",
       "      <td>8.93</td>\n",
       "      <td>Low Fat</td>\n",
       "      <td>0.000000</td>\n",
       "      <td>Household</td>\n",
       "      <td>53.8614</td>\n",
       "      <td>OUT013</td>\n",
       "      <td>1987</td>\n",
       "      <td>High</td>\n",
       "      <td>Tier 3</td>\n",
       "      <td>Supermarket Type1</td>\n",
       "      <td>994.7052</td>\n",
       "      <td>train</td>\n",
       "    </tr>\n",
       "  </tbody>\n",
       "</table>\n",
       "</div>"
      ],
      "text/plain": [
       "  Item_Identifier  Item_Weight Item_Fat_Content  Item_Visibility  \\\n",
       "0           FDA15         9.30          Low Fat         0.016047   \n",
       "1           DRC01         5.92          Regular         0.019278   \n",
       "2           FDN15        17.50          Low Fat         0.016760   \n",
       "3           FDX07        19.20          Regular         0.000000   \n",
       "4           NCD19         8.93          Low Fat         0.000000   \n",
       "\n",
       "               Item_Type  Item_MRP Outlet_Identifier  \\\n",
       "0                  Dairy  249.8092            OUT049   \n",
       "1            Soft Drinks   48.2692            OUT018   \n",
       "2                   Meat  141.6180            OUT049   \n",
       "3  Fruits and Vegetables  182.0950            OUT010   \n",
       "4              Household   53.8614            OUT013   \n",
       "\n",
       "   Outlet_Establishment_Year Outlet_Size Outlet_Location_Type  \\\n",
       "0                       1999      Medium               Tier 1   \n",
       "1                       2009      Medium               Tier 3   \n",
       "2                       1999      Medium               Tier 1   \n",
       "3                       1998         NaN               Tier 3   \n",
       "4                       1987        High               Tier 3   \n",
       "\n",
       "         Outlet_Type  Item_Outlet_Sales source  \n",
       "0  Supermarket Type1          3735.1380  train  \n",
       "1  Supermarket Type2           443.4228  train  \n",
       "2  Supermarket Type1          2097.2700  train  \n",
       "3      Grocery Store           732.3800  train  \n",
       "4  Supermarket Type1           994.7052  train  "
      ]
     },
     "execution_count": 7,
     "metadata": {},
     "output_type": "execute_result"
    }
   ],
   "source": [
    "train.head()"
   ]
  },
  {
   "cell_type": "code",
   "execution_count": 8,
   "id": "310fb1b9-f3b0-408c-99df-b37f16396128",
   "metadata": {},
   "outputs": [
    {
     "data": {
      "text/html": [
       "<div>\n",
       "<style scoped>\n",
       "    .dataframe tbody tr th:only-of-type {\n",
       "        vertical-align: middle;\n",
       "    }\n",
       "\n",
       "    .dataframe tbody tr th {\n",
       "        vertical-align: top;\n",
       "    }\n",
       "\n",
       "    .dataframe thead th {\n",
       "        text-align: right;\n",
       "    }\n",
       "</style>\n",
       "<table border=\"1\" class=\"dataframe\">\n",
       "  <thead>\n",
       "    <tr style=\"text-align: right;\">\n",
       "      <th></th>\n",
       "      <th>Item_Identifier</th>\n",
       "      <th>Item_Weight</th>\n",
       "      <th>Item_Fat_Content</th>\n",
       "      <th>Item_Visibility</th>\n",
       "      <th>Item_Type</th>\n",
       "      <th>Item_MRP</th>\n",
       "      <th>Outlet_Identifier</th>\n",
       "      <th>Outlet_Establishment_Year</th>\n",
       "      <th>Outlet_Size</th>\n",
       "      <th>Outlet_Location_Type</th>\n",
       "      <th>Outlet_Type</th>\n",
       "      <th>source</th>\n",
       "      <th>Item_Outlet_Sales</th>\n",
       "    </tr>\n",
       "  </thead>\n",
       "  <tbody>\n",
       "    <tr>\n",
       "      <th>0</th>\n",
       "      <td>FDW58</td>\n",
       "      <td>20.750</td>\n",
       "      <td>Low Fat</td>\n",
       "      <td>0.007565</td>\n",
       "      <td>Snack Foods</td>\n",
       "      <td>107.8622</td>\n",
       "      <td>OUT049</td>\n",
       "      <td>1999</td>\n",
       "      <td>Medium</td>\n",
       "      <td>Tier 1</td>\n",
       "      <td>Supermarket Type1</td>\n",
       "      <td>test</td>\n",
       "      <td>0</td>\n",
       "    </tr>\n",
       "    <tr>\n",
       "      <th>1</th>\n",
       "      <td>FDW14</td>\n",
       "      <td>8.300</td>\n",
       "      <td>reg</td>\n",
       "      <td>0.038428</td>\n",
       "      <td>Dairy</td>\n",
       "      <td>87.3198</td>\n",
       "      <td>OUT017</td>\n",
       "      <td>2007</td>\n",
       "      <td>NaN</td>\n",
       "      <td>Tier 2</td>\n",
       "      <td>Supermarket Type1</td>\n",
       "      <td>test</td>\n",
       "      <td>0</td>\n",
       "    </tr>\n",
       "    <tr>\n",
       "      <th>2</th>\n",
       "      <td>NCN55</td>\n",
       "      <td>14.600</td>\n",
       "      <td>Low Fat</td>\n",
       "      <td>0.099575</td>\n",
       "      <td>Others</td>\n",
       "      <td>241.7538</td>\n",
       "      <td>OUT010</td>\n",
       "      <td>1998</td>\n",
       "      <td>NaN</td>\n",
       "      <td>Tier 3</td>\n",
       "      <td>Grocery Store</td>\n",
       "      <td>test</td>\n",
       "      <td>0</td>\n",
       "    </tr>\n",
       "    <tr>\n",
       "      <th>3</th>\n",
       "      <td>FDQ58</td>\n",
       "      <td>7.315</td>\n",
       "      <td>Low Fat</td>\n",
       "      <td>0.015388</td>\n",
       "      <td>Snack Foods</td>\n",
       "      <td>155.0340</td>\n",
       "      <td>OUT017</td>\n",
       "      <td>2007</td>\n",
       "      <td>NaN</td>\n",
       "      <td>Tier 2</td>\n",
       "      <td>Supermarket Type1</td>\n",
       "      <td>test</td>\n",
       "      <td>0</td>\n",
       "    </tr>\n",
       "    <tr>\n",
       "      <th>4</th>\n",
       "      <td>FDY38</td>\n",
       "      <td>NaN</td>\n",
       "      <td>Regular</td>\n",
       "      <td>0.118599</td>\n",
       "      <td>Dairy</td>\n",
       "      <td>234.2300</td>\n",
       "      <td>OUT027</td>\n",
       "      <td>1985</td>\n",
       "      <td>Medium</td>\n",
       "      <td>Tier 3</td>\n",
       "      <td>Supermarket Type3</td>\n",
       "      <td>test</td>\n",
       "      <td>0</td>\n",
       "    </tr>\n",
       "  </tbody>\n",
       "</table>\n",
       "</div>"
      ],
      "text/plain": [
       "  Item_Identifier  Item_Weight Item_Fat_Content  Item_Visibility    Item_Type  \\\n",
       "0           FDW58       20.750          Low Fat         0.007565  Snack Foods   \n",
       "1           FDW14        8.300              reg         0.038428        Dairy   \n",
       "2           NCN55       14.600          Low Fat         0.099575       Others   \n",
       "3           FDQ58        7.315          Low Fat         0.015388  Snack Foods   \n",
       "4           FDY38          NaN          Regular         0.118599        Dairy   \n",
       "\n",
       "   Item_MRP Outlet_Identifier  Outlet_Establishment_Year Outlet_Size  \\\n",
       "0  107.8622            OUT049                       1999      Medium   \n",
       "1   87.3198            OUT017                       2007         NaN   \n",
       "2  241.7538            OUT010                       1998         NaN   \n",
       "3  155.0340            OUT017                       2007         NaN   \n",
       "4  234.2300            OUT027                       1985      Medium   \n",
       "\n",
       "  Outlet_Location_Type        Outlet_Type source  Item_Outlet_Sales  \n",
       "0               Tier 1  Supermarket Type1   test                  0  \n",
       "1               Tier 2  Supermarket Type1   test                  0  \n",
       "2               Tier 3      Grocery Store   test                  0  \n",
       "3               Tier 2  Supermarket Type1   test                  0  \n",
       "4               Tier 3  Supermarket Type3   test                  0  "
      ]
     },
     "execution_count": 8,
     "metadata": {},
     "output_type": "execute_result"
    }
   ],
   "source": [
    "test.head()"
   ]
  },
  {
   "cell_type": "code",
   "execution_count": 9,
   "id": "eb91147b-80a1-44d4-bd37-9b72066edcda",
   "metadata": {},
   "outputs": [
    {
     "name": "stdout",
     "output_type": "stream",
     "text": [
      "(8523, 13) (5681, 13) (14204, 13)\n"
     ]
    }
   ],
   "source": [
    "data = pd.concat([train, test], sort = False)\n",
    "print(train.shape, test.shape, data.shape)"
   ]
  },
  {
   "cell_type": "code",
   "execution_count": 10,
   "id": "a1ce0821-a54e-4250-8cbb-b6a0c03ee9d4",
   "metadata": {},
   "outputs": [
    {
     "data": {
      "text/plain": [
       "count    14204.000000\n",
       "mean      1308.865489\n",
       "std       1699.791423\n",
       "min          0.000000\n",
       "25%          0.000000\n",
       "50%        559.272000\n",
       "75%       2163.184200\n",
       "max      13086.964800\n",
       "Name: Item_Outlet_Sales, dtype: float64"
      ]
     },
     "execution_count": 10,
     "metadata": {},
     "output_type": "execute_result"
    }
   ],
   "source": [
    "data['Item_Outlet_Sales'].describe()"
   ]
  },
  {
   "cell_type": "code",
   "execution_count": null,
   "id": "75e1326b-b5c4-4a66-826d-4d4a588e4658",
   "metadata": {},
   "outputs": [],
   "source": []
  },
  {
   "cell_type": "code",
   "execution_count": 11,
   "id": "6433ce3c-64e5-4625-b58b-a5538b43a5f6",
   "metadata": {},
   "outputs": [
    {
     "data": {
      "text/plain": [
       "Item_Identifier               object\n",
       "Item_Weight                  float64\n",
       "Item_Fat_Content              object\n",
       "Item_Visibility              float64\n",
       "Item_Type                     object\n",
       "Item_MRP                     float64\n",
       "Outlet_Identifier             object\n",
       "Outlet_Establishment_Year      int64\n",
       "Outlet_Size                   object\n",
       "Outlet_Location_Type          object\n",
       "Outlet_Type                   object\n",
       "Item_Outlet_Sales            float64\n",
       "source                        object\n",
       "dtype: object"
      ]
     },
     "execution_count": 11,
     "metadata": {},
     "output_type": "execute_result"
    }
   ],
   "source": [
    "data.dtypes"
   ]
  },
  {
   "cell_type": "code",
   "execution_count": 12,
   "id": "a140a5b9-838e-4f36-bafe-ae08f83e4af5",
   "metadata": {},
   "outputs": [
    {
     "data": {
      "text/plain": [
       "1985    2439\n",
       "1987    1553\n",
       "1999    1550\n",
       "1997    1550\n",
       "2004    1550\n",
       "2002    1548\n",
       "2009    1546\n",
       "2007    1543\n",
       "1998     925\n",
       "Name: Outlet_Establishment_Year, dtype: int64"
      ]
     },
     "execution_count": 12,
     "metadata": {},
     "output_type": "execute_result"
    }
   ],
   "source": [
    "data['Outlet_Establishment_Year'].value_counts()"
   ]
  },
  {
   "cell_type": "code",
   "execution_count": 13,
   "id": "5dcf833e-8305-4ad4-bcee-508b09fc5fc1",
   "metadata": {},
   "outputs": [],
   "source": [
    "# recent_yr=data.Outlet_Establishment_Year.max()\n",
    "# data['Outlet_age']= (recent_yr+1)-data.Outlet_Establishment_Year"
   ]
  },
  {
   "cell_type": "code",
   "execution_count": 14,
   "id": "0503de90-ea58-48a2-a9cc-88a62a0f4ac3",
   "metadata": {},
   "outputs": [
    {
     "data": {
      "text/plain": [
       "FDU15    10\n",
       "FDS25    10\n",
       "FDA38    10\n",
       "FDW03    10\n",
       "FDJ10    10\n",
       "         ..\n",
       "FDR51     7\n",
       "FDM52     7\n",
       "DRN11     7\n",
       "FDH58     7\n",
       "NCW54     7\n",
       "Name: Item_Identifier, Length: 1559, dtype: int64"
      ]
     },
     "execution_count": 14,
     "metadata": {},
     "output_type": "execute_result"
    }
   ],
   "source": [
    "data.Item_Identifier.value_counts()"
   ]
  },
  {
   "cell_type": "code",
   "execution_count": 15,
   "id": "917d33da-3e13-4a08-b8b3-eadd826f9eb4",
   "metadata": {},
   "outputs": [],
   "source": [
    "data['Item_category']=data.Item_Identifier.map(lambda x: x[:2])"
   ]
  },
  {
   "cell_type": "code",
   "execution_count": 16,
   "id": "a9df0f37-3795-4b85-a072-39964f407c2c",
   "metadata": {},
   "outputs": [
    {
     "data": {
      "text/plain": [
       "FD    10201\n",
       "NC     2686\n",
       "DR     1317\n",
       "Name: Item_category, dtype: int64"
      ]
     },
     "execution_count": 16,
     "metadata": {},
     "output_type": "execute_result"
    }
   ],
   "source": [
    "data.Item_category.value_counts()"
   ]
  },
  {
   "cell_type": "code",
   "execution_count": 17,
   "id": "e0312c41-7b40-4a43-9625-24964eab5c03",
   "metadata": {},
   "outputs": [
    {
     "data": {
      "text/html": [
       "<div>\n",
       "<style scoped>\n",
       "    .dataframe tbody tr th:only-of-type {\n",
       "        vertical-align: middle;\n",
       "    }\n",
       "\n",
       "    .dataframe tbody tr th {\n",
       "        vertical-align: top;\n",
       "    }\n",
       "\n",
       "    .dataframe thead th {\n",
       "        text-align: right;\n",
       "    }\n",
       "</style>\n",
       "<table border=\"1\" class=\"dataframe\">\n",
       "  <thead>\n",
       "    <tr style=\"text-align: right;\">\n",
       "      <th></th>\n",
       "      <th>Item_Identifier</th>\n",
       "      <th>Item_Weight</th>\n",
       "      <th>Item_Fat_Content</th>\n",
       "      <th>Item_Visibility</th>\n",
       "      <th>Item_Type</th>\n",
       "      <th>Item_MRP</th>\n",
       "      <th>Outlet_Identifier</th>\n",
       "      <th>Outlet_Establishment_Year</th>\n",
       "      <th>Outlet_Size</th>\n",
       "      <th>Outlet_Location_Type</th>\n",
       "      <th>Outlet_Type</th>\n",
       "      <th>Item_Outlet_Sales</th>\n",
       "      <th>source</th>\n",
       "      <th>Item_category</th>\n",
       "    </tr>\n",
       "  </thead>\n",
       "  <tbody>\n",
       "    <tr>\n",
       "      <th>0</th>\n",
       "      <td>FDA15</td>\n",
       "      <td>9.30</td>\n",
       "      <td>Low Fat</td>\n",
       "      <td>0.016047</td>\n",
       "      <td>Dairy</td>\n",
       "      <td>249.8092</td>\n",
       "      <td>OUT049</td>\n",
       "      <td>1999</td>\n",
       "      <td>Medium</td>\n",
       "      <td>Tier 1</td>\n",
       "      <td>Supermarket Type1</td>\n",
       "      <td>3735.1380</td>\n",
       "      <td>train</td>\n",
       "      <td>FD</td>\n",
       "    </tr>\n",
       "    <tr>\n",
       "      <th>1</th>\n",
       "      <td>DRC01</td>\n",
       "      <td>5.92</td>\n",
       "      <td>Regular</td>\n",
       "      <td>0.019278</td>\n",
       "      <td>Soft Drinks</td>\n",
       "      <td>48.2692</td>\n",
       "      <td>OUT018</td>\n",
       "      <td>2009</td>\n",
       "      <td>Medium</td>\n",
       "      <td>Tier 3</td>\n",
       "      <td>Supermarket Type2</td>\n",
       "      <td>443.4228</td>\n",
       "      <td>train</td>\n",
       "      <td>DR</td>\n",
       "    </tr>\n",
       "    <tr>\n",
       "      <th>2</th>\n",
       "      <td>FDN15</td>\n",
       "      <td>17.50</td>\n",
       "      <td>Low Fat</td>\n",
       "      <td>0.016760</td>\n",
       "      <td>Meat</td>\n",
       "      <td>141.6180</td>\n",
       "      <td>OUT049</td>\n",
       "      <td>1999</td>\n",
       "      <td>Medium</td>\n",
       "      <td>Tier 1</td>\n",
       "      <td>Supermarket Type1</td>\n",
       "      <td>2097.2700</td>\n",
       "      <td>train</td>\n",
       "      <td>FD</td>\n",
       "    </tr>\n",
       "    <tr>\n",
       "      <th>3</th>\n",
       "      <td>FDX07</td>\n",
       "      <td>19.20</td>\n",
       "      <td>Regular</td>\n",
       "      <td>0.000000</td>\n",
       "      <td>Fruits and Vegetables</td>\n",
       "      <td>182.0950</td>\n",
       "      <td>OUT010</td>\n",
       "      <td>1998</td>\n",
       "      <td>NaN</td>\n",
       "      <td>Tier 3</td>\n",
       "      <td>Grocery Store</td>\n",
       "      <td>732.3800</td>\n",
       "      <td>train</td>\n",
       "      <td>FD</td>\n",
       "    </tr>\n",
       "    <tr>\n",
       "      <th>4</th>\n",
       "      <td>NCD19</td>\n",
       "      <td>8.93</td>\n",
       "      <td>Low Fat</td>\n",
       "      <td>0.000000</td>\n",
       "      <td>Household</td>\n",
       "      <td>53.8614</td>\n",
       "      <td>OUT013</td>\n",
       "      <td>1987</td>\n",
       "      <td>High</td>\n",
       "      <td>Tier 3</td>\n",
       "      <td>Supermarket Type1</td>\n",
       "      <td>994.7052</td>\n",
       "      <td>train</td>\n",
       "      <td>NC</td>\n",
       "    </tr>\n",
       "  </tbody>\n",
       "</table>\n",
       "</div>"
      ],
      "text/plain": [
       "  Item_Identifier  Item_Weight Item_Fat_Content  Item_Visibility  \\\n",
       "0           FDA15         9.30          Low Fat         0.016047   \n",
       "1           DRC01         5.92          Regular         0.019278   \n",
       "2           FDN15        17.50          Low Fat         0.016760   \n",
       "3           FDX07        19.20          Regular         0.000000   \n",
       "4           NCD19         8.93          Low Fat         0.000000   \n",
       "\n",
       "               Item_Type  Item_MRP Outlet_Identifier  \\\n",
       "0                  Dairy  249.8092            OUT049   \n",
       "1            Soft Drinks   48.2692            OUT018   \n",
       "2                   Meat  141.6180            OUT049   \n",
       "3  Fruits and Vegetables  182.0950            OUT010   \n",
       "4              Household   53.8614            OUT013   \n",
       "\n",
       "   Outlet_Establishment_Year Outlet_Size Outlet_Location_Type  \\\n",
       "0                       1999      Medium               Tier 1   \n",
       "1                       2009      Medium               Tier 3   \n",
       "2                       1999      Medium               Tier 1   \n",
       "3                       1998         NaN               Tier 3   \n",
       "4                       1987        High               Tier 3   \n",
       "\n",
       "         Outlet_Type  Item_Outlet_Sales source Item_category  \n",
       "0  Supermarket Type1          3735.1380  train            FD  \n",
       "1  Supermarket Type2           443.4228  train            DR  \n",
       "2  Supermarket Type1          2097.2700  train            FD  \n",
       "3      Grocery Store           732.3800  train            FD  \n",
       "4  Supermarket Type1           994.7052  train            NC  "
      ]
     },
     "execution_count": 17,
     "metadata": {},
     "output_type": "execute_result"
    }
   ],
   "source": [
    "data.head()"
   ]
  },
  {
   "cell_type": "code",
   "execution_count": null,
   "id": "ae617163-2045-4b87-b406-bc67db181c26",
   "metadata": {},
   "outputs": [],
   "source": []
  },
  {
   "cell_type": "code",
   "execution_count": null,
   "id": "3f3859b1-2db0-42b5-b120-02c264ca166e",
   "metadata": {},
   "outputs": [],
   "source": []
  },
  {
   "cell_type": "markdown",
   "id": "1271bacb-d9e0-488d-99c5-5355dc3f316c",
   "metadata": {},
   "source": [
    "## handling Missing data"
   ]
  },
  {
   "cell_type": "code",
   "execution_count": 18,
   "id": "8b1949f0-5ca9-4765-a044-7da5609a04da",
   "metadata": {},
   "outputs": [
    {
     "data": {
      "text/plain": [
       "Item_Identifier                 0\n",
       "Item_Weight                  2439\n",
       "Item_Fat_Content                0\n",
       "Item_Visibility                 0\n",
       "Item_Type                       0\n",
       "Item_MRP                        0\n",
       "Outlet_Identifier               0\n",
       "Outlet_Establishment_Year       0\n",
       "Outlet_Size                  4016\n",
       "Outlet_Location_Type            0\n",
       "Outlet_Type                     0\n",
       "Item_Outlet_Sales               0\n",
       "source                          0\n",
       "Item_category                   0\n",
       "dtype: int64"
      ]
     },
     "execution_count": 18,
     "metadata": {},
     "output_type": "execute_result"
    }
   ],
   "source": [
    "data.isna().sum()"
   ]
  },
  {
   "cell_type": "code",
   "execution_count": 19,
   "id": "3ab3281e-42a4-41b4-8ad1-7de7203a99ba",
   "metadata": {},
   "outputs": [
    {
     "data": {
      "text/plain": [
       "<AxesSubplot:xlabel='Item_Weight', ylabel='Count'>"
      ]
     },
     "execution_count": 19,
     "metadata": {},
     "output_type": "execute_result"
    },
    {
     "data": {
      "image/png": "[encoded data removed]",
      "text/plain": [
       "<Figure size 432x288 with 1 Axes>"
      ]
     },
     "metadata": {
      "needs_background": "light"
     },
     "output_type": "display_data"
    }
   ],
   "source": [
    "sns.histplot(data['Item_Weight'])"
   ]
  },
  {
   "cell_type": "code",
   "execution_count": 20,
   "id": "c56179a7-8b18-4704-b79c-bd52a729556c",
   "metadata": {},
   "outputs": [
    {
     "data": {
      "text/plain": [
       "<AxesSubplot:xlabel='Outlet_Size', ylabel='count'>"
      ]
     },
     "execution_count": 20,
     "metadata": {},
     "output_type": "execute_result"
    },
    {
     "data": {
      "image/png": "[encoded data removed]",
      "text/plain": [
       "<Figure size 432x288 with 1 Axes>"
      ]
     },
     "metadata": {
      "needs_background": "light"
     },
     "output_type": "display_data"
    }
   ],
   "source": [
    "sns.countplot(data=data,x='Outlet_Size')"
   ]
  },
  {
   "cell_type": "code",
   "execution_count": 21,
   "id": "6948ac9f-0872-4b3d-9df3-e995664e2c6b",
   "metadata": {},
   "outputs": [
    {
     "data": {
      "text/plain": [
       "Item_Identifier               1559\n",
       "Item_Weight                    415\n",
       "Item_Fat_Content                 5\n",
       "Item_Visibility              13006\n",
       "Item_Type                       16\n",
       "Item_MRP                      8052\n",
       "Outlet_Identifier               10\n",
       "Outlet_Establishment_Year        9\n",
       "Outlet_Size                      3\n",
       "Outlet_Location_Type             3\n",
       "Outlet_Type                      4\n",
       "Item_Outlet_Sales             3494\n",
       "source                           2\n",
       "Item_category                    3\n",
       "dtype: int64"
      ]
     },
     "execution_count": 21,
     "metadata": {},
     "output_type": "execute_result"
    }
   ],
   "source": [
    "data.nunique()"
   ]
  },
  {
   "cell_type": "markdown",
   "id": "c8747407-d0c7-479e-814c-b6401885fe1e",
   "metadata": {},
   "source": [
    "## handling missing values\n",
    "- using mean\n",
    "- using mode\n",
    "\n",
    "#### You can use mean value to replace the missing values in case the data distribution is symmetric.Consider using median or mode with skewed data distribution."
   ]
  },
  {
   "cell_type": "code",
   "execution_count": 22,
   "id": "55260b79-1e08-487b-b83d-c9dc171ffe66",
   "metadata": {},
   "outputs": [
    {
     "data": {
      "text/plain": [
       "Item_Identifier                 0\n",
       "Item_Weight                  2439\n",
       "Item_Fat_Content                0\n",
       "Item_Visibility                 0\n",
       "Item_Type                       0\n",
       "Item_MRP                        0\n",
       "Outlet_Identifier               0\n",
       "Outlet_Establishment_Year       0\n",
       "Outlet_Size                  4016\n",
       "Outlet_Location_Type            0\n",
       "Outlet_Type                     0\n",
       "Item_Outlet_Sales               0\n",
       "source                          0\n",
       "Item_category                   0\n",
       "dtype: int64"
      ]
     },
     "execution_count": 22,
     "metadata": {},
     "output_type": "execute_result"
    }
   ],
   "source": [
    "data.isna().sum()"
   ]
  },
  {
   "cell_type": "code",
   "execution_count": 23,
   "id": "798a3a8d-898d-4ddb-be55-9d6b42131741",
   "metadata": {},
   "outputs": [],
   "source": [
    "item_avg_weight = data.pivot_table(values='Item_Weight', index='Item_Identifier')\n",
    "missing_values = data['Item_Weight'].isnull()\n",
    "\n",
    "data.loc[missing_values,'Item_Weight']  = data.loc[missing_values,'Item_Identifier']\\\n",
    ".apply(lambda x: item_avg_weight.at[x,'Item_Weight'])"
   ]
  },
  {
   "cell_type": "code",
   "execution_count": 24,
   "id": "7fa02b31-c49b-45b5-99e1-fdc976f8af16",
   "metadata": {},
   "outputs": [
    {
     "data": {
      "text/plain": [
       "Item_Identifier                 0\n",
       "Item_Weight                     0\n",
       "Item_Fat_Content                0\n",
       "Item_Visibility                 0\n",
       "Item_Type                       0\n",
       "Item_MRP                        0\n",
       "Outlet_Identifier               0\n",
       "Outlet_Establishment_Year       0\n",
       "Outlet_Size                  4016\n",
       "Outlet_Location_Type            0\n",
       "Outlet_Type                     0\n",
       "Item_Outlet_Sales               0\n",
       "source                          0\n",
       "Item_category                   0\n",
       "dtype: int64"
      ]
     },
     "execution_count": 24,
     "metadata": {},
     "output_type": "execute_result"
    }
   ],
   "source": [
    "# data.Item_Weight.fillna(data.Item_Weight.mean(),inplace=True)\n",
    "data.isna().sum()"
   ]
  },
  {
   "cell_type": "code",
   "execution_count": 25,
   "id": "9a8828b7-347c-4f88-ba38-e58ff0e9d2a2",
   "metadata": {},
   "outputs": [
    {
     "data": {
      "text/plain": [
       "0    Medium\n",
       "Name: Outlet_Size, dtype: object"
      ]
     },
     "execution_count": 25,
     "metadata": {},
     "output_type": "execute_result"
    }
   ],
   "source": [
    "data.Outlet_Size.mode()"
   ]
  },
  {
   "cell_type": "code",
   "execution_count": 26,
   "id": "68cf61ff-9615-4c21-8c0f-16b3cb29ba36",
   "metadata": {},
   "outputs": [
    {
     "data": {
      "text/html": [
       "<div>\n",
       "<style scoped>\n",
       "    .dataframe tbody tr th:only-of-type {\n",
       "        vertical-align: middle;\n",
       "    }\n",
       "\n",
       "    .dataframe tbody tr th {\n",
       "        vertical-align: top;\n",
       "    }\n",
       "\n",
       "    .dataframe thead th {\n",
       "        text-align: right;\n",
       "    }\n",
       "</style>\n",
       "<table border=\"1\" class=\"dataframe\">\n",
       "  <thead>\n",
       "    <tr style=\"text-align: right;\">\n",
       "      <th>Outlet_Type</th>\n",
       "      <th>Grocery Store</th>\n",
       "      <th>Supermarket Type1</th>\n",
       "      <th>Supermarket Type2</th>\n",
       "      <th>Supermarket Type3</th>\n",
       "    </tr>\n",
       "  </thead>\n",
       "  <tbody>\n",
       "    <tr>\n",
       "      <th>Outlet_Size</th>\n",
       "      <td>Small</td>\n",
       "      <td>Small</td>\n",
       "      <td>Medium</td>\n",
       "      <td>Medium</td>\n",
       "    </tr>\n",
       "  </tbody>\n",
       "</table>\n",
       "</div>"
      ],
      "text/plain": [
       "Outlet_Type Grocery Store Supermarket Type1 Supermarket Type2  \\\n",
       "Outlet_Size         Small             Small            Medium   \n",
       "\n",
       "Outlet_Type Supermarket Type3  \n",
       "Outlet_Size            Medium  "
      ]
     },
     "execution_count": 26,
     "metadata": {},
     "output_type": "execute_result"
    }
   ],
   "source": [
    "outlet_size_mode= data.pivot_table(values='Outlet_Size', columns='Outlet_Type', aggfunc=(lambda x: x.mode()[0]))\n",
    "outlet_size_mode"
   ]
  },
  {
   "cell_type": "code",
   "execution_count": 27,
   "id": "c3821d9c-c3c7-43de-80c2-497aeb01fd43",
   "metadata": {},
   "outputs": [],
   "source": [
    "missing_values=data.Outlet_Size.isnull()"
   ]
  },
  {
   "cell_type": "code",
   "execution_count": 28,
   "id": "a3ae5478-daf9-429a-ad41-a5a9ae157690",
   "metadata": {},
   "outputs": [],
   "source": [
    "data.loc[missing_values, 'Outlet_Size']=data.loc[missing_values,'Outlet_Type'].apply(lambda x: outlet_size_mode[x])"
   ]
  },
  {
   "cell_type": "code",
   "execution_count": 29,
   "id": "e2f32f0b-38d0-482c-a51f-9424c70a3aa2",
   "metadata": {},
   "outputs": [
    {
     "data": {
      "text/html": [
       "<div>\n",
       "<style scoped>\n",
       "    .dataframe tbody tr th:only-of-type {\n",
       "        vertical-align: middle;\n",
       "    }\n",
       "\n",
       "    .dataframe tbody tr th {\n",
       "        vertical-align: top;\n",
       "    }\n",
       "\n",
       "    .dataframe thead th {\n",
       "        text-align: right;\n",
       "    }\n",
       "</style>\n",
       "<table border=\"1\" class=\"dataframe\">\n",
       "  <thead>\n",
       "    <tr style=\"text-align: right;\">\n",
       "      <th></th>\n",
       "      <th>Outlet_Size</th>\n",
       "      <th>Outlet_Type</th>\n",
       "    </tr>\n",
       "  </thead>\n",
       "  <tbody>\n",
       "    <tr>\n",
       "      <th>0</th>\n",
       "      <td>Medium</td>\n",
       "      <td>Supermarket Type1</td>\n",
       "    </tr>\n",
       "    <tr>\n",
       "      <th>1</th>\n",
       "      <td>Medium</td>\n",
       "      <td>Supermarket Type2</td>\n",
       "    </tr>\n",
       "    <tr>\n",
       "      <th>2</th>\n",
       "      <td>Medium</td>\n",
       "      <td>Supermarket Type1</td>\n",
       "    </tr>\n",
       "    <tr>\n",
       "      <th>3</th>\n",
       "      <td>Small</td>\n",
       "      <td>Grocery Store</td>\n",
       "    </tr>\n",
       "    <tr>\n",
       "      <th>4</th>\n",
       "      <td>High</td>\n",
       "      <td>Supermarket Type1</td>\n",
       "    </tr>\n",
       "    <tr>\n",
       "      <th>...</th>\n",
       "      <td>...</td>\n",
       "      <td>...</td>\n",
       "    </tr>\n",
       "    <tr>\n",
       "      <th>5676</th>\n",
       "      <td>Small</td>\n",
       "      <td>Supermarket Type1</td>\n",
       "    </tr>\n",
       "    <tr>\n",
       "      <th>5677</th>\n",
       "      <td>Medium</td>\n",
       "      <td>Supermarket Type2</td>\n",
       "    </tr>\n",
       "    <tr>\n",
       "      <th>5678</th>\n",
       "      <td>Small</td>\n",
       "      <td>Supermarket Type1</td>\n",
       "    </tr>\n",
       "    <tr>\n",
       "      <th>5679</th>\n",
       "      <td>Small</td>\n",
       "      <td>Supermarket Type1</td>\n",
       "    </tr>\n",
       "    <tr>\n",
       "      <th>5680</th>\n",
       "      <td>Small</td>\n",
       "      <td>Supermarket Type1</td>\n",
       "    </tr>\n",
       "  </tbody>\n",
       "</table>\n",
       "<p>14204 rows × 2 columns</p>\n",
       "</div>"
      ],
      "text/plain": [
       "     Outlet_Size        Outlet_Type\n",
       "0         Medium  Supermarket Type1\n",
       "1         Medium  Supermarket Type2\n",
       "2         Medium  Supermarket Type1\n",
       "3          Small      Grocery Store\n",
       "4           High  Supermarket Type1\n",
       "...          ...                ...\n",
       "5676       Small  Supermarket Type1\n",
       "5677      Medium  Supermarket Type2\n",
       "5678       Small  Supermarket Type1\n",
       "5679       Small  Supermarket Type1\n",
       "5680       Small  Supermarket Type1\n",
       "\n",
       "[14204 rows x 2 columns]"
      ]
     },
     "execution_count": 29,
     "metadata": {},
     "output_type": "execute_result"
    }
   ],
   "source": [
    "data[['Outlet_Size','Outlet_Type']]"
   ]
  },
  {
   "cell_type": "code",
   "execution_count": 30,
   "id": "c3ba9419-3e70-4842-ad4c-5d0fb05a6448",
   "metadata": {},
   "outputs": [
    {
     "data": {
      "text/plain": [
       "Item_Identifier              0\n",
       "Item_Weight                  0\n",
       "Item_Fat_Content             0\n",
       "Item_Visibility              0\n",
       "Item_Type                    0\n",
       "Item_MRP                     0\n",
       "Outlet_Identifier            0\n",
       "Outlet_Establishment_Year    0\n",
       "Outlet_Size                  0\n",
       "Outlet_Location_Type         0\n",
       "Outlet_Type                  0\n",
       "Item_Outlet_Sales            0\n",
       "source                       0\n",
       "Item_category                0\n",
       "dtype: int64"
      ]
     },
     "execution_count": 30,
     "metadata": {},
     "output_type": "execute_result"
    }
   ],
   "source": [
    "data.isna().sum()"
   ]
  },
  {
   "cell_type": "code",
   "execution_count": null,
   "id": "dbb78b23-f817-4760-a887-00612b8d6d67",
   "metadata": {},
   "outputs": [],
   "source": []
  },
  {
   "cell_type": "code",
   "execution_count": null,
   "id": "4e6f879a-eb4e-47d7-8bd8-d1c1b8bb74ce",
   "metadata": {},
   "outputs": [],
   "source": []
  },
  {
   "cell_type": "code",
   "execution_count": null,
   "id": "b10d1c1a-cddb-4132-a1c0-a9c8159e6e16",
   "metadata": {},
   "outputs": [],
   "source": []
  },
  {
   "cell_type": "code",
   "execution_count": null,
   "id": "ae9286e7-ccae-49cb-a559-1b41843241d3",
   "metadata": {},
   "outputs": [],
   "source": []
  },
  {
   "cell_type": "markdown",
   "id": "66b06ef6-32db-4e4b-a14e-e4a28f9fc8b3",
   "metadata": {},
   "source": [
    "## EDA"
   ]
  },
  {
   "cell_type": "code",
   "execution_count": 31,
   "id": "82d3f26a-0229-401d-8602-adfe61ff594d",
   "metadata": {},
   "outputs": [
    {
     "data": {
      "text/html": [
       "<div>\n",
       "<style scoped>\n",
       "    .dataframe tbody tr th:only-of-type {\n",
       "        vertical-align: middle;\n",
       "    }\n",
       "\n",
       "    .dataframe tbody tr th {\n",
       "        vertical-align: top;\n",
       "    }\n",
       "\n",
       "    .dataframe thead th {\n",
       "        text-align: right;\n",
       "    }\n",
       "</style>\n",
       "<table border=\"1\" class=\"dataframe\">\n",
       "  <thead>\n",
       "    <tr style=\"text-align: right;\">\n",
       "      <th></th>\n",
       "      <th>Item_Weight</th>\n",
       "      <th>Item_Visibility</th>\n",
       "      <th>Item_MRP</th>\n",
       "      <th>Outlet_Establishment_Year</th>\n",
       "      <th>Item_Outlet_Sales</th>\n",
       "    </tr>\n",
       "  </thead>\n",
       "  <tbody>\n",
       "    <tr>\n",
       "      <th>count</th>\n",
       "      <td>14204.000000</td>\n",
       "      <td>14204.000000</td>\n",
       "      <td>14204.000000</td>\n",
       "      <td>14204.000000</td>\n",
       "      <td>14204.000000</td>\n",
       "    </tr>\n",
       "    <tr>\n",
       "      <th>mean</th>\n",
       "      <td>12.793380</td>\n",
       "      <td>0.065953</td>\n",
       "      <td>141.004977</td>\n",
       "      <td>1997.830681</td>\n",
       "      <td>1308.865489</td>\n",
       "    </tr>\n",
       "    <tr>\n",
       "      <th>std</th>\n",
       "      <td>4.651716</td>\n",
       "      <td>0.051459</td>\n",
       "      <td>62.086938</td>\n",
       "      <td>8.371664</td>\n",
       "      <td>1699.791423</td>\n",
       "    </tr>\n",
       "    <tr>\n",
       "      <th>min</th>\n",
       "      <td>4.555000</td>\n",
       "      <td>0.000000</td>\n",
       "      <td>31.290000</td>\n",
       "      <td>1985.000000</td>\n",
       "      <td>0.000000</td>\n",
       "    </tr>\n",
       "    <tr>\n",
       "      <th>25%</th>\n",
       "      <td>8.710000</td>\n",
       "      <td>0.027036</td>\n",
       "      <td>94.012000</td>\n",
       "      <td>1987.000000</td>\n",
       "      <td>0.000000</td>\n",
       "    </tr>\n",
       "    <tr>\n",
       "      <th>50%</th>\n",
       "      <td>12.600000</td>\n",
       "      <td>0.054021</td>\n",
       "      <td>142.247000</td>\n",
       "      <td>1999.000000</td>\n",
       "      <td>559.272000</td>\n",
       "    </tr>\n",
       "    <tr>\n",
       "      <th>75%</th>\n",
       "      <td>16.750000</td>\n",
       "      <td>0.094037</td>\n",
       "      <td>185.855600</td>\n",
       "      <td>2004.000000</td>\n",
       "      <td>2163.184200</td>\n",
       "    </tr>\n",
       "    <tr>\n",
       "      <th>max</th>\n",
       "      <td>21.350000</td>\n",
       "      <td>0.328391</td>\n",
       "      <td>266.888400</td>\n",
       "      <td>2009.000000</td>\n",
       "      <td>13086.964800</td>\n",
       "    </tr>\n",
       "  </tbody>\n",
       "</table>\n",
       "</div>"
      ],
      "text/plain": [
       "        Item_Weight  Item_Visibility      Item_MRP  Outlet_Establishment_Year  \\\n",
       "count  14204.000000     14204.000000  14204.000000               14204.000000   \n",
       "mean      12.793380         0.065953    141.004977                1997.830681   \n",
       "std        4.651716         0.051459     62.086938                   8.371664   \n",
       "min        4.555000         0.000000     31.290000                1985.000000   \n",
       "25%        8.710000         0.027036     94.012000                1987.000000   \n",
       "50%       12.600000         0.054021    142.247000                1999.000000   \n",
       "75%       16.750000         0.094037    185.855600                2004.000000   \n",
       "max       21.350000         0.328391    266.888400                2009.000000   \n",
       "\n",
       "       Item_Outlet_Sales  \n",
       "count       14204.000000  \n",
       "mean         1308.865489  \n",
       "std          1699.791423  \n",
       "min             0.000000  \n",
       "25%             0.000000  \n",
       "50%           559.272000  \n",
       "75%          2163.184200  \n",
       "max         13086.964800  "
      ]
     },
     "execution_count": 31,
     "metadata": {},
     "output_type": "execute_result"
    }
   ],
   "source": [
    "data.describe()"
   ]
  },
  {
   "cell_type": "code",
   "execution_count": 32,
   "id": "0e5ff6a8-d4f5-43f8-b694-51d0446e4315",
   "metadata": {},
   "outputs": [],
   "source": [
    "sns.set()"
   ]
  },
  {
   "cell_type": "code",
   "execution_count": 33,
   "id": "c60f7f48-88e7-4dee-8293-780525a037e2",
   "metadata": {},
   "outputs": [
    {
     "data": {
      "text/plain": [
       "<seaborn.axisgrid.FacetGrid at 0x7f9e79ec49d0>"
      ]
     },
     "execution_count": 33,
     "metadata": {},
     "output_type": "execute_result"
    },
    {
     "data": {
      "text/plain": [
       "<Figure size 576x576 with 0 Axes>"
      ]
     },
     "metadata": {},
     "output_type": "display_data"
    },
    {
     "data": {
      "image/png": "[encoded data removed]",
      "text/plain": [
       "<Figure size 360x360 with 1 Axes>"
      ]
     },
     "metadata": {},
     "output_type": "display_data"
    }
   ],
   "source": [
    "plt.figure(figsize=(8,8))\n",
    "sns.displot(data.Item_Weight)"
   ]
  },
  {
   "cell_type": "code",
   "execution_count": 34,
   "id": "c48ff841-46ac-4418-8589-0fb23e14e789",
   "metadata": {},
   "outputs": [
    {
     "data": {
      "text/plain": [
       "<seaborn.axisgrid.FacetGrid at 0x7f9e68b4efa0>"
      ]
     },
     "execution_count": 34,
     "metadata": {},
     "output_type": "execute_result"
    },
    {
     "data": {
      "text/plain": [
       "<Figure size 576x576 with 0 Axes>"
      ]
     },
     "metadata": {},
     "output_type": "display_data"
    },
    {
     "data": {
      "image/png": "[encoded data removed]",
      "text/plain": [
       "<Figure size 360x360 with 1 Axes>"
      ]
     },
     "metadata": {},
     "output_type": "display_data"
    }
   ],
   "source": [
    "plt.figure(figsize=(8,8))\n",
    "sns.displot(data.Item_Visibility)"
   ]
  },
  {
   "cell_type": "code",
   "execution_count": 35,
   "id": "c75af396-0972-40e2-9fed-34f9bea9211c",
   "metadata": {},
   "outputs": [
    {
     "data": {
      "text/plain": [
       "<seaborn.axisgrid.FacetGrid at 0x7f9e7a11adf0>"
      ]
     },
     "execution_count": 35,
     "metadata": {},
     "output_type": "execute_result"
    },
    {
     "data": {
      "text/plain": [
       "<Figure size 576x576 with 0 Axes>"
      ]
     },
     "metadata": {},
     "output_type": "display_data"
    },
    {
     "data": {
      "image/png": "[encoded data removed]",
      "text/plain": [
       "<Figure size 360x360 with 1 Axes>"
      ]
     },
     "metadata": {},
     "output_type": "display_data"
    }
   ],
   "source": [
    "plt.figure(figsize=(8,8))\n",
    "sns.displot(data.Item_MRP)"
   ]
  },
  {
   "cell_type": "code",
   "execution_count": 36,
   "id": "a3cee654-a37e-4768-a7c5-56f5609f1253",
   "metadata": {},
   "outputs": [
    {
     "data": {
      "text/plain": [
       "<seaborn.axisgrid.FacetGrid at 0x7f9e68ccad90>"
      ]
     },
     "execution_count": 36,
     "metadata": {},
     "output_type": "execute_result"
    },
    {
     "data": {
      "text/plain": [
       "<Figure size 576x576 with 0 Axes>"
      ]
     },
     "metadata": {},
     "output_type": "display_data"
    },
    {
     "data": {
      "image/png": "[encoded data removed]",
      "text/plain": [
       "<Figure size 360x360 with 1 Axes>"
      ]
     },
     "metadata": {},
     "output_type": "display_data"
    }
   ],
   "source": [
    "plt.figure(figsize=(8,8))\n",
    "sns.displot(data.Item_Outlet_Sales)"
   ]
  },
  {
   "cell_type": "code",
   "execution_count": 37,
   "id": "9514d9f4-d83d-4bcd-9d27-79558edb56c0",
   "metadata": {
    "tags": []
   },
   "outputs": [
    {
     "data": {
      "image/png": "[encoded data removed]",
      "text/plain": [
       "<Figure size 576x576 with 1 Axes>"
      ]
     },
     "metadata": {},
     "output_type": "display_data"
    }
   ],
   "source": [
    "plt.figure(figsize=(8,8))\n",
    "sns.countplot(data=data,x='Outlet_Establishment_Year')\n",
    "plt.show()"
   ]
  },
  {
   "cell_type": "code",
   "execution_count": 38,
   "id": "0c8cac76-7251-4619-9dfd-8dd2bd1dfa64",
   "metadata": {},
   "outputs": [
    {
     "data": {
      "image/png": "[encoded data removed]",
      "text/plain": [
       "<Figure size 576x576 with 1 Axes>"
      ]
     },
     "metadata": {},
     "output_type": "display_data"
    }
   ],
   "source": [
    "plt.figure(figsize=(8,8))\n",
    "sns.countplot(data=data,x='Item_Fat_Content')\n",
    "plt.show()"
   ]
  },
  {
   "cell_type": "code",
   "execution_count": 39,
   "id": "5f0dc0f3-3eea-4574-a9bf-5af8ae709dd2",
   "metadata": {},
   "outputs": [
    {
     "data": {
      "text/plain": [
       "Low Fat    8485\n",
       "Regular    4824\n",
       "LF          522\n",
       "reg         195\n",
       "low fat     178\n",
       "Name: Item_Fat_Content, dtype: int64"
      ]
     },
     "execution_count": 39,
     "metadata": {},
     "output_type": "execute_result"
    }
   ],
   "source": [
    "data.Item_Fat_Content.value_counts()"
   ]
  },
  {
   "cell_type": "code",
   "execution_count": 40,
   "id": "17df90fa-96c8-42ad-920a-f29495440130",
   "metadata": {},
   "outputs": [],
   "source": [
    "data.replace({'Item_Fat_Content':{'low fat':'Low Fat', 'LF':'Low Fat','reg':'Regular'}},inplace=True)"
   ]
  },
  {
   "cell_type": "code",
   "execution_count": 41,
   "id": "4eabfb22-8fdf-479a-a6a5-11646e8627f1",
   "metadata": {},
   "outputs": [
    {
     "data": {
      "image/png": "[encoded data removed]",
      "text/plain": [
       "<Figure size 576x576 with 1 Axes>"
      ]
     },
     "metadata": {},
     "output_type": "display_data"
    }
   ],
   "source": [
    "plt.figure(figsize=(8,8))\n",
    "sns.countplot(data=data,x='Item_Fat_Content')\n",
    "plt.show()"
   ]
  },
  {
   "cell_type": "code",
   "execution_count": 42,
   "id": "049e9674-441f-41cf-a3e2-ff1fa2027061",
   "metadata": {},
   "outputs": [
    {
     "data": {
      "image/png": "[encoded data removed]",
      "text/plain": [
       "<Figure size 1728x576 with 1 Axes>"
      ]
     },
     "metadata": {},
     "output_type": "display_data"
    }
   ],
   "source": [
    "plt.figure(figsize=(24,8))\n",
    "sns.countplot(data=data,x='Item_Type')\n",
    "plt.show()"
   ]
  },
  {
   "cell_type": "markdown",
   "id": "1e2dd141-8611-43c1-a864-8cfc66024641",
   "metadata": {},
   "source": [
    "## we can use the same approach for Item_Type as we did for Item_Fat_Content, but for now lets train it this way only"
   ]
  },
  {
   "cell_type": "code",
   "execution_count": 43,
   "id": "84a48633-a4a2-4c70-80d5-71909cd483c1",
   "metadata": {},
   "outputs": [
    {
     "data": {
      "image/png": "[encoded data removed]",
      "text/plain": [
       "<Figure size 576x576 with 1 Axes>"
      ]
     },
     "metadata": {},
     "output_type": "display_data"
    }
   ],
   "source": [
    "plt.figure(figsize=(8,8))\n",
    "sns.countplot(data=data,x='Outlet_Size')\n",
    "plt.show()"
   ]
  },
  {
   "cell_type": "code",
   "execution_count": null,
   "id": "78e75e5a-f1cb-4a18-adf6-ae1b13f65854",
   "metadata": {},
   "outputs": [],
   "source": []
  },
  {
   "cell_type": "code",
   "execution_count": null,
   "id": "d4011682-ef3a-4058-8ef9-cd2ffe1c1b4d",
   "metadata": {},
   "outputs": [],
   "source": []
  },
  {
   "cell_type": "markdown",
   "id": "43807caa-c4ae-43fa-9025-336c41af0f46",
   "metadata": {},
   "source": [
    "## make subsets of catergorical and numerical data"
   ]
  },
  {
   "cell_type": "code",
   "execution_count": 44,
   "id": "b966732d-0dd5-418b-8090-769df3eb8820",
   "metadata": {},
   "outputs": [
    {
     "data": {
      "text/html": [
       "<div>\n",
       "<style scoped>\n",
       "    .dataframe tbody tr th:only-of-type {\n",
       "        vertical-align: middle;\n",
       "    }\n",
       "\n",
       "    .dataframe tbody tr th {\n",
       "        vertical-align: top;\n",
       "    }\n",
       "\n",
       "    .dataframe thead th {\n",
       "        text-align: right;\n",
       "    }\n",
       "</style>\n",
       "<table border=\"1\" class=\"dataframe\">\n",
       "  <thead>\n",
       "    <tr style=\"text-align: right;\">\n",
       "      <th></th>\n",
       "      <th>Item_Identifier</th>\n",
       "      <th>Item_Fat_Content</th>\n",
       "      <th>Item_Type</th>\n",
       "      <th>Outlet_Identifier</th>\n",
       "      <th>Outlet_Size</th>\n",
       "      <th>Outlet_Location_Type</th>\n",
       "      <th>Outlet_Type</th>\n",
       "      <th>source</th>\n",
       "      <th>Item_category</th>\n",
       "    </tr>\n",
       "  </thead>\n",
       "  <tbody>\n",
       "    <tr>\n",
       "      <th>0</th>\n",
       "      <td>FDA15</td>\n",
       "      <td>Low Fat</td>\n",
       "      <td>Dairy</td>\n",
       "      <td>OUT049</td>\n",
       "      <td>Medium</td>\n",
       "      <td>Tier 1</td>\n",
       "      <td>Supermarket Type1</td>\n",
       "      <td>train</td>\n",
       "      <td>FD</td>\n",
       "    </tr>\n",
       "    <tr>\n",
       "      <th>1</th>\n",
       "      <td>DRC01</td>\n",
       "      <td>Regular</td>\n",
       "      <td>Soft Drinks</td>\n",
       "      <td>OUT018</td>\n",
       "      <td>Medium</td>\n",
       "      <td>Tier 3</td>\n",
       "      <td>Supermarket Type2</td>\n",
       "      <td>train</td>\n",
       "      <td>DR</td>\n",
       "    </tr>\n",
       "  </tbody>\n",
       "</table>\n",
       "</div>"
      ],
      "text/plain": [
       "  Item_Identifier Item_Fat_Content    Item_Type Outlet_Identifier Outlet_Size  \\\n",
       "0           FDA15          Low Fat        Dairy            OUT049      Medium   \n",
       "1           DRC01          Regular  Soft Drinks            OUT018      Medium   \n",
       "\n",
       "  Outlet_Location_Type        Outlet_Type source Item_category  \n",
       "0               Tier 1  Supermarket Type1  train            FD  \n",
       "1               Tier 3  Supermarket Type2  train            DR  "
      ]
     },
     "execution_count": 44,
     "metadata": {},
     "output_type": "execute_result"
    }
   ],
   "source": [
    "categorial_features = data.select_dtypes(include=[object])\n",
    "categorial_features.head(2)"
   ]
  },
  {
   "cell_type": "code",
   "execution_count": 45,
   "id": "39ca9034-0f37-4e7d-ba22-33cc093f9038",
   "metadata": {},
   "outputs": [
    {
     "data": {
      "text/html": [
       "<div>\n",
       "<style scoped>\n",
       "    .dataframe tbody tr th:only-of-type {\n",
       "        vertical-align: middle;\n",
       "    }\n",
       "\n",
       "    .dataframe tbody tr th {\n",
       "        vertical-align: top;\n",
       "    }\n",
       "\n",
       "    .dataframe thead th {\n",
       "        text-align: right;\n",
       "    }\n",
       "</style>\n",
       "<table border=\"1\" class=\"dataframe\">\n",
       "  <thead>\n",
       "    <tr style=\"text-align: right;\">\n",
       "      <th></th>\n",
       "      <th>Item_Weight</th>\n",
       "      <th>Item_Visibility</th>\n",
       "      <th>Item_MRP</th>\n",
       "      <th>Outlet_Establishment_Year</th>\n",
       "      <th>Item_Outlet_Sales</th>\n",
       "    </tr>\n",
       "  </thead>\n",
       "  <tbody>\n",
       "    <tr>\n",
       "      <th>0</th>\n",
       "      <td>9.30</td>\n",
       "      <td>0.016047</td>\n",
       "      <td>249.8092</td>\n",
       "      <td>1999</td>\n",
       "      <td>3735.1380</td>\n",
       "    </tr>\n",
       "    <tr>\n",
       "      <th>1</th>\n",
       "      <td>5.92</td>\n",
       "      <td>0.019278</td>\n",
       "      <td>48.2692</td>\n",
       "      <td>2009</td>\n",
       "      <td>443.4228</td>\n",
       "    </tr>\n",
       "  </tbody>\n",
       "</table>\n",
       "</div>"
      ],
      "text/plain": [
       "   Item_Weight  Item_Visibility  Item_MRP  Outlet_Establishment_Year  \\\n",
       "0         9.30         0.016047  249.8092                       1999   \n",
       "1         5.92         0.019278   48.2692                       2009   \n",
       "\n",
       "   Item_Outlet_Sales  \n",
       "0          3735.1380  \n",
       "1           443.4228  "
      ]
     },
     "execution_count": 45,
     "metadata": {},
     "output_type": "execute_result"
    }
   ],
   "source": [
    "numerical_features = data.select_dtypes(include=[np.number])\n",
    "numerical_features.head(2)"
   ]
  },
  {
   "cell_type": "code",
   "execution_count": 46,
   "id": "f4f57fb5-9ac2-488f-98c5-37da149b6946",
   "metadata": {},
   "outputs": [
    {
     "data": {
      "text/plain": [
       "<AxesSubplot:>"
      ]
     },
     "execution_count": 46,
     "metadata": {},
     "output_type": "execute_result"
    },
    {
     "data": {
      "image/png": "[encoded data removed]",
      "text/plain": [
       "<Figure size 432x288 with 2 Axes>"
      ]
     },
     "metadata": {},
     "output_type": "display_data"
    }
   ],
   "source": [
    "sns.heatmap(numerical_features.corr())"
   ]
  },
  {
   "cell_type": "code",
   "execution_count": 47,
   "id": "2e7007e2-ae46-4373-8ffe-435827593d12",
   "metadata": {},
   "outputs": [
    {
     "data": {
      "text/html": [
       "<div>\n",
       "<style scoped>\n",
       "    .dataframe tbody tr th:only-of-type {\n",
       "        vertical-align: middle;\n",
       "    }\n",
       "\n",
       "    .dataframe tbody tr th {\n",
       "        vertical-align: top;\n",
       "    }\n",
       "\n",
       "    .dataframe thead th {\n",
       "        text-align: right;\n",
       "    }\n",
       "</style>\n",
       "<table border=\"1\" class=\"dataframe\">\n",
       "  <thead>\n",
       "    <tr style=\"text-align: right;\">\n",
       "      <th></th>\n",
       "      <th>Item_Identifier</th>\n",
       "      <th>Item_Weight</th>\n",
       "      <th>Item_Fat_Content</th>\n",
       "      <th>Item_Visibility</th>\n",
       "      <th>Item_Type</th>\n",
       "      <th>Item_MRP</th>\n",
       "      <th>Outlet_Identifier</th>\n",
       "      <th>Outlet_Establishment_Year</th>\n",
       "      <th>Outlet_Size</th>\n",
       "      <th>Outlet_Location_Type</th>\n",
       "      <th>Outlet_Type</th>\n",
       "      <th>Item_Outlet_Sales</th>\n",
       "      <th>source</th>\n",
       "      <th>Item_category</th>\n",
       "    </tr>\n",
       "  </thead>\n",
       "  <tbody>\n",
       "    <tr>\n",
       "      <th>0</th>\n",
       "      <td>FDA15</td>\n",
       "      <td>9.30</td>\n",
       "      <td>Low Fat</td>\n",
       "      <td>0.016047</td>\n",
       "      <td>Dairy</td>\n",
       "      <td>249.8092</td>\n",
       "      <td>OUT049</td>\n",
       "      <td>1999</td>\n",
       "      <td>Medium</td>\n",
       "      <td>Tier 1</td>\n",
       "      <td>Supermarket Type1</td>\n",
       "      <td>3735.1380</td>\n",
       "      <td>train</td>\n",
       "      <td>FD</td>\n",
       "    </tr>\n",
       "    <tr>\n",
       "      <th>1</th>\n",
       "      <td>DRC01</td>\n",
       "      <td>5.92</td>\n",
       "      <td>Regular</td>\n",
       "      <td>0.019278</td>\n",
       "      <td>Soft Drinks</td>\n",
       "      <td>48.2692</td>\n",
       "      <td>OUT018</td>\n",
       "      <td>2009</td>\n",
       "      <td>Medium</td>\n",
       "      <td>Tier 3</td>\n",
       "      <td>Supermarket Type2</td>\n",
       "      <td>443.4228</td>\n",
       "      <td>train</td>\n",
       "      <td>DR</td>\n",
       "    </tr>\n",
       "    <tr>\n",
       "      <th>2</th>\n",
       "      <td>FDN15</td>\n",
       "      <td>17.50</td>\n",
       "      <td>Low Fat</td>\n",
       "      <td>0.016760</td>\n",
       "      <td>Meat</td>\n",
       "      <td>141.6180</td>\n",
       "      <td>OUT049</td>\n",
       "      <td>1999</td>\n",
       "      <td>Medium</td>\n",
       "      <td>Tier 1</td>\n",
       "      <td>Supermarket Type1</td>\n",
       "      <td>2097.2700</td>\n",
       "      <td>train</td>\n",
       "      <td>FD</td>\n",
       "    </tr>\n",
       "    <tr>\n",
       "      <th>3</th>\n",
       "      <td>FDX07</td>\n",
       "      <td>19.20</td>\n",
       "      <td>Regular</td>\n",
       "      <td>0.000000</td>\n",
       "      <td>Fruits and Vegetables</td>\n",
       "      <td>182.0950</td>\n",
       "      <td>OUT010</td>\n",
       "      <td>1998</td>\n",
       "      <td>Small</td>\n",
       "      <td>Tier 3</td>\n",
       "      <td>Grocery Store</td>\n",
       "      <td>732.3800</td>\n",
       "      <td>train</td>\n",
       "      <td>FD</td>\n",
       "    </tr>\n",
       "    <tr>\n",
       "      <th>4</th>\n",
       "      <td>NCD19</td>\n",
       "      <td>8.93</td>\n",
       "      <td>Low Fat</td>\n",
       "      <td>0.000000</td>\n",
       "      <td>Household</td>\n",
       "      <td>53.8614</td>\n",
       "      <td>OUT013</td>\n",
       "      <td>1987</td>\n",
       "      <td>High</td>\n",
       "      <td>Tier 3</td>\n",
       "      <td>Supermarket Type1</td>\n",
       "      <td>994.7052</td>\n",
       "      <td>train</td>\n",
       "      <td>NC</td>\n",
       "    </tr>\n",
       "  </tbody>\n",
       "</table>\n",
       "</div>"
      ],
      "text/plain": [
       "  Item_Identifier  Item_Weight Item_Fat_Content  Item_Visibility  \\\n",
       "0           FDA15         9.30          Low Fat         0.016047   \n",
       "1           DRC01         5.92          Regular         0.019278   \n",
       "2           FDN15        17.50          Low Fat         0.016760   \n",
       "3           FDX07        19.20          Regular         0.000000   \n",
       "4           NCD19         8.93          Low Fat         0.000000   \n",
       "\n",
       "               Item_Type  Item_MRP Outlet_Identifier  \\\n",
       "0                  Dairy  249.8092            OUT049   \n",
       "1            Soft Drinks   48.2692            OUT018   \n",
       "2                   Meat  141.6180            OUT049   \n",
       "3  Fruits and Vegetables  182.0950            OUT010   \n",
       "4              Household   53.8614            OUT013   \n",
       "\n",
       "   Outlet_Establishment_Year Outlet_Size Outlet_Location_Type  \\\n",
       "0                       1999      Medium               Tier 1   \n",
       "1                       2009      Medium               Tier 3   \n",
       "2                       1999      Medium               Tier 1   \n",
       "3                       1998       Small               Tier 3   \n",
       "4                       1987        High               Tier 3   \n",
       "\n",
       "         Outlet_Type  Item_Outlet_Sales source Item_category  \n",
       "0  Supermarket Type1          3735.1380  train            FD  \n",
       "1  Supermarket Type2           443.4228  train            DR  \n",
       "2  Supermarket Type1          2097.2700  train            FD  \n",
       "3      Grocery Store           732.3800  train            FD  \n",
       "4  Supermarket Type1           994.7052  train            NC  "
      ]
     },
     "execution_count": 47,
     "metadata": {},
     "output_type": "execute_result"
    }
   ],
   "source": [
    "data.head()"
   ]
  },
  {
   "cell_type": "code",
   "execution_count": null,
   "id": "f523e322-dae1-4e95-bf61-c7d4f62c5175",
   "metadata": {},
   "outputs": [],
   "source": []
  },
  {
   "cell_type": "markdown",
   "id": "6ab2d857-73da-4723-86e1-80b9f9cded6e",
   "metadata": {},
   "source": [
    "## Data Preprocessing"
   ]
  },
  {
   "cell_type": "code",
   "execution_count": 48,
   "id": "ad243a91-dcbe-474f-afec-5f7f5a7d5098",
   "metadata": {},
   "outputs": [],
   "source": [
    "from sklearn.preprocessing import LabelEncoder"
   ]
  },
  {
   "cell_type": "markdown",
   "id": "a8e7962b-79df-4fff-b636-5548f91f0d13",
   "metadata": {},
   "source": [
    "- converting Item_Identifier data into numeric using LabelEncoder()"
   ]
  },
  {
   "cell_type": "code",
   "execution_count": 49,
   "id": "5378bb05-505e-4475-8450-3d3800e7b09e",
   "metadata": {},
   "outputs": [],
   "source": [
    "encoder=LabelEncoder()"
   ]
  },
  {
   "cell_type": "code",
   "execution_count": 50,
   "id": "a1042808-e2da-4ad7-a88a-2e4e35312357",
   "metadata": {},
   "outputs": [],
   "source": [
    "categorial_features=categorial_features.columns.tolist()"
   ]
  },
  {
   "cell_type": "code",
   "execution_count": 51,
   "id": "d7fd516a-4082-4310-91f4-d1cb246519fc",
   "metadata": {},
   "outputs": [],
   "source": [
    "data['Item_Identifier']= encoder.fit_transform(data['Item_Identifier'])"
   ]
  },
  {
   "cell_type": "code",
   "execution_count": 52,
   "id": "02623fe4-5c02-4517-b9eb-2b5ae8059033",
   "metadata": {},
   "outputs": [
    {
     "data": {
      "text/plain": [
       "0        156\n",
       "1          8\n",
       "2        662\n",
       "3       1121\n",
       "4       1297\n",
       "        ... \n",
       "5676     233\n",
       "5677     308\n",
       "5678    1426\n",
       "5679     521\n",
       "5680     997\n",
       "Name: Item_Identifier, Length: 14204, dtype: int64"
      ]
     },
     "execution_count": 52,
     "metadata": {},
     "output_type": "execute_result"
    }
   ],
   "source": [
    "data.Item_Identifier"
   ]
  },
  {
   "cell_type": "markdown",
   "id": "97e49830-4dde-4c2f-a091-9b12aeacbd00",
   "metadata": {},
   "source": [
    "- converting all categorical data into numeric using LabelEncoder()"
   ]
  },
  {
   "cell_type": "code",
   "execution_count": 53,
   "id": "112c156d-3180-46c1-8b0e-182e1661a69b",
   "metadata": {},
   "outputs": [],
   "source": [
    "for cat in categorial_features:\n",
    "    data[cat]= encoder.fit_transform(data[cat])"
   ]
  },
  {
   "cell_type": "code",
   "execution_count": 54,
   "id": "b4942cf9-b7eb-49b6-8f7b-525a1b649e81",
   "metadata": {},
   "outputs": [
    {
     "data": {
      "text/html": [
       "<div>\n",
       "<style scoped>\n",
       "    .dataframe tbody tr th:only-of-type {\n",
       "        vertical-align: middle;\n",
       "    }\n",
       "\n",
       "    .dataframe tbody tr th {\n",
       "        vertical-align: top;\n",
       "    }\n",
       "\n",
       "    .dataframe thead th {\n",
       "        text-align: right;\n",
       "    }\n",
       "</style>\n",
       "<table border=\"1\" class=\"dataframe\">\n",
       "  <thead>\n",
       "    <tr style=\"text-align: right;\">\n",
       "      <th></th>\n",
       "      <th>Item_Identifier</th>\n",
       "      <th>Item_Fat_Content</th>\n",
       "      <th>Item_Type</th>\n",
       "      <th>Outlet_Identifier</th>\n",
       "      <th>Outlet_Size</th>\n",
       "      <th>Outlet_Location_Type</th>\n",
       "      <th>Outlet_Type</th>\n",
       "      <th>source</th>\n",
       "      <th>Item_category</th>\n",
       "    </tr>\n",
       "  </thead>\n",
       "  <tbody>\n",
       "    <tr>\n",
       "      <th>0</th>\n",
       "      <td>156</td>\n",
       "      <td>0</td>\n",
       "      <td>4</td>\n",
       "      <td>9</td>\n",
       "      <td>1</td>\n",
       "      <td>0</td>\n",
       "      <td>1</td>\n",
       "      <td>1</td>\n",
       "      <td>1</td>\n",
       "    </tr>\n",
       "    <tr>\n",
       "      <th>1</th>\n",
       "      <td>8</td>\n",
       "      <td>1</td>\n",
       "      <td>14</td>\n",
       "      <td>3</td>\n",
       "      <td>1</td>\n",
       "      <td>2</td>\n",
       "      <td>2</td>\n",
       "      <td>1</td>\n",
       "      <td>0</td>\n",
       "    </tr>\n",
       "    <tr>\n",
       "      <th>2</th>\n",
       "      <td>662</td>\n",
       "      <td>0</td>\n",
       "      <td>10</td>\n",
       "      <td>9</td>\n",
       "      <td>1</td>\n",
       "      <td>0</td>\n",
       "      <td>1</td>\n",
       "      <td>1</td>\n",
       "      <td>1</td>\n",
       "    </tr>\n",
       "    <tr>\n",
       "      <th>3</th>\n",
       "      <td>1121</td>\n",
       "      <td>1</td>\n",
       "      <td>6</td>\n",
       "      <td>0</td>\n",
       "      <td>2</td>\n",
       "      <td>2</td>\n",
       "      <td>0</td>\n",
       "      <td>1</td>\n",
       "      <td>1</td>\n",
       "    </tr>\n",
       "    <tr>\n",
       "      <th>4</th>\n",
       "      <td>1297</td>\n",
       "      <td>0</td>\n",
       "      <td>9</td>\n",
       "      <td>1</td>\n",
       "      <td>0</td>\n",
       "      <td>2</td>\n",
       "      <td>1</td>\n",
       "      <td>1</td>\n",
       "      <td>2</td>\n",
       "    </tr>\n",
       "    <tr>\n",
       "      <th>...</th>\n",
       "      <td>...</td>\n",
       "      <td>...</td>\n",
       "      <td>...</td>\n",
       "      <td>...</td>\n",
       "      <td>...</td>\n",
       "      <td>...</td>\n",
       "      <td>...</td>\n",
       "      <td>...</td>\n",
       "      <td>...</td>\n",
       "    </tr>\n",
       "    <tr>\n",
       "      <th>5676</th>\n",
       "      <td>233</td>\n",
       "      <td>1</td>\n",
       "      <td>13</td>\n",
       "      <td>8</td>\n",
       "      <td>2</td>\n",
       "      <td>0</td>\n",
       "      <td>1</td>\n",
       "      <td>0</td>\n",
       "      <td>1</td>\n",
       "    </tr>\n",
       "    <tr>\n",
       "      <th>5677</th>\n",
       "      <td>308</td>\n",
       "      <td>1</td>\n",
       "      <td>15</td>\n",
       "      <td>3</td>\n",
       "      <td>1</td>\n",
       "      <td>2</td>\n",
       "      <td>2</td>\n",
       "      <td>0</td>\n",
       "      <td>1</td>\n",
       "    </tr>\n",
       "    <tr>\n",
       "      <th>5678</th>\n",
       "      <td>1426</td>\n",
       "      <td>0</td>\n",
       "      <td>8</td>\n",
       "      <td>7</td>\n",
       "      <td>2</td>\n",
       "      <td>1</td>\n",
       "      <td>1</td>\n",
       "      <td>0</td>\n",
       "      <td>2</td>\n",
       "    </tr>\n",
       "    <tr>\n",
       "      <th>5679</th>\n",
       "      <td>521</td>\n",
       "      <td>1</td>\n",
       "      <td>3</td>\n",
       "      <td>2</td>\n",
       "      <td>2</td>\n",
       "      <td>1</td>\n",
       "      <td>1</td>\n",
       "      <td>0</td>\n",
       "      <td>1</td>\n",
       "    </tr>\n",
       "    <tr>\n",
       "      <th>5680</th>\n",
       "      <td>997</td>\n",
       "      <td>1</td>\n",
       "      <td>3</td>\n",
       "      <td>7</td>\n",
       "      <td>2</td>\n",
       "      <td>1</td>\n",
       "      <td>1</td>\n",
       "      <td>0</td>\n",
       "      <td>1</td>\n",
       "    </tr>\n",
       "  </tbody>\n",
       "</table>\n",
       "<p>14204 rows × 9 columns</p>\n",
       "</div>"
      ],
      "text/plain": [
       "      Item_Identifier  Item_Fat_Content  Item_Type  Outlet_Identifier  \\\n",
       "0                 156                 0          4                  9   \n",
       "1                   8                 1         14                  3   \n",
       "2                 662                 0         10                  9   \n",
       "3                1121                 1          6                  0   \n",
       "4                1297                 0          9                  1   \n",
       "...               ...               ...        ...                ...   \n",
       "5676              233                 1         13                  8   \n",
       "5677              308                 1         15                  3   \n",
       "5678             1426                 0          8                  7   \n",
       "5679              521                 1          3                  2   \n",
       "5680              997                 1          3                  7   \n",
       "\n",
       "      Outlet_Size  Outlet_Location_Type  Outlet_Type  source  Item_category  \n",
       "0               1                     0            1       1              1  \n",
       "1               1                     2            2       1              0  \n",
       "2               1                     0            1       1              1  \n",
       "3               2                     2            0       1              1  \n",
       "4               0                     2            1       1              2  \n",
       "...           ...                   ...          ...     ...            ...  \n",
       "5676            2                     0            1       0              1  \n",
       "5677            1                     2            2       0              1  \n",
       "5678            2                     1            1       0              2  \n",
       "5679            2                     1            1       0              1  \n",
       "5680            2                     1            1       0              1  \n",
       "\n",
       "[14204 rows x 9 columns]"
      ]
     },
     "execution_count": 54,
     "metadata": {},
     "output_type": "execute_result"
    }
   ],
   "source": [
    "data[categorial_features]"
   ]
  },
  {
   "cell_type": "code",
   "execution_count": 55,
   "id": "beef6728-4866-4f9e-b33d-f71d66a906bc",
   "metadata": {},
   "outputs": [
    {
     "data": {
      "text/html": [
       "<div>\n",
       "<style scoped>\n",
       "    .dataframe tbody tr th:only-of-type {\n",
       "        vertical-align: middle;\n",
       "    }\n",
       "\n",
       "    .dataframe tbody tr th {\n",
       "        vertical-align: top;\n",
       "    }\n",
       "\n",
       "    .dataframe thead th {\n",
       "        text-align: right;\n",
       "    }\n",
       "</style>\n",
       "<table border=\"1\" class=\"dataframe\">\n",
       "  <thead>\n",
       "    <tr style=\"text-align: right;\">\n",
       "      <th></th>\n",
       "      <th>Item_Identifier</th>\n",
       "      <th>Item_Weight</th>\n",
       "      <th>Item_Fat_Content</th>\n",
       "      <th>Item_Visibility</th>\n",
       "      <th>Item_Type</th>\n",
       "      <th>Item_MRP</th>\n",
       "      <th>Outlet_Identifier</th>\n",
       "      <th>Outlet_Establishment_Year</th>\n",
       "      <th>Outlet_Size</th>\n",
       "      <th>Outlet_Location_Type</th>\n",
       "      <th>Outlet_Type</th>\n",
       "      <th>Item_Outlet_Sales</th>\n",
       "      <th>source</th>\n",
       "      <th>Item_category</th>\n",
       "    </tr>\n",
       "  </thead>\n",
       "  <tbody>\n",
       "    <tr>\n",
       "      <th>0</th>\n",
       "      <td>156</td>\n",
       "      <td>9.30</td>\n",
       "      <td>0</td>\n",
       "      <td>0.016047</td>\n",
       "      <td>4</td>\n",
       "      <td>249.8092</td>\n",
       "      <td>9</td>\n",
       "      <td>1999</td>\n",
       "      <td>1</td>\n",
       "      <td>0</td>\n",
       "      <td>1</td>\n",
       "      <td>3735.1380</td>\n",
       "      <td>1</td>\n",
       "      <td>1</td>\n",
       "    </tr>\n",
       "    <tr>\n",
       "      <th>1</th>\n",
       "      <td>8</td>\n",
       "      <td>5.92</td>\n",
       "      <td>1</td>\n",
       "      <td>0.019278</td>\n",
       "      <td>14</td>\n",
       "      <td>48.2692</td>\n",
       "      <td>3</td>\n",
       "      <td>2009</td>\n",
       "      <td>1</td>\n",
       "      <td>2</td>\n",
       "      <td>2</td>\n",
       "      <td>443.4228</td>\n",
       "      <td>1</td>\n",
       "      <td>0</td>\n",
       "    </tr>\n",
       "    <tr>\n",
       "      <th>2</th>\n",
       "      <td>662</td>\n",
       "      <td>17.50</td>\n",
       "      <td>0</td>\n",
       "      <td>0.016760</td>\n",
       "      <td>10</td>\n",
       "      <td>141.6180</td>\n",
       "      <td>9</td>\n",
       "      <td>1999</td>\n",
       "      <td>1</td>\n",
       "      <td>0</td>\n",
       "      <td>1</td>\n",
       "      <td>2097.2700</td>\n",
       "      <td>1</td>\n",
       "      <td>1</td>\n",
       "    </tr>\n",
       "    <tr>\n",
       "      <th>3</th>\n",
       "      <td>1121</td>\n",
       "      <td>19.20</td>\n",
       "      <td>1</td>\n",
       "      <td>0.000000</td>\n",
       "      <td>6</td>\n",
       "      <td>182.0950</td>\n",
       "      <td>0</td>\n",
       "      <td>1998</td>\n",
       "      <td>2</td>\n",
       "      <td>2</td>\n",
       "      <td>0</td>\n",
       "      <td>732.3800</td>\n",
       "      <td>1</td>\n",
       "      <td>1</td>\n",
       "    </tr>\n",
       "    <tr>\n",
       "      <th>4</th>\n",
       "      <td>1297</td>\n",
       "      <td>8.93</td>\n",
       "      <td>0</td>\n",
       "      <td>0.000000</td>\n",
       "      <td>9</td>\n",
       "      <td>53.8614</td>\n",
       "      <td>1</td>\n",
       "      <td>1987</td>\n",
       "      <td>0</td>\n",
       "      <td>2</td>\n",
       "      <td>1</td>\n",
       "      <td>994.7052</td>\n",
       "      <td>1</td>\n",
       "      <td>2</td>\n",
       "    </tr>\n",
       "  </tbody>\n",
       "</table>\n",
       "</div>"
      ],
      "text/plain": [
       "   Item_Identifier  Item_Weight  Item_Fat_Content  Item_Visibility  Item_Type  \\\n",
       "0              156         9.30                 0         0.016047          4   \n",
       "1                8         5.92                 1         0.019278         14   \n",
       "2              662        17.50                 0         0.016760         10   \n",
       "3             1121        19.20                 1         0.000000          6   \n",
       "4             1297         8.93                 0         0.000000          9   \n",
       "\n",
       "   Item_MRP  Outlet_Identifier  Outlet_Establishment_Year  Outlet_Size  \\\n",
       "0  249.8092                  9                       1999            1   \n",
       "1   48.2692                  3                       2009            1   \n",
       "2  141.6180                  9                       1999            1   \n",
       "3  182.0950                  0                       1998            2   \n",
       "4   53.8614                  1                       1987            0   \n",
       "\n",
       "   Outlet_Location_Type  Outlet_Type  Item_Outlet_Sales  source  Item_category  \n",
       "0                     0            1          3735.1380       1              1  \n",
       "1                     2            2           443.4228       1              0  \n",
       "2                     0            1          2097.2700       1              1  \n",
       "3                     2            0           732.3800       1              1  \n",
       "4                     2            1           994.7052       1              2  "
      ]
     },
     "execution_count": 55,
     "metadata": {},
     "output_type": "execute_result"
    }
   ],
   "source": [
    "data.head()"
   ]
  },
  {
   "cell_type": "code",
   "execution_count": null,
   "id": "c1e35485-cc9b-49df-9e38-f1d86bc5a071",
   "metadata": {},
   "outputs": [],
   "source": []
  },
  {
   "cell_type": "markdown",
   "id": "c263cd66-5d69-4b2a-8772-8104512adbed",
   "metadata": {},
   "source": [
    "## feature and target column"
   ]
  },
  {
   "cell_type": "code",
   "execution_count": 56,
   "id": "f1c35de4-96cf-4f82-8d24-73fb78a23863",
   "metadata": {},
   "outputs": [],
   "source": [
    "#Item_Outlet_Sales is our target column, so we'll be slpitting out dataset into X --> features, y-->Target\n",
    "X=data.drop(columns='Item_Outlet_Sales',axis=1)\n",
    "y=data['Item_Outlet_Sales']"
   ]
  },
  {
   "cell_type": "code",
   "execution_count": 57,
   "id": "260b2a9f-67f0-45a4-80f0-8640c0ca44fd",
   "metadata": {
    "scrolled": true,
    "tags": []
   },
   "outputs": [
    {
     "name": "stdout",
     "output_type": "stream",
     "text": [
      "      Item_Identifier  Item_Weight  Item_Fat_Content  Item_Visibility  \\\n",
      "0                 156         9.30                 0         0.016047   \n",
      "1                   8         5.92                 1         0.019278   \n",
      "2                 662        17.50                 0         0.016760   \n",
      "3                1121        19.20                 1         0.000000   \n",
      "4                1297         8.93                 0         0.000000   \n",
      "...               ...          ...               ...              ...   \n",
      "5676              233        10.50                 1         0.013496   \n",
      "5677              308         7.60                 1         0.142991   \n",
      "5678             1426        10.00                 0         0.073529   \n",
      "5679              521        15.30                 1         0.000000   \n",
      "5680              997         9.50                 1         0.104720   \n",
      "\n",
      "      Item_Type  Item_MRP  Outlet_Identifier  Outlet_Establishment_Year  \\\n",
      "0             4  249.8092                  9                       1999   \n",
      "1            14   48.2692                  3                       2009   \n",
      "2            10  141.6180                  9                       1999   \n",
      "3             6  182.0950                  0                       1998   \n",
      "4             9   53.8614                  1                       1987   \n",
      "...         ...       ...                ...                        ...   \n",
      "5676         13  141.3154                  8                       1997   \n",
      "5677         15  169.1448                  3                       2009   \n",
      "5678          8  118.7440                  7                       2002   \n",
      "5679          3  214.6218                  2                       2007   \n",
      "5680          3   79.7960                  7                       2002   \n",
      "\n",
      "      Outlet_Size  Outlet_Location_Type  Outlet_Type  source  Item_category  \n",
      "0               1                     0            1       1              1  \n",
      "1               1                     2            2       1              0  \n",
      "2               1                     0            1       1              1  \n",
      "3               2                     2            0       1              1  \n",
      "4               0                     2            1       1              2  \n",
      "...           ...                   ...          ...     ...            ...  \n",
      "5676            2                     0            1       0              1  \n",
      "5677            1                     2            2       0              1  \n",
      "5678            2                     1            1       0              2  \n",
      "5679            2                     1            1       0              1  \n",
      "5680            2                     1            1       0              1  \n",
      "\n",
      "[14204 rows x 13 columns]\n"
     ]
    }
   ],
   "source": [
    "print(X)"
   ]
  },
  {
   "cell_type": "code",
   "execution_count": 58,
   "id": "d732942e-352a-45fb-b8d4-371a79de853f",
   "metadata": {},
   "outputs": [
    {
     "name": "stdout",
     "output_type": "stream",
     "text": [
      "0       3735.1380\n",
      "1        443.4228\n",
      "2       2097.2700\n",
      "3        732.3800\n",
      "4        994.7052\n",
      "          ...    \n",
      "5676       0.0000\n",
      "5677       0.0000\n",
      "5678       0.0000\n",
      "5679       0.0000\n",
      "5680       0.0000\n",
      "Name: Item_Outlet_Sales, Length: 14204, dtype: float64\n"
     ]
    }
   ],
   "source": [
    "print(y)"
   ]
  },
  {
   "cell_type": "markdown",
   "id": "03ca0511-ed45-4111-84bb-4583e4b1b5a1",
   "metadata": {},
   "source": [
    "## split data into train and test data"
   ]
  },
  {
   "cell_type": "code",
   "execution_count": 59,
   "id": "9870d379-cb19-40c2-9149-6eebfb98e9a6",
   "metadata": {},
   "outputs": [],
   "source": [
    "from sklearn.model_selection import train_test_split"
   ]
  },
  {
   "cell_type": "code",
   "execution_count": 60,
   "id": "af06f055-25ab-4227-a996-c82ba099e53d",
   "metadata": {},
   "outputs": [],
   "source": [
    "X_train, X_test, y_train, y_test = train_test_split(X, y, test_size=0.2, random_state=2)"
   ]
  },
  {
   "cell_type": "code",
   "execution_count": 61,
   "id": "f11ae796-25f0-456f-b24e-f46c83fbf842",
   "metadata": {},
   "outputs": [
    {
     "data": {
      "text/html": [
       "<div>\n",
       "<style scoped>\n",
       "    .dataframe tbody tr th:only-of-type {\n",
       "        vertical-align: middle;\n",
       "    }\n",
       "\n",
       "    .dataframe tbody tr th {\n",
       "        vertical-align: top;\n",
       "    }\n",
       "\n",
       "    .dataframe thead th {\n",
       "        text-align: right;\n",
       "    }\n",
       "</style>\n",
       "<table border=\"1\" class=\"dataframe\">\n",
       "  <thead>\n",
       "    <tr style=\"text-align: right;\">\n",
       "      <th></th>\n",
       "      <th>Item_Identifier</th>\n",
       "      <th>Item_Weight</th>\n",
       "      <th>Item_Fat_Content</th>\n",
       "      <th>Item_Visibility</th>\n",
       "      <th>Item_Type</th>\n",
       "      <th>Item_MRP</th>\n",
       "      <th>Outlet_Identifier</th>\n",
       "      <th>Outlet_Establishment_Year</th>\n",
       "      <th>Outlet_Size</th>\n",
       "      <th>Outlet_Location_Type</th>\n",
       "      <th>Outlet_Type</th>\n",
       "      <th>source</th>\n",
       "      <th>Item_category</th>\n",
       "    </tr>\n",
       "  </thead>\n",
       "  <tbody>\n",
       "    <tr>\n",
       "      <th>8157</th>\n",
       "      <td>1166</td>\n",
       "      <td>14.35</td>\n",
       "      <td>0</td>\n",
       "      <td>0.080204</td>\n",
       "      <td>0</td>\n",
       "      <td>77.9960</td>\n",
       "      <td>5</td>\n",
       "      <td>1985</td>\n",
       "      <td>1</td>\n",
       "      <td>2</td>\n",
       "      <td>3</td>\n",
       "      <td>1</td>\n",
       "      <td>1</td>\n",
       "    </tr>\n",
       "    <tr>\n",
       "      <th>5015</th>\n",
       "      <td>455</td>\n",
       "      <td>11.60</td>\n",
       "      <td>1</td>\n",
       "      <td>0.078915</td>\n",
       "      <td>5</td>\n",
       "      <td>83.1276</td>\n",
       "      <td>6</td>\n",
       "      <td>2004</td>\n",
       "      <td>2</td>\n",
       "      <td>1</td>\n",
       "      <td>1</td>\n",
       "      <td>0</td>\n",
       "      <td>1</td>\n",
       "    </tr>\n",
       "    <tr>\n",
       "      <th>937</th>\n",
       "      <td>424</td>\n",
       "      <td>13.65</td>\n",
       "      <td>0</td>\n",
       "      <td>0.065576</td>\n",
       "      <td>5</td>\n",
       "      <td>47.7402</td>\n",
       "      <td>1</td>\n",
       "      <td>1987</td>\n",
       "      <td>0</td>\n",
       "      <td>2</td>\n",
       "      <td>1</td>\n",
       "      <td>1</td>\n",
       "      <td>1</td>\n",
       "    </tr>\n",
       "    <tr>\n",
       "      <th>2195</th>\n",
       "      <td>464</td>\n",
       "      <td>20.50</td>\n",
       "      <td>1</td>\n",
       "      <td>0.032136</td>\n",
       "      <td>5</td>\n",
       "      <td>83.9592</td>\n",
       "      <td>0</td>\n",
       "      <td>1998</td>\n",
       "      <td>2</td>\n",
       "      <td>2</td>\n",
       "      <td>0</td>\n",
       "      <td>1</td>\n",
       "      <td>1</td>\n",
       "    </tr>\n",
       "    <tr>\n",
       "      <th>2226</th>\n",
       "      <td>1496</td>\n",
       "      <td>5.88</td>\n",
       "      <td>0</td>\n",
       "      <td>0.025028</td>\n",
       "      <td>9</td>\n",
       "      <td>150.4392</td>\n",
       "      <td>2</td>\n",
       "      <td>2007</td>\n",
       "      <td>2</td>\n",
       "      <td>1</td>\n",
       "      <td>1</td>\n",
       "      <td>0</td>\n",
       "      <td>2</td>\n",
       "    </tr>\n",
       "    <tr>\n",
       "      <th>...</th>\n",
       "      <td>...</td>\n",
       "      <td>...</td>\n",
       "      <td>...</td>\n",
       "      <td>...</td>\n",
       "      <td>...</td>\n",
       "      <td>...</td>\n",
       "      <td>...</td>\n",
       "      <td>...</td>\n",
       "      <td>...</td>\n",
       "      <td>...</td>\n",
       "      <td>...</td>\n",
       "      <td>...</td>\n",
       "      <td>...</td>\n",
       "    </tr>\n",
       "    <tr>\n",
       "      <th>3275</th>\n",
       "      <td>1395</td>\n",
       "      <td>20.50</td>\n",
       "      <td>0</td>\n",
       "      <td>0.023143</td>\n",
       "      <td>11</td>\n",
       "      <td>152.9340</td>\n",
       "      <td>8</td>\n",
       "      <td>1997</td>\n",
       "      <td>2</td>\n",
       "      <td>0</td>\n",
       "      <td>1</td>\n",
       "      <td>0</td>\n",
       "      <td>2</td>\n",
       "    </tr>\n",
       "    <tr>\n",
       "      <th>5373</th>\n",
       "      <td>1049</td>\n",
       "      <td>11.30</td>\n",
       "      <td>0</td>\n",
       "      <td>0.007245</td>\n",
       "      <td>10</td>\n",
       "      <td>198.3426</td>\n",
       "      <td>5</td>\n",
       "      <td>1985</td>\n",
       "      <td>1</td>\n",
       "      <td>2</td>\n",
       "      <td>3</td>\n",
       "      <td>0</td>\n",
       "      <td>1</td>\n",
       "    </tr>\n",
       "    <tr>\n",
       "      <th>6637</th>\n",
       "      <td>969</td>\n",
       "      <td>18.70</td>\n",
       "      <td>1</td>\n",
       "      <td>0.092096</td>\n",
       "      <td>10</td>\n",
       "      <td>183.3292</td>\n",
       "      <td>2</td>\n",
       "      <td>2007</td>\n",
       "      <td>2</td>\n",
       "      <td>1</td>\n",
       "      <td>1</td>\n",
       "      <td>1</td>\n",
       "      <td>1</td>\n",
       "    </tr>\n",
       "    <tr>\n",
       "      <th>2575</th>\n",
       "      <td>55</td>\n",
       "      <td>8.88</td>\n",
       "      <td>0</td>\n",
       "      <td>0.086957</td>\n",
       "      <td>7</td>\n",
       "      <td>152.5682</td>\n",
       "      <td>7</td>\n",
       "      <td>2002</td>\n",
       "      <td>2</td>\n",
       "      <td>1</td>\n",
       "      <td>1</td>\n",
       "      <td>1</td>\n",
       "      <td>0</td>\n",
       "    </tr>\n",
       "    <tr>\n",
       "      <th>7336</th>\n",
       "      <td>1262</td>\n",
       "      <td>6.63</td>\n",
       "      <td>1</td>\n",
       "      <td>0.104445</td>\n",
       "      <td>0</td>\n",
       "      <td>167.2500</td>\n",
       "      <td>3</td>\n",
       "      <td>2009</td>\n",
       "      <td>1</td>\n",
       "      <td>2</td>\n",
       "      <td>2</td>\n",
       "      <td>1</td>\n",
       "      <td>1</td>\n",
       "    </tr>\n",
       "  </tbody>\n",
       "</table>\n",
       "<p>11363 rows × 13 columns</p>\n",
       "</div>"
      ],
      "text/plain": [
       "      Item_Identifier  Item_Weight  Item_Fat_Content  Item_Visibility  \\\n",
       "8157             1166        14.35                 0         0.080204   \n",
       "5015              455        11.60                 1         0.078915   \n",
       "937               424        13.65                 0         0.065576   \n",
       "2195              464        20.50                 1         0.032136   \n",
       "2226             1496         5.88                 0         0.025028   \n",
       "...               ...          ...               ...              ...   \n",
       "3275             1395        20.50                 0         0.023143   \n",
       "5373             1049        11.30                 0         0.007245   \n",
       "6637              969        18.70                 1         0.092096   \n",
       "2575               55         8.88                 0         0.086957   \n",
       "7336             1262         6.63                 1         0.104445   \n",
       "\n",
       "      Item_Type  Item_MRP  Outlet_Identifier  Outlet_Establishment_Year  \\\n",
       "8157          0   77.9960                  5                       1985   \n",
       "5015          5   83.1276                  6                       2004   \n",
       "937           5   47.7402                  1                       1987   \n",
       "2195          5   83.9592                  0                       1998   \n",
       "2226          9  150.4392                  2                       2007   \n",
       "...         ...       ...                ...                        ...   \n",
       "3275         11  152.9340                  8                       1997   \n",
       "5373         10  198.3426                  5                       1985   \n",
       "6637         10  183.3292                  2                       2007   \n",
       "2575          7  152.5682                  7                       2002   \n",
       "7336          0  167.2500                  3                       2009   \n",
       "\n",
       "      Outlet_Size  Outlet_Location_Type  Outlet_Type  source  Item_category  \n",
       "8157            1                     2            3       1              1  \n",
       "5015            2                     1            1       0              1  \n",
       "937             0                     2            1       1              1  \n",
       "2195            2                     2            0       1              1  \n",
       "2226            2                     1            1       0              2  \n",
       "...           ...                   ...          ...     ...            ...  \n",
       "3275            2                     0            1       0              2  \n",
       "5373            1                     2            3       0              1  \n",
       "6637            2                     1            1       1              1  \n",
       "2575            2                     1            1       1              0  \n",
       "7336            1                     2            2       1              1  \n",
       "\n",
       "[11363 rows x 13 columns]"
      ]
     },
     "execution_count": 61,
     "metadata": {},
     "output_type": "execute_result"
    }
   ],
   "source": [
    "X_train"
   ]
  },
  {
   "cell_type": "code",
   "execution_count": 62,
   "id": "b3a1cd11-df15-4ab5-ad30-9049db22ddd7",
   "metadata": {},
   "outputs": [
    {
     "data": {
      "text/plain": [
       "8157    2716.4640\n",
       "5015       0.0000\n",
       "937      643.1628\n",
       "2195     165.1184\n",
       "2226       0.0000\n",
       "          ...    \n",
       "3275       0.0000\n",
       "5373       0.0000\n",
       "6637    2006.7212\n",
       "2575    1372.2138\n",
       "7336    1830.9500\n",
       "Name: Item_Outlet_Sales, Length: 11363, dtype: float64"
      ]
     },
     "execution_count": 62,
     "metadata": {},
     "output_type": "execute_result"
    }
   ],
   "source": [
    "y_train"
   ]
  },
  {
   "cell_type": "code",
   "execution_count": 63,
   "id": "8a23a7d3-4628-4bef-91e4-a336f7d2c03f",
   "metadata": {},
   "outputs": [
    {
     "data": {
      "text/plain": [
       "((11363, 13), (11363,))"
      ]
     },
     "execution_count": 63,
     "metadata": {},
     "output_type": "execute_result"
    }
   ],
   "source": [
    "X_train.shape, y_train.shape"
   ]
  },
  {
   "cell_type": "code",
   "execution_count": 64,
   "id": "e8467126-f5cc-4771-a907-5290574e03f4",
   "metadata": {},
   "outputs": [
    {
     "data": {
      "text/plain": [
       "((11363, 13), (2841, 13))"
      ]
     },
     "execution_count": 64,
     "metadata": {},
     "output_type": "execute_result"
    }
   ],
   "source": [
    "X_train.shape, X_test.shape"
   ]
  },
  {
   "cell_type": "code",
   "execution_count": 65,
   "id": "e53ed185-cfb1-4414-b623-092be123ae44",
   "metadata": {},
   "outputs": [
    {
     "data": {
      "text/plain": [
       "(0.7999859194593072, 0.20001408054069275)"
      ]
     },
     "execution_count": 65,
     "metadata": {},
     "output_type": "execute_result"
    }
   ],
   "source": [
    "11363/(11363+2841) , 2841/(11363+2841)  #80% train 20% test"
   ]
  },
  {
   "cell_type": "markdown",
   "id": "95f0746d-2ba5-4a89-8fef-2a53f114cb68",
   "metadata": {},
   "source": [
    "## model trainig"
   ]
  },
  {
   "cell_type": "code",
   "execution_count": 66,
   "id": "d9fda923-6dce-4247-adad-652087e854c6",
   "metadata": {},
   "outputs": [],
   "source": [
    "from xgboost import XGBRegressor"
   ]
  },
  {
   "cell_type": "code",
   "execution_count": 67,
   "id": "8f1c4cfa-e037-4ca0-b109-458accdffae1",
   "metadata": {},
   "outputs": [],
   "source": [
    "regressor=XGBRegressor()"
   ]
  },
  {
   "cell_type": "code",
   "execution_count": 68,
   "id": "e150a63f-5013-47ff-a2bd-ab41acf27555",
   "metadata": {},
   "outputs": [
    {
     "data": {
      "text/plain": [
       "XGBRegressor(base_score=0.5, booster='gbtree', callbacks=None,\n",
       "             colsample_bylevel=1, colsample_bynode=1, colsample_bytree=1,\n",
       "             early_stopping_rounds=None, enable_categorical=False,\n",
       "             eval_metric=None, gamma=0, gpu_id=-1, grow_policy='depthwise',\n",
       "             importance_type=None, interaction_constraints='',\n",
       "             learning_rate=0.300000012, max_bin=256, max_cat_to_onehot=4,\n",
       "             max_delta_step=0, max_depth=6, max_leaves=0, min_child_weight=1,\n",
       "             missing=nan, monotone_constraints='()', n_estimators=100, n_jobs=0,\n",
       "             num_parallel_tree=1, predictor='auto', random_state=0, reg_alpha=0,\n",
       "             reg_lambda=1, ...)"
      ]
     },
     "execution_count": 68,
     "metadata": {},
     "output_type": "execute_result"
    }
   ],
   "source": [
    "regressor.fit(X_train,y_train)"
   ]
  },
  {
   "cell_type": "markdown",
   "id": "a5217420-bfde-45d3-925c-d3d6d49da538",
   "metadata": {},
   "source": [
    "## predict and evaluate"
   ]
  },
  {
   "cell_type": "code",
   "execution_count": 69,
   "id": "0a8f3c8d-4c5b-42e6-af88-80043b4d33a4",
   "metadata": {},
   "outputs": [],
   "source": [
    "predicted= regressor.predict(X_train)"
   ]
  },
  {
   "cell_type": "code",
   "execution_count": 70,
   "id": "aafeab81-d536-4783-9e32-dce4cb19d737",
   "metadata": {},
   "outputs": [],
   "source": [
    "from sklearn import metrics"
   ]
  },
  {
   "cell_type": "code",
   "execution_count": 71,
   "id": "23b388eb-50e9-4c48-9a3b-130507f96912",
   "metadata": {},
   "outputs": [],
   "source": [
    "rsqr_value=metrics.r2_score(y_train,predicted)"
   ]
  },
  {
   "cell_type": "code",
   "execution_count": 72,
   "id": "9ac1fc4f-393e-46b8-9898-1c1bac1676e0",
   "metadata": {},
   "outputs": [
    {
     "data": {
      "text/plain": [
       "0.8907234063345882"
      ]
     },
     "execution_count": 72,
     "metadata": {},
     "output_type": "execute_result"
    }
   ],
   "source": [
    "rsqr_value #values near to 1 consider as good"
   ]
  },
  {
   "cell_type": "code",
   "execution_count": 73,
   "id": "ea57e77e-6695-4468-8e07-de4aa91d2208",
   "metadata": {},
   "outputs": [],
   "source": [
    "predict_test= regressor.predict(X_test)"
   ]
  },
  {
   "cell_type": "code",
   "execution_count": 74,
   "id": "9c317378-1a63-474b-b98f-9f48adf7acaf",
   "metadata": {},
   "outputs": [],
   "source": [
    "rsqr_value=metrics.r2_score(y_test,predict_test)"
   ]
  },
  {
   "cell_type": "code",
   "execution_count": 75,
   "id": "9e6b1fb5-f668-4247-aa8a-d32a38298084",
   "metadata": {},
   "outputs": [
    {
     "data": {
      "text/plain": [
       "0.7174933249621291"
      ]
     },
     "execution_count": 75,
     "metadata": {},
     "output_type": "execute_result"
    }
   ],
   "source": [
    "rsqr_value"
   ]
  },
  {
   "cell_type": "code",
   "execution_count": 76,
   "id": "6c42dfa7-db2a-4d24-8a74-c151f73b1223",
   "metadata": {
    "scrolled": true,
    "tags": []
   },
   "outputs": [
    {
     "data": {
      "text/plain": [
       "array([ 1.2139411e+00, -1.3869546e+01,  2.6296978e+03, ...,\n",
       "        6.3394196e+01, -1.5050865e+02, -3.2367786e+01], dtype=float32)"
      ]
     },
     "execution_count": 76,
     "metadata": {},
     "output_type": "execute_result"
    }
   ],
   "source": [
    "predict_test"
   ]
  },
  {
   "cell_type": "code",
   "execution_count": 77,
   "id": "aa87995d-a6ba-4bd6-b68b-37780ea21290",
   "metadata": {},
   "outputs": [
    {
     "data": {
      "text/plain": [
       "(2841,)"
      ]
     },
     "execution_count": 77,
     "metadata": {},
     "output_type": "execute_result"
    }
   ],
   "source": [
    "predict_test.shape"
   ]
  },
  {
   "cell_type": "code",
   "execution_count": null,
   "id": "cae0b8ad-035f-41e8-a229-61805e41a05e",
   "metadata": {},
   "outputs": [],
   "source": []
  },
  {
   "cell_type": "code",
   "execution_count": 78,
   "id": "44c330c7-de5d-4227-aac9-fced0dd36cbc",
   "metadata": {},
   "outputs": [
    {
     "data": {
      "text/plain": [
       "891.620243286104"
      ]
     },
     "execution_count": 78,
     "metadata": {},
     "output_type": "execute_result"
    }
   ],
   "source": [
    "np.sqrt(metrics.mean_squared_error(y_test,predict_test))"
   ]
  },
  {
   "cell_type": "code",
   "execution_count": 79,
   "id": "37298c32-344a-47cb-aff1-b3663a800f00",
   "metadata": {},
   "outputs": [
    {
     "data": {
      "text/plain": [
       "0.7174933249621291"
      ]
     },
     "execution_count": 79,
     "metadata": {},
     "output_type": "execute_result"
    }
   ],
   "source": [
    "metrics.r2_score(y_test,predict_test)"
   ]
  },
  {
   "cell_type": "code",
   "execution_count": 80,
   "id": "c4b9b495-2e1c-42f4-9602-c123ef2f88e3",
   "metadata": {},
   "outputs": [
    {
     "data": {
      "text/plain": [
       "526.4223094037441"
      ]
     },
     "execution_count": 80,
     "metadata": {},
     "output_type": "execute_result"
    }
   ],
   "source": [
    "metrics.mean_absolute_error(y_test,predict_test)"
   ]
  },
  {
   "cell_type": "code",
   "execution_count": 81,
   "id": "e219b5fb-5db9-465b-ab1c-e963c840deb1",
   "metadata": {},
   "outputs": [
    {
     "data": {
      "text/html": [
       "<div class=\"bk-root\">\n",
       "        <a href=\"https://bokeh.org\" target=\"_blank\" class=\"bk-logo bk-logo-small bk-logo-notebook\"></a>\n",
       "        <span id=\"1039\">Loading BokehJS ...</span>\n",
       "    </div>\n"
      ]
     },
     "metadata": {},
     "output_type": "display_data"
    },
    {
     "data": {
      "application/javascript": [
       "(function(root) {\n",
       "  function now() {\n",
       "    return new Date();\n",
       "  }\n",
       "\n",
       "  const force = true;\n",
       "\n",
       "  if (typeof root._bokeh_onload_callbacks === \"undefined\" || force === true) {\n",
       "    root._bokeh_onload_callbacks = [];\n",
       "    root._bokeh_is_loading = undefined;\n",
       "  }\n",
       "\n",
       "const JS_MIME_TYPE = 'application/javascript';\n",
       "  const HTML_MIME_TYPE = 'text/html';\n",
       "  const EXEC_MIME_TYPE = 'application/vnd.bokehjs_exec.v0+json';\n",
       "  const CLASS_NAME = 'output_bokeh rendered_html';\n",
       "\n",
       "  /**\n",
       "   * Render data to the DOM node\n",
       "   */\n",
       "  function render(props, node) {\n",
       "    const script = document.createElement(\"script\");\n",
       "    node.appendChild(script);\n",
       "  }\n",
       "\n",
       "  /**\n",
       "   * Handle when an output is cleared or removed\n",
       "   */\n",
       "  function handleClearOutput(event, handle) {\n",
       "    const cell = handle.cell;\n",
       "\n",
       "    const id = cell.output_area._bokeh_element_id;\n",
       "    const server_id = cell.output_area._bokeh_server_id;\n",
       "    // Clean up Bokeh references\n",
       "    if (id != null && id in Bokeh.index) {\n",
       "      Bokeh.index[id].model.document.clear();\n",
       "      delete Bokeh.index[id];\n",
       "    }\n",
       "\n",
       "    if (server_id !== undefined) {\n",
       "      // Clean up Bokeh references\n",
       "      const cmd_clean = \"from bokeh.io.state import curstate; print(curstate().uuid_to_server['\" + server_id + \"'].get_sessions()[0].document.roots[0]._id)\";\n",
       "      cell.notebook.kernel.execute(cmd_clean, {\n",
       "        iopub: {\n",
       "          output: function(msg) {\n",
       "            const id = msg.content.text.trim();\n",
       "            if (id in Bokeh.index) {\n",
       "              Bokeh.index[id].model.document.clear();\n",
       "              delete Bokeh.index[id];\n",
       "            }\n",
       "          }\n",
       "        }\n",
       "      });\n",
       "      // Destroy server and session\n",
       "      const cmd_destroy = \"import bokeh.io.notebook as ion; ion.destroy_server('\" + server_id + \"')\";\n",
       "      cell.notebook.kernel.execute(cmd_destroy);\n",
       "    }\n",
       "  }\n",
       "\n",
       "  /**\n",
       "   * Handle when a new output is added\n",
       "   */\n",
       "  function handleAddOutput(event, handle) {\n",
       "    const output_area = handle.output_area;\n",
       "    const output = handle.output;\n",
       "\n",
       "    // limit handleAddOutput to display_data with EXEC_MIME_TYPE content only\n",
       "    if ((output.output_type != \"display_data\") || (!Object.prototype.hasOwnProperty.call(output.data, EXEC_MIME_TYPE))) {\n",
       "      return\n",
       "    }\n",
       "\n",
       "    const toinsert = output_area.element.find(\".\" + CLASS_NAME.split(' ')[0]);\n",
       "\n",
       "    if (output.metadata[EXEC_MIME_TYPE][\"id\"] !== undefined) {\n",
       "      toinsert[toinsert.length - 1].firstChild.textContent = output.data[JS_MIME_TYPE];\n",
       "      // store reference to embed id on output_area\n",
       "      output_area._bokeh_element_id = output.metadata[EXEC_MIME_TYPE][\"id\"];\n",
       "    }\n",
       "    if (output.metadata[EXEC_MIME_TYPE][\"server_id\"] !== undefined) {\n",
       "      const bk_div = document.createElement(\"div\");\n",
       "      bk_div.innerHTML = output.data[HTML_MIME_TYPE];\n",
       "      const script_attrs = bk_div.children[0].attributes;\n",
       "      for (let i = 0; i < script_attrs.length; i++) {\n",
       "        toinsert[toinsert.length - 1].firstChild.setAttribute(script_attrs[i].name, script_attrs[i].value);\n",
       "        toinsert[toinsert.length - 1].firstChild.textContent = bk_div.children[0].textContent\n",
       "      }\n",
       "      // store reference to server id on output_area\n",
       "      output_area._bokeh_server_id = output.metadata[EXEC_MIME_TYPE][\"server_id\"];\n",
       "    }\n",
       "  }\n",
       "\n",
       "  function register_renderer(events, OutputArea) {\n",
       "\n",
       "    function append_mime(data, metadata, element) {\n",
       "      // create a DOM node to render to\n",
       "      const toinsert = this.create_output_subarea(\n",
       "        metadata,\n",
       "        CLASS_NAME,\n",
       "        EXEC_MIME_TYPE\n",
       "      );\n",
       "      this.keyboard_manager.register_events(toinsert);\n",
       "      // Render to node\n",
       "      const props = {data: data, metadata: metadata[EXEC_MIME_TYPE]};\n",
       "      render(props, toinsert[toinsert.length - 1]);\n",
       "      element.append(toinsert);\n",
       "      return toinsert\n",
       "    }\n",
       "\n",
       "    /* Handle when an output is cleared or removed */\n",
       "    events.on('clear_output.CodeCell', handleClearOutput);\n",
       "    events.on('delete.Cell', handleClearOutput);\n",
       "\n",
       "    /* Handle when a new output is added */\n",
       "    events.on('output_added.OutputArea', handleAddOutput);\n",
       "\n",
       "    /**\n",
       "     * Register the mime type and append_mime function with output_area\n",
       "     */\n",
       "    OutputArea.prototype.register_mime_type(EXEC_MIME_TYPE, append_mime, {\n",
       "      /* Is output safe? */\n",
       "      safe: true,\n",
       "      /* Index of renderer in `output_area.display_order` */\n",
       "      index: 0\n",
       "    });\n",
       "  }\n",
       "\n",
       "  // register the mime type if in Jupyter Notebook environment and previously unregistered\n",
       "  if (root.Jupyter !== undefined) {\n",
       "    const events = require('base/js/events');\n",
       "    const OutputArea = require('notebook/js/outputarea').OutputArea;\n",
       "\n",
       "    if (OutputArea.prototype.mime_types().indexOf(EXEC_MIME_TYPE) == -1) {\n",
       "      register_renderer(events, OutputArea);\n",
       "    }\n",
       "  }\n",
       "  if (typeof (root._bokeh_timeout) === \"undefined\" || force === true) {\n",
       "    root._bokeh_timeout = Date.now() + 5000;\n",
       "    root._bokeh_failed_load = false;\n",
       "  }\n",
       "\n",
       "  const NB_LOAD_WARNING = {'data': {'text/html':\n",
       "     \"<div style='background-color: #fdd'>\\n\"+\n",
       "     \"<p>\\n\"+\n",
       "     \"BokehJS does not appear to have successfully loaded. If loading BokehJS from CDN, this \\n\"+\n",
       "     \"may be due to a slow or bad network connection. Possible fixes:\\n\"+\n",
       "     \"</p>\\n\"+\n",
       "     \"<ul>\\n\"+\n",
       "     \"<li>re-rerun `output_notebook()` to attempt to load from CDN again, or</li>\\n\"+\n",
       "     \"<li>use INLINE resources instead, as so:</li>\\n\"+\n",
       "     \"</ul>\\n\"+\n",
       "     \"<code>\\n\"+\n",
       "     \"from bokeh.resources import INLINE\\n\"+\n",
       "     \"output_notebook(resources=INLINE)\\n\"+\n",
       "     \"</code>\\n\"+\n",
       "     \"</div>\"}};\n",
       "\n",
       "  function display_loaded() {\n",
       "    const el = document.getElementById(\"1039\");\n",
       "    if (el != null) {\n",
       "      el.textContent = \"BokehJS is loading...\";\n",
       "    }\n",
       "    if (root.Bokeh !== undefined) {\n",
       "      if (el != null) {\n",
       "        el.textContent = \"BokehJS \" + root.Bokeh.version + \" successfully loaded.\";\n",
       "      }\n",
       "    } else if (Date.now() < root._bokeh_timeout) {\n",
       "      setTimeout(display_loaded, 100)\n",
       "    }\n",
       "  }\n",
       "\n",
       "  function run_callbacks() {\n",
       "    try {\n",
       "      root._bokeh_onload_callbacks.forEach(function(callback) {\n",
       "        if (callback != null)\n",
       "          callback();\n",
       "      });\n",
       "    } finally {\n",
       "      delete root._bokeh_onload_callbacks\n",
       "    }\n",
       "    console.debug(\"Bokeh: all callbacks have finished\");\n",
       "  }\n",
       "\n",
       "  function load_libs(css_urls, js_urls, callback) {\n",
       "    if (css_urls == null) css_urls = [];\n",
       "    if (js_urls == null) js_urls = [];\n",
       "\n",
       "    root._bokeh_onload_callbacks.push(callback);\n",
       "    if (root._bokeh_is_loading > 0) {\n",
       "      console.debug(\"Bokeh: BokehJS is being loaded, scheduling callback at\", now());\n",
       "      return null;\n",
       "    }\n",
       "    if (js_urls == null || js_urls.length === 0) {\n",
       "      run_callbacks();\n",
       "      return null;\n",
       "    }\n",
       "    console.debug(\"Bokeh: BokehJS not loaded, scheduling load and callback at\", now());\n",
       "    root._bokeh_is_loading = css_urls.length + js_urls.length;\n",
       "\n",
       "    function on_load() {\n",
       "      root._bokeh_is_loading--;\n",
       "      if (root._bokeh_is_loading === 0) {\n",
       "        console.debug(\"Bokeh: all BokehJS libraries/stylesheets loaded\");\n",
       "        run_callbacks()\n",
       "      }\n",
       "    }\n",
       "\n",
       "    function on_error(url) {\n",
       "      console.error(\"failed to load \" + url);\n",
       "    }\n",
       "\n",
       "    for (let i = 0; i < css_urls.length; i++) {\n",
       "      const url = css_urls[i];\n",
       "      const element = document.createElement(\"link\");\n",
       "      element.onload = on_load;\n",
       "      element.onerror = on_error.bind(null, url);\n",
       "      element.rel = \"stylesheet\";\n",
       "      element.type = \"text/css\";\n",
       "      element.href = url;\n",
       "      console.debug(\"Bokeh: injecting link tag for BokehJS stylesheet: \", url);\n",
       "      document.body.appendChild(element);\n",
       "    }\n",
       "\n",
       "    for (let i = 0; i < js_urls.length; i++) {\n",
       "      const url = js_urls[i];\n",
       "      const element = document.createElement('script');\n",
       "      element.onload = on_load;\n",
       "      element.onerror = on_error.bind(null, url);\n",
       "      element.async = false;\n",
       "      element.src = url;\n",
       "      console.debug(\"Bokeh: injecting script tag for BokehJS library: \", url);\n",
       "      document.head.appendChild(element);\n",
       "    }\n",
       "  };\n",
       "\n",
       "  function inject_raw_css(css) {\n",
       "    const element = document.createElement(\"style\");\n",
       "    element.appendChild(document.createTextNode(css));\n",
       "    document.body.appendChild(element);\n",
       "  }\n",
       "\n",
       "  const js_urls = [\"https://cdn.bokeh.org/bokeh/release/bokeh-2.4.3.min.js\", \"https://cdn.bokeh.org/bokeh/release/bokeh-gl-2.4.3.min.js\", \"https://cdn.bokeh.org/bokeh/release/bokeh-widgets-2.4.3.min.js\", \"https://cdn.bokeh.org/bokeh/release/bokeh-tables-2.4.3.min.js\", \"https://cdn.bokeh.org/bokeh/release/bokeh-mathjax-2.4.3.min.js\"];\n",
       "  const css_urls = [];\n",
       "\n",
       "  const inline_js = [    function(Bokeh) {\n",
       "      Bokeh.set_log_level(\"info\");\n",
       "    },\n",
       "function(Bokeh) {\n",
       "    }\n",
       "  ];\n",
       "\n",
       "  function run_inline_js() {\n",
       "    if (root.Bokeh !== undefined || force === true) {\n",
       "          for (let i = 0; i < inline_js.length; i++) {\n",
       "      inline_js[i].call(root, root.Bokeh);\n",
       "    }\n",
       "if (force === true) {\n",
       "        display_loaded();\n",
       "      }} else if (Date.now() < root._bokeh_timeout) {\n",
       "      setTimeout(run_inline_js, 100);\n",
       "    } else if (!root._bokeh_failed_load) {\n",
       "      console.log(\"Bokeh: BokehJS failed to load within specified timeout.\");\n",
       "      root._bokeh_failed_load = true;\n",
       "    } else if (force !== true) {\n",
       "      const cell = $(document.getElementById(\"1039\")).parents('.cell').data().cell;\n",
       "      cell.output_area.append_execute_result(NB_LOAD_WARNING)\n",
       "    }\n",
       "  }\n",
       "\n",
       "  if (root._bokeh_is_loading === 0) {\n",
       "    console.debug(\"Bokeh: BokehJS loaded, going straight to plotting\");\n",
       "    run_inline_js();\n",
       "  } else {\n",
       "    load_libs(css_urls, js_urls, function() {\n",
       "      console.debug(\"Bokeh: BokehJS plotting callback run at\", now());\n",
       "      run_inline_js();\n",
       "    });\n",
       "  }\n",
       "}(window));"
      ],
      "application/vnd.bokehjs_load.v0+json": "(function(root) {\n  function now() {\n    return new Date();\n  }\n\n  const force = true;\n\n  if (typeof root._bokeh_onload_callbacks === \"undefined\" || force === true) {\n    root._bokeh_onload_callbacks = [];\n    root._bokeh_is_loading = undefined;\n  }\n\n\n  if (typeof (root._bokeh_timeout) === \"undefined\" || force === true) {\n    root._bokeh_timeout = Date.now() + 5000;\n    root._bokeh_failed_load = false;\n  }\n\n  const NB_LOAD_WARNING = {'data': {'text/html':\n     \"<div style='background-color: #fdd'>\\n\"+\n     \"<p>\\n\"+\n     \"BokehJS does not appear to have successfully loaded. If loading BokehJS from CDN, this \\n\"+\n     \"may be due to a slow or bad network connection. Possible fixes:\\n\"+\n     \"</p>\\n\"+\n     \"<ul>\\n\"+\n     \"<li>re-rerun `output_notebook()` to attempt to load from CDN again, or</li>\\n\"+\n     \"<li>use INLINE resources instead, as so:</li>\\n\"+\n     \"</ul>\\n\"+\n     \"<code>\\n\"+\n     \"from bokeh.resources import INLINE\\n\"+\n     \"output_notebook(resources=INLINE)\\n\"+\n     \"</code>\\n\"+\n     \"</div>\"}};\n\n  function display_loaded() {\n    const el = document.getElementById(\"1039\");\n    if (el != null) {\n      el.textContent = \"BokehJS is loading...\";\n    }\n    if (root.Bokeh !== undefined) {\n      if (el != null) {\n        el.textContent = \"BokehJS \" + root.Bokeh.version + \" successfully loaded.\";\n      }\n    } else if (Date.now() < root._bokeh_timeout) {\n      setTimeout(display_loaded, 100)\n    }\n  }\n\n  function run_callbacks() {\n    try {\n      root._bokeh_onload_callbacks.forEach(function(callback) {\n        if (callback != null)\n          callback();\n      });\n    } finally {\n      delete root._bokeh_onload_callbacks\n    }\n    console.debug(\"Bokeh: all callbacks have finished\");\n  }\n\n  function load_libs(css_urls, js_urls, callback) {\n    if (css_urls == null) css_urls = [];\n    if (js_urls == null) js_urls = [];\n\n    root._bokeh_onload_callbacks.push(callback);\n    if (root._bokeh_is_loading > 0) {\n      console.debug(\"Bokeh: BokehJS is being loaded, scheduling callback at\", now());\n      return null;\n    }\n    if (js_urls == null || js_urls.length === 0) {\n      run_callbacks();\n      return null;\n    }\n    console.debug(\"Bokeh: BokehJS not loaded, scheduling load and callback at\", now());\n    root._bokeh_is_loading = css_urls.length + js_urls.length;\n\n    function on_load() {\n      root._bokeh_is_loading--;\n      if (root._bokeh_is_loading === 0) {\n        console.debug(\"Bokeh: all BokehJS libraries/stylesheets loaded\");\n        run_callbacks()\n      }\n    }\n\n    function on_error(url) {\n      console.error(\"failed to load \" + url);\n    }\n\n    for (let i = 0; i < css_urls.length; i++) {\n      const url = css_urls[i];\n      const element = document.createElement(\"link\");\n      element.onload = on_load;\n      element.onerror = on_error.bind(null, url);\n      element.rel = \"stylesheet\";\n      element.type = \"text/css\";\n      element.href = url;\n      console.debug(\"Bokeh: injecting link tag for BokehJS stylesheet: \", url);\n      document.body.appendChild(element);\n    }\n\n    for (let i = 0; i < js_urls.length; i++) {\n      const url = js_urls[i];\n      const element = document.createElement('script');\n      element.onload = on_load;\n      element.onerror = on_error.bind(null, url);\n      element.async = false;\n      element.src = url;\n      console.debug(\"Bokeh: injecting script tag for BokehJS library: \", url);\n      document.head.appendChild(element);\n    }\n  };\n\n  function inject_raw_css(css) {\n    const element = document.createElement(\"style\");\n    element.appendChild(document.createTextNode(css));\n    document.body.appendChild(element);\n  }\n\n  const js_urls = [\"https://cdn.bokeh.org/bokeh/release/bokeh-2.4.3.min.js\", \"https://cdn.bokeh.org/bokeh/release/bokeh-gl-2.4.3.min.js\", \"https://cdn.bokeh.org/bokeh/release/bokeh-widgets-2.4.3.min.js\", \"https://cdn.bokeh.org/bokeh/release/bokeh-tables-2.4.3.min.js\", \"https://cdn.bokeh.org/bokeh/release/bokeh-mathjax-2.4.3.min.js\"];\n  const css_urls = [];\n\n  const inline_js = [    function(Bokeh) {\n      Bokeh.set_log_level(\"info\");\n    },\nfunction(Bokeh) {\n    }\n  ];\n\n  function run_inline_js() {\n    if (root.Bokeh !== undefined || force === true) {\n          for (let i = 0; i < inline_js.length; i++) {\n      inline_js[i].call(root, root.Bokeh);\n    }\nif (force === true) {\n        display_loaded();\n      }} else if (Date.now() < root._bokeh_timeout) {\n      setTimeout(run_inline_js, 100);\n    } else if (!root._bokeh_failed_load) {\n      console.log(\"Bokeh: BokehJS failed to load within specified timeout.\");\n      root._bokeh_failed_load = true;\n    } else if (force !== true) {\n      const cell = $(document.getElementById(\"1039\")).parents('.cell').data().cell;\n      cell.output_area.append_execute_result(NB_LOAD_WARNING)\n    }\n  }\n\n  if (root._bokeh_is_loading === 0) {\n    console.debug(\"Bokeh: BokehJS loaded, going straight to plotting\");\n    run_inline_js();\n  } else {\n    load_libs(css_urls, js_urls, function() {\n      console.debug(\"Bokeh: BokehJS plotting callback run at\", now());\n      run_inline_js();\n    });\n  }\n}(window));"
     },
     "metadata": {},
     "output_type": "display_data"
    },
    {
     "data": {
      "text/html": [
       "\n",
       "  <div class=\"bk-root\" id=\"6c218e2a-e108-4403-a6b9-19fdc6492561\" data-root-id=\"1002\"></div>\n"
      ]
     },
     "metadata": {},
     "output_type": "display_data"
    },
    {
     "data": {
      "application/javascript": [
       "(function(root) {\n",
       "  function embed_document(root) {\n",
       "  const docs_json = {\"0ea7368d-511d-403d-8114-05c8d4baf873\":{\"defs\":[],\"roots\":{\"references\":[{\"attributes\":{\"below\":[{\"id\":\"1011\"}],\"center\":[{\"id\":\"1014\"},{\"id\":\"1018\"}],\"height\":400,\"left\":[{\"id\":\"1015\"}],\"renderers\":[{\"id\":\"1037\"}],\"title\":{\"id\":\"1040\"},\"toolbar\":{\"id\":\"1026\"},\"width\":400,\"x_range\":{\"id\":\"1003\"},\"x_scale\":{\"id\":\"1007\"},\"y_range\":{\"id\":\"1005\"},\"y_scale\":{\"id\":\"1009\"}},\"id\":\"1002\",\"subtype\":\"Figure\",\"type\":\"Plot\"},{\"attributes\":{},\"id\":\"1023\",\"type\":\"ResetTool\"},{\"attributes\":{},\"id\":\"1047\",\"type\":\"AllLabels\"},{\"attributes\":{\"fill_alpha\":{\"value\":0.5},\"fill_color\":{\"value\":\"navy\"},\"hatch_alpha\":{\"value\":0.5},\"hatch_color\":{\"value\":\"navy\"},\"line_alpha\":{\"value\":0.5},\"line_color\":{\"value\":\"navy\"},\"size\":{\"value\":6},\"x\":{\"field\":\"x\"},\"y\":{\"field\":\"y\"}},\"id\":\"1034\",\"type\":\"Circle\"},{\"attributes\":{\"bottom_units\":\"screen\",\"coordinates\":null,\"fill_alpha\":0.5,\"fill_color\":\"lightgrey\",\"group\":null,\"left_units\":\"screen\",\"level\":\"overlay\",\"line_alpha\":1.0,\"line_color\":\"black\",\"line_dash\":[4,4],\"line_width\":2,\"right_units\":\"screen\",\"syncable\":false,\"top_units\":\"screen\"},\"id\":\"1025\",\"type\":\"BoxAnnotation\"},{\"attributes\":{},\"id\":\"1022\",\"type\":\"SaveTool\"},{\"attributes\":{\"coordinates\":null,\"group\":null},\"id\":\"1040\",\"type\":\"Title\"},{\"attributes\":{\"axis_label\":\"predicted\",\"coordinates\":null,\"formatter\":{\"id\":\"1043\"},\"group\":null,\"major_label_policy\":{\"id\":\"1044\"},\"ticker\":{\"id\":\"1016\"}},\"id\":\"1015\",\"type\":\"LinearAxis\"},{\"attributes\":{\"axis\":{\"id\":\"1015\"},\"coordinates\":null,\"dimension\":1,\"group\":null,\"ticker\":null},\"id\":\"1018\",\"type\":\"Grid\"},{\"attributes\":{\"coordinates\":null,\"data_source\":{\"id\":\"1033\"},\"glyph\":{\"id\":\"1034\"},\"group\":null,\"hover_glyph\":null,\"muted_glyph\":{\"id\":\"1036\"},\"nonselection_glyph\":{\"id\":\"1035\"},\"view\":{\"id\":\"1038\"}},\"id\":\"1037\",\"type\":\"GlyphRenderer\"},{\"attributes\":{},\"id\":\"1048\",\"type\":\"UnionRenderers\"},{\"attributes\":{\"tools\":[{\"id\":\"1019\"},{\"id\":\"1020\"},{\"id\":\"1021\"},{\"id\":\"1022\"},{\"id\":\"1023\"},{\"id\":\"1024\"}]},\"id\":\"1026\",\"type\":\"Toolbar\"},{\"attributes\":{\"overlay\":{\"id\":\"1025\"}},\"id\":\"1021\",\"type\":\"BoxZoomTool\"},{\"attributes\":{},\"id\":\"1049\",\"type\":\"Selection\"},{\"attributes\":{},\"id\":\"1016\",\"type\":\"BasicTicker\"},{\"attributes\":{},\"id\":\"1003\",\"type\":\"DataRange1d\"},{\"attributes\":{},\"id\":\"1007\",\"type\":\"LinearScale\"},{\"attributes\":{\"axis\":{\"id\":\"1011\"},\"coordinates\":null,\"group\":null,\"ticker\":null},\"id\":\"1014\",\"type\":\"Grid\"},{\"attributes\":{},\"id\":\"1005\",\"type\":\"DataRange1d\"},{\"attributes\":{\"fill_alpha\":{\"value\":0.2},\"fill_color\":{\"value\":\"navy\"},\"hatch_alpha\":{\"value\":0.2},\"hatch_color\":{\"value\":\"navy\"},\"line_alpha\":{\"value\":0.2},\"line_color\":{\"value\":\"navy\"},\"size\":{\"value\":6},\"x\":{\"field\":\"x\"},\"y\":{\"field\":\"y\"}},\"id\":\"1036\",\"type\":\"Circle\"},{\"attributes\":{\"axis_label\":\"Actual\",\"coordinates\":null,\"formatter\":{\"id\":\"1046\"},\"group\":null,\"major_label_policy\":{\"id\":\"1047\"},\"ticker\":{\"id\":\"1012\"}},\"id\":\"1011\",\"type\":\"LinearAxis\"},{\"attributes\":{},\"id\":\"1019\",\"type\":\"PanTool\"},{\"attributes\":{},\"id\":\"1012\",\"type\":\"BasicTicker\"},{\"attributes\":{\"source\":{\"id\":\"1033\"}},\"id\":\"1038\",\"type\":\"CDSView\"},{\"attributes\":{\"fill_alpha\":{\"value\":0.1},\"fill_color\":{\"value\":\"navy\"},\"hatch_alpha\":{\"value\":0.1},\"hatch_color\":{\"value\":\"navy\"},\"line_alpha\":{\"value\":0.1},\"line_color\":{\"value\":\"navy\"},\"size\":{\"value\":6},\"x\":{\"field\":\"x\"},\"y\":{\"field\":\"y\"}},\"id\":\"1035\",\"type\":\"Circle\"},{\"attributes\":{},\"id\":\"1009\",\"type\":\"LinearScale\"},{\"attributes\":{},\"id\":\"1043\",\"type\":\"BasicTickFormatter\"},{\"attributes\":{},\"id\":\"1046\",\"type\":\"BasicTickFormatter\"},{\"attributes\":{},\"id\":\"1024\",\"type\":\"HelpTool\"},{\"attributes\":{},\"id\":\"1044\",\"type\":\"AllLabels\"},{\"attributes\":{\"data\":{\"x\":{\"__ndarray__\":\"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\",\"dtype\":\"float64\",\"order\":\"little\",\"shape\":[2841]},\"y\":{\"__ndarray__\":\"bGKbP6npXcEqWyRFfjTeRKE2QMSGLe5DbwaxREU5N0Xlvl1FRH+ewGcywcIYMBBFnsoGRQVx0kOSMP7AYAtBRTwMSkW5zC1Dd27cRMBeukT7okBFChuwQ7Wmc0OBdbPC1u0hQgnBrEQYjIhECHNZQwtxRMLdiYNF6c9XRWmMP0KVd7xBXPWIQ7LkE8Mi2V/Cy7AYQ1f9e0UrFJnBZATlRBkzOUWSZE1EEy2XQp5ePkWX+pFDl7iERQpLE0UJZlJEsEl0RfpWKcPk2/xEhdAnRUGiUkQDaEXCiWc4RbBKhsJAhtJEmeJ6Qn1GVEQWIUxCK7B8ROVOe0UJz5xE1IirQuy/LsKjwkTCKgdIw7roskQ0kfBD6jm6w+x0RkP9H0vBKZFeRX8HNsOtva1EiDegwnxVB0QYxK5D+AJSwhm7fkVxAStFu8hCRMf8jEW5UgpFUUaQwnVm0MJwLRVC8wkvwoRr1kKYw39FN3tmRbMv0kR+5zxCX0FERdgNekRcVRdEno+PRSYSGcKAoipF3qC1QdMA4USPDT5FmYWMRI1gTEIE84JCSpEPRU2ah0TxeQjCX1gUQoc+OESdsS1DQohDRaw+l0PeljtFhgrFREm2gEW7ZVFCl5FNQlcK4USlxktFwC9gQ08ZZEV5auPBpcsNRZKpCUKm2TxCDqy0QaEfuUGA9/TBejMqwg2uVkTnvS5F/BcnRRGOrELttdhDwfjSQTCtAUVDmvNEEWxBQ+FtTkSWOsRCipYOQ1FfBEWbsUdF/KoQRQPiRkSWdURFrJRFRQ5vikPoZ9hE8QXFREBKTEWMyqbCByGvQXtUbUXFN6lF4vRbRJYlZER6G1fE/p4nRb6nF8KttZxDTMVjRfnHsUMp4WtFY1JrRPfZF0P0HSxEgVLPQDIVHUSgKgxFOmw1Rb4ZpMLQnspEhbtcRQ0tGMLG4ojCUgGuQhIxUUWCF/JCaWcJRfegIEJlXvhEsIthRb6L90NYTOTAK0+AQeHGH0WhxhBFQGPERD1DnUNIdpVEjx84wgVY20T8xEnDgW6cRT3/gEOWo9ZEnMx7Q6jdMMMkkUhE576EwkThjL71AsjBCqcuw+vEfMIttvdEZv+NwtaUP0KQ+axEFQPIRMjthkJIxAxD2k/nQ0MGTMLPUsZEOzhBRZ/rVEJB/MdE0UGMRVNAh8GKOO1EywnQwYc8MEV/yITC6SsDRbmyCMPVFWJD+ymBRRkCEkWP23ZFB8lIRW2MSEUwgL1Eyob7QENR9EQlxzRCBTnaRFVh+cHiqR9F0KfrRAOue0V0V5XCnnB3RR17OURf323DKcmnQ83JNkWXuS1FyItIw/d6okIshwJF16itRQ50bEWD5A/CVMjaQNvEfUR9RW3CnZ2sRI5yisKLQ7xC0sLVQhdaaEMu94/CWJKuwucYvUPVcj7DqX03RW6nzcRFEjVFNYNqRSvnvcE1YpRDrJmARUyJAUQpXJHC19z2RMDhTEVqEwRF1zvIREddkkRRilBD4FGNQu6FgsE85hFFl+5tQ0BLF0UVX4LCEDnBROhBUUKX/Y3BmnWUwc2hGkUW5urDMrZaRLiEgsKbPQFE5Dk+RFSpgEVV6v3BB7zPRNA/RkMCHAfC2xWlRea0nUQNSAVDOcbJQu4v/0KDWs1ES/iUQ2fdaEVMXCrDTqRTQm4cAMOyh+VE7E8UwkUPy0MHWmpFV2nLRN/RA0Q1l9REhL6LRcAQt8GKJSBDyuxXRfkStkM9iTJEcgktQigiqUTbrclBIVGqwiaDtUUHzE1FqS7NQD8qr0RFKrFDZYiGRPsmgcJj50lCLmFBRRpxM0Ko0gXD9ehoRMohp8BZX3JBMGd9REvG80GbTDlFZ1/yRNURskKnTV5BumcART9qwUTY0i9FeftDQ8rVJEVrhclEtEvawYiw2kTCL+lE8gnbwiD3IEUzze9EB6wBQkidPEUddYNF3U5IRVOjPcEmuu1BoAkzQaxNAsI23mJE6jCDRSNlPkRb32JEDMVJQyjNeEBTnJRAqTkoRcXFg8N6IrVAcMWVQejsyj8fbHDDo80uRV/7VkXeIgBFscC2wnKSZEJBItBBc7ORwbxGMUVHchnDXwVHRSMUCUSL19ZEjc6LQ2DjqkReQHBF6RXYRHI5W0IDZ0dD9CljQtKoF0SC+fVDtN12wOdM60DfQAJFY1+VRAkny0T+mBpFMkPiQdqyrUEwfvNEgEZjRTrbY0XV4hZCieoewfv800SACxhFbITJRGnnqUQGdZzD3X8YRaO1E0Xn5RxFGoBSRRoXUUBf5sDAy/lXQq2RQEUWNMNEj2ebRQXGP8Jef6VDbC6TQ7DuOUX70QlDmejNwpSNu0QC44ZD5IuWQRabQcNco6JFTC5FRFFz30NVi4lBJta8wvtWHkXKPWFEexNRRShaJUUeYZJF9jcDRX3TMERf/4ZDVo4lQg+ZG0XyGiJBbZTOQ0uYhESbE8dC6Yp0RTaDFUTSWAjDOdLUQ73/t8N7vKdE2LQYRXly4kQ4HiHCxlUFRTtduURvq3TD9NRPRS1wfUItBqrBjEgtwmnR8ESedzBFZ4fwRB4FTUT6pK/DBz1JQbKwscNVdWVElbY+xEqIB0IBbEBEoBkSwgvxIUVkpThFSYIXRYvVYcI7fAFFriALRVHAWsNc2MpBrqr1RLbTKUVB9JvCCrFMwWhGFEVKnTY/3kHpROlOe0RxzQZE/olGw+OIWUUjq0ZFIhdsRUvcB8MEPQxCTBjNRIRzR0KkiSRFCUQ4RUMBgUGRqgBFLYZYRSB7YEQ3s4xFD1aywsGUaEWCL25Fi8QLwlbMkES7dcjBNmQSRUiKckWav5HCtku7REB8AMLMKo1FkVdgwsNu3D9VtihFZUWhwgIrBEEjlxBEdG9cRDupFsIMJ4hEKUMwxHzJ3kTi/JlE945tRJPQmb9VBrhDQy84RWXRAkOF8zlF8wiXRLBbrcAy4CRDvl2ORev030K/cYhCPEEDRWeiBEUF2YNEI+71RD8JNcP/h7VF4Jdhw3TIRUQJDjNEBOTWwR+Ik0QSb4XCvfcWRQcsCURc4QlC6O4gRYy1ZMOhTSBDzXijwrPpk0LekChFOc+qQoFqFkK/dXZELhqMQ+/1QkSxnpZDoGE0Qe2QJUSWhFZEwYrNRIvjKkV2uWtCqbaCQrdzlkRd4IhCKSDaQgJt4ETJLTdFhAR2w4xUMEW9/JPC0FykRbxPKkXOB2tDKIj6RDoD6EMYBpS/ZvUzwtyf9kRCDmNE5IAfRcSLJEVAv5HC6mfaRIByh8LSTWLDWSUrRZDtAUU0515FL/YiRelKw8LDNLxCNo5CwHhyJEWxOEJCGDQNRU04/8G2Rq5DOe0iRR8++UR6wgVE1g5MQhXPWcNG+flBBFQcRViFZcMcWoLCG01bRdtJHEQAQBhFLDEBRe+WysErZ5dCtw4TRaaD+URah97B7JW/RH/OlMGLOAxFWS8URAMYxETJbwdFPMWdRcoRgkRMyl7Cz9L+wAHejsJ8LVRFKYJoRICaZUVo6i7AP9UjRHZLaUNyfftEfqT6RPFfn8ENagNBl1r4Qp5hIUW0zA1FSyYrRdDyR0SWqABEIj0yQR/q0ERlBgNE1T9HQURPg0RD22NDwiaeRc1GnEVBEYZF+3LMQ7DzW0G6ttZExJjmwISHZEP0jSLCNid0QqnHUUQKD4JCg3ZuRX9MJ0Q4IYVFmtUaRR8dc0WabyhFpcxXRSKoZEE8DihELzXURDYIt0WVlZpE51GnRZCLREXBp4hEVsM2w26mYcAruHFEGZ4tRNjPfMDsifZEEiDAROG0MkVIpChFktTMQXSmEkX+ToFC44dhQ1yZqUQq++tE8sqiQ6pvp0MpHI3CapDORHAK6EQlav5CvVXhRJ0WI0XBbZjBmTw3RaMeFUQ9gBdF0l4hRaOCB0NabZVEKO02REv2JcLN6kBEA2waw21SK0OFj5bC/jd/w560BUKxBlBDKdePQ3zlC0UCvRBB/SrzRIRULkWKOolFGUsxwuOlRURHFgdCryV5RfYHWEREljFFTPngRH1v1kVkIcxAKvfXROx0uEXRxBJFFM0NReRTGURgZKZE8ZBlRcfOHERGorxEgYfzRDp1hkRV9bxEIczARKZ7L0ASlNlDzWIUQ/bVpcGdCiFEitkZRVIdJUX7bZJDkXLKRMDftERn7aBFruOsQRLAzUSEvc3CoCUBQiljA0VR5QnDOCBfQDydSUT5BYtEQtgHw/SIR0U7CynC2CceRIRdhUOKRURDg+fowun+RUQuITxBiYsnRR3U8URJT/tELECgv9Ksu0OtBB7DjxGhwthrOcM2FwTDSA1ERYT1mMBl0hTDXSEIQr1Ow0RC6F1FZLaoQvLYGL/VdCNF98iERKrMIkTpfwZFcPTNRAvxQUSpfFNFrOXqRByjMUXxTJpEUUIFRbA8+D8Sa5dD72aXwXoaj78NyjRFZHMZRVOAiEX0NmlBpJjVRObuUcKO6TNFrpS+QKViJEWbqCJFmTV6wt2HC0XH8YxFKx91RbWRekXH/ldC9A1jwwnN5sJTcdRAZO4Zw8x9QENzHwzDcC2MRZyTcEVjkklFZwQ8Qaw3BkXGCfVExQxNwp6dFkVGjYFEzWnzRAwqtEQJBrFFEHmwwhOnBkXbUqNE3w8rRYALSUU72/hEuWTzRKiuWEVRBAdECk8HRAu+gcHsstdEdqVIRO83jkSV6+3CfhhLvkc3HkUDc0TDsRoxw2OhOEJy9A7Clqa2RMbRP8PLnZRE/wXpQfstI0XzaQPDhTN2Ra+LzEQfuihDfaIhwfElXkWrCPJEv0VGRWgnO0CicklFttZeRO1gCEXNd89BdF+twSpOL0KjhoZDQkc1w+u9rEU+8pfDOgVRQ9nFp0S43tZDbDORRG82x8H81mFCOO5OREdM5URFExNF6nuYRYsdBUNTyK1Exj52RM7JJUUlMuBCkhs8Q5Idp0SGwSZFW+AnRRebv0Q3nb5AIFgaQ6VCPkVUBidFM8HIRHw2D0U0xMBDtKZhQk4cFkX1wpFCr0SsRLANy0LdkB3Cx4OSQm35V8TWfANC0LcgRTyuxkTGh0dFDpjvRHKCYkVurU5Et/0oRaY3G0Vz2npF+HjcwUrWz0PQHcREK7AgRQQYTUXQrElEeUIPRZ8VpEU6jOhElEaMw7zG0UTaLV1C7CpmRSnHfcKn613Cib/gQrJOcEWfcZPDFtYJRYruYkVuToBFuWyXvz5csMP2WxhFL6IHRZoQ10TJ7UtDS8bSRHKavkRM4rHCLnGUQ9HNNEWIAlZFWPB8RPSlm0SVjjNFLsUNRZ/HksPX0gJFPGwoxM24R8JuZ0zDNo5XwvxhTkTefSdFphUrwTwM1MEZW4xDDCsdQ4IIHUPcnilFDaIVQkzZckRepQNFzDSlQs8fGEXPpgpEEJniQ2pEXkXXqf5EX4xBRPawfUL7/K9EhcncQBZn7UBclCpEG0bLREKM3kSyxhBFFcckRa+8PkVKeLVDdpYlQ9lUw0T+UTTC3/XxQsVJ+kSBH3xEa4i1w1TlPULytwFFzsZLwU0HRMLq+S1EXs+DQzBBqUPGcp9E4iB3QktQI0Teq3pDUY+lRJX3jEN5uGxCQm9URRIXOcKvUKREMUc+RBHet0QlBwrDo2QmwzliikITkRJFSIBOwJPuOMGUXjxF2AwrwKmSLUXitQdEAiiuRCqZf0VueQNE1cGcREh9o8L0m21F4m4vRAGHaEJdJFnBBSlPRCI49kTnR/9EPdolRVMhh0UpmqlFMKsYRZYu70RqoGJFTRD3RABEAEUroDNFnkjGRBsyEMFKlABCu3kZReO0ZUS7dPJEvRN9RSJivkOGAvxDwulqwwW69UKtNKZEzCiFRRoIaEIK1BJFp6TcQz5IAUJbxf5EMzaWQjQze0ThAjZDtNCtQra2VcFIZpdDgxcMRewpukX1iEtFbYwywQ+LL0Xt5h1FN9WGQ6fA4sLdxyjBiVOrw116CUW7oEdD9loAQwcyxkSvWQ9EAsnAQEFJN0Lot95E6BrIQXqUz0SwHWBFOO/pwmV+rkXkwaVDgmL6wxaq3kSqLNnC3y5KRak600SMkPPBbM6XQrIwI0Q2kJFC5qXAwaB+IEVy1apDGrHqQoh95kRMoIBFVttVRfpWeMKHPn9CYrezQQiwF0JxN7dE5j3WQAnYjUHpQqPDt08ERfjSp0R4j1XDHd5SRM2DBkXZItFE6ghiRXhaL0V9ZCNClWtFRXA6csJCJ+xDRmUrRfyJT0XwshlFPElqRC+ousIssL1EZUoqRWp++URS25DCp1diRB0GOkMsViNEjJ8qQxzpW0P+uL1AKB9dRRNM/kR4/4lFjqefRNU8ikUHwl7E0fElRfdg30Irc2RFAHFRwiCxysI/d4FDoaLUwDdg9kR+kjlEHJXcRJc6b0StabFCZlUCw7B0ZkXUWXjBBa7kRFbCM8IlGwFFSyxiwV4F28F7+a3DtHo5RKdu3L9dTNLBzDWnQQ1e0UX1eg1CCy7yRGuXn0QRgYJE58rPwIDkFUSV1zpC8OmNQ0TdNEV8e6lF/O1ZwrE7BUTGAbHCBoDpQlGp6ESsZgdEdfL4RGqHpkD4HMDCgdgFRPdZC8N077xEIvVERRl0n0BAD6JC/9STRYcU4kSN+BDC3Cm0RPv9WEUuFTZFK6OyQ1hsTUQI5W3DzuwERHMKCUVqC29FUWtGwupnpcIenaxFJegvRZCE2kF5nubCiHAgRdNLD0XcZC5CJyMEQvxND8Ll7ApDNCQSQ8UTRUUhvY3CnLFWQJT7V0QiqiTC8UX1wNA45UHAevNABMCPRK5jD0XAjUtEbHK8RDxt5ERB0FzC2SVZRZbfkcIM9hJFBP3UQ4S4XcIit41D9e9XRXxvzsL2zRBEw/dFRQgTFEU/1kxFxZ+MRfAWrET96OpE+IlTRaPE/cKZfHFD5daRRIwuD0XaezhF1iEaRcKUPUWKHpRDNtGyRZrzk0JQDQ/CkeIYRZiiSUU88KhEACD8QabjoUMlzX5ChIb6RE6xEUJs+IBAPU3JRIOaA0XaiApEnTxERaw5lURT+QdEkoorRPrkIESc/AZEMJFHRfvBkcEMuBlFvy6NQeUvmMHLX0lFZSNSQirOCkWHHxVFMXEiwlfm48LwfLdBXN5/Rf0IOUS+NaLCeFyWwx3szEGNaYlFXq7HRIZjykMOU11A/F7oRIXiOkX8wP5AgCwdQxrKdEUlaIE/zWYVw90uVEWprIBF1cgERaINWcKRLEZDLD/tRIuQjkPwlUVF9aiPQYm5aEMMF6RBb6LdRHq/9EO70ErCDe9aRLCq60RwpkFFnOeURbrmrURaWBVC7yf0wnpDjcIvS8JAZV7TQrMZKkX+O5TDXb/wwSWwwkUSPBNDmP1YRY+Qp0PYmkVFO1/OQgbTekW7YOJExxdmRa7A+UR8lFrA5+RxwoEqCsL86Z5Epx4eRdyNhkKhJi3CX+krRQn6HsIgs/TCioIZwomzRUKB7U1EU7sRRGRJoETPdQLE422YRfLaAkUdjbZEZ84NReUAskPcA89EGtT6Q4ZyhMP10+7BqRgIRBRunUPzAbBE7bKlRI2WLEPZ4K/BGEfXRGRRg0WKwcBE8nBtwruHCUPDw/7DRCMqRPJu0MKZ5YBErQINRc7WxUMTZWzBpaTlRNuSAEUEZoRABCQKRdJBcUXcgIBFv3nJRNGzFUWuQV5FKOCcRBZi1USnWijD/9x4Qf5gtEQuxzlFxyyCQ5QlzES3/LlFru9zwZebL0VgfP1Emxkow7tez0JLu4fC/BCBRJkW2MF1TUFFgynQwjFBi0UcwjBFUPzARJqxNkNFtHJFYINAQ+9pU0PypJ5DD/h/woKsi0WlITBF4gjIw48quUTfO5PDh0UaQzz4FkW05qpFVDdHRVBhEcE+klBEBLXCQc+gm0XXwhZEylYbwzuNGsIpgNdCChsHRQIx6UR2nDBElAPaQgMm2sF9gKTCAH3QRbObuEQBiwBFPVMNQ/rZyES0lPXCtg+mRHX8l0T2MWFFn6ymwhSzi0PXDQpCOugJwwGxNMNTniVFjYdxRYxGi0ISRBJFlBHUwi5bMEXVh/bDARYcQfgWukASOcdCuLAbRdalMEQLsw3DO1CQwgfMukHAXA1F0G7oQyG9MUXyGU1FOgQFRee9/UJlS/1EZwoVQida70FTqjZDotq4ReJ4IUULzfJELMX4RFsmC0LmW8BAoU1TRRcxsURrlEJFfLgORVVz5UQsSk7BaflGRFpvLEUyoE7COoPQRST5FkXDG1VFJAnRRKPl4MMBu8ZEB8wYwwSo4kRpX8pBGfzjRCr5C0W8WwtFUyeqwRMgGUKaZpzCC3ASwmqtj8D6GBpFIFQLQTB1YkI2hIpC+iJRReyBVET94EBEugBhROir5EQEzphEGLmARaniaUMvlOFB8RT6weEI60IIl4JBDkhhRQ1qzkXaHIRFhe+twi3bvUFNlBRC/CqBRGpGHkUb5AbCQij8RCTRbEX8MALDqiqwQjG2pkQVWidEuikWRS+WUcG3MJ5FeKIiRfPN88DICYBFv9kWRNMqiUSxIWBCcLKNREgCsEQx8erBumMOQfpRWEV7aRlF04xVwvdFlsEu2gVFNJi8RCL3P0KaRhRFLvyIQUfUDsKu9Y7CKaZPwiVNz0S4dzzD0E5cP1nIYkUmYTJFemK3RE9zLMK3LdpCDN4MRclTMELtLvlDqx+XQ8AaQ0KKQwZFOlRlw/23q0FWp/pEefhvwmKF4ESlT6fC8WGGQ8evb8I0x7tDhtLZQHvT18E6pAVEtey4Q2grJ0Vsc1FD+fQqRXxlRkVYak1EQowkRT3aHsPQSSFAG8cLQTIqksOXieW/4jbARNGfQEW4D0VFXGPERAzq5kOS72VFUzEhRQ5QmEW6HEZF7ia3wd1rRUVeAldDs1qewuTIhEJjZu1C8DwCwvnqJER4mB9FV3DhRaZoZEWXrCZFOKUSRUnfq0MepT5FvRUeQxfMLMJ1QHpE8/E3w1SvGEXybOFEeL29RbBHAsO100hEybCOQztynUOYLMZBIARbROxDtUSdZClDgbjqRFJUGMLsAVZFoenHQdERg8Oo6ShEL95TRfDW+EQvlK1DpUSXRVVyJkSahsxElYQPRbgcFkWopyZFg+8VREmmzkPJB6FDZMUrReU6/cHr9zzELvANRei0E0KV5hPD/cJMRHL9WUUwDU9CQqsxwyNcDkWgn9ZEVYYnRU8/KUQP5bxDUWc5RIDpDUVoJxRFfBagQ+Vk10Sf215FeXN9RUPklkTkN9DDq0+lRGP/e0MzizHCZyi3REXjYEXFtDPD9ra5Q88wGEWyYDxF29yVQdY2mkWDAKREPDUawPQsaEXxLjlE+U79RKxG/0RoTShF1XoIRI9YqkHv3xNFBLSYQnl9HEWv5UvAoNw6wEFMPUWj+fFAO/wCw4QkIkWTaRzCh/XkQUpJGcP7TfBEFvS/QwblDcOjaQZCDTksw5v1i0O5rnZFQn8+QkjEUUWfeVhFOr8KQ3lmKkWIR1NF7eRMQ+5N+UQUx4tFwIDvRK3R4EReRbxEQ7xERVrC8UStTSLB8lugRDx1d0VxASRFkykyRSLZB0UNJeTA8fHHQhhhF73ufMPCtPEORU/2pMJIWyJFXLwSQehW7kQh1JxBXBdcQ7Nwi8IUCEZFJzIGw4DLzkQQ6etCMF1OQ3N3jkQOUrbCcegJRYot1kF9bCDBNgEmRAcsHUUsSR9FhVJeRQGimcHLalTCUhNJRUwlaEUfxBPDKCbUQ/c/+EE6Z3hCYhdVRGISFkXgrRPD3YOJRNkYFEJsYNJCmayDQ3UCNEUNx/RBH9P8RPhfrMKM+N1BwjkfRYGIDEIrzcdEVwEmRSoGNkNG7GRCys+mwWECD0U7FQdEuK8cRQPUGkF3Ln9F/rMrRTXfYkX0HGVEyRSmRGvN3ERApH5EiSDUwUp8IESBNBDCagQIRQok2UTDPklDMOYpREMaRMOPdJZDjgsBRWALHsJ4dSjAa3V/RX2fJEUab9BEnHyqwt49EEEVCZJFHjYYw2UBRkVwL9BE2OEwQuFXFUUJ8n9FEVnURDZnH0XPiE5FXUiERYOwIMJeGtVE0rXkQz6ER8M9nndFxCqrQKMQdEE05z1FFcTsQ+b0cMKTWffCjCOlwqrJeUTKgFZDkN7uREUCMkF0IrNEkeasRBztH0X4MqdDbYA/RfBIsEJ6xjZFBBdLQ8+96ES55ptCAc8dRR8oqkWJQWVEA0QlRZM38kI4PaxEJJheRdVRLkMXkkLBbHzkRNHrqUScSv5DukFxRBYNLcMnm/1EPLVEQ9exxkJzWU5EJhG7ws8c1kSMqL9BInYzw5gvikEBtwtFgmE6Q3oKCkVFP6lErKaHRTfrv0TEjqzCEPqHRZIjUEUSyr/DzfNzRRKhmMGodslE2tAURNy+KERTfhDEBoiHQrAfb0Ia2yhFAf0uRPnBp8KRIN9AEZwlQQlZmUT5pe3Cdfc3Reh7z0TO24DB9m+cRXEiCcNWi4/Dl9UtRWJ3REW5cRBEmmMuREVTpkQIy3FAeOx3RUGGbUTemAbCs1Guw6uaUsL918FEb2wYRE9ygMRrfOlB5rYcQt4/MMSKMiZFgJdrwdrhnEEnZAZFletKwxySL0VVLHtF3zYFw2uaxERGLRLD84aOQm05xkXbn4JBc6NPQyGmXsICcSpFKBgZRcQBq0OrOBtFqs03RQQ6E0Vn1TJDwfJdRRSx2sIBDgdFNONtv7pVYUKIA0NFRyTKRIhFWEKwPl5FbBLsQwubhMEzxFZF+uO4RFYxAEPqvXVEroBJRAd6mkU6/wRF2VLiQjWeUUQin51Cw4f1QhXl9EQ2k1RFVws6RQWtQEXO1J5FWrzkwGk+QER5RT9EcXw+QVPBgEUgSYJC/E4CRWZWMb4+O+9Dcgu4QfeNI0SQsZdD7oY6RHnBNEWlth1FTW5wROkHrsPyar9DsBeERazkBURuFgVF0oY9Rd6YeMG4FNnCfVJ2RB3yFUPyTT5CEdMgw4f+w8NAhZlEUkoyReSxuUVJHohB0wdcRSnbokPVIz7Cq9J0RZVKcEW0w81CLaGVRKKQW0VuugFFxcR2QjDuicByvwBFImnyRFUftkMucB1FIqOPRCGAvETwXoNCElCKQ0xpmkPcYopDxBpJwWD36ES8AF3CnvgrRVNhIcE5c5BE+JPjQelgvkSKdp1Fo6QCRRcnfEW2i6JER0U6Q74ehEXZuCzDgRwPRUqVzkTKtghExWF2RNAxOUWqxDhF6GFBQmC+b0O/bhlDEO1KQ6E7q0Sw69FCykpGRJCXFsPZGNrCygdiREiZwEQ9m0dDS5L/RLTHFsFFgjPDkh+6wj7aVES02CVF/aI/RUXrvURnCDxFEdSewlfc/UO/FllBvUixws85iEXN6SxEWGc7wpufIEN49bfBnuIWwqfTLkUgUjJFvzOQQ7eCKkUr2MxEm2LNRDi8GUKIlBRF4TgkQr/6LEWqRABETroDRfErwUTpKBdFxPw8QqC0esKZnX9Fjo6jQDD11kGDh0lFIm01RZZytUVTvVVF8w/JQR18LkTyddREckSlQexZuERE0D1FClE3w9qkPES/rBBFL0imRI9p+0SW4ClFSpUdRUzRucJ+4UBEQBGxwlcQj0OUqDRFIEcZRRN90cIBCoFFe6XAQ+eTtESQLxdEp4zCRDzH2EQv/bBDX+Qpwhqkkb8IHQPCWnOEwsZDMkUKD9RCu+oBQxG3EkWOSz5F9WwLQuLGBERuHJXCirkVRespYEOoVzDCyWU6RVWvkkUmNAVEdviLRYU8M0VAKwlFQOd8RNmn7URwU1fDHtVjQ5fefEKOtZHCqosxRT/TQUUYphBFE1WCQ8zcO0KELwBFUn1FReMdWEWNaFtEUqIXQ7qypESj+JNFiVcSRcAuekAcJjJFWarERGBfBEU4PUBFUh4cwUnkf0V9T4pChbgYRaGeJEKAalVFBBeyRF6cFkWRir5D858dQon4HkUHMU9EaQyGRWXIO8RFaCFE3/EbQqNEo0GcJBpCGSZ1wr08MUUiGRREZ62fwrMNwER9GApFzZRgRXzjkEQ+k3NA8/blQZ+MLMEacChEKqUERXLwakKqNCZCTYwRwiB/lcI7KQNFvclNwZF4QUQWf3zBtErOwF+DmUHeFXxE0OV0RWUJ/cC55dVBoIkARfIKmEM18+pDSdZqRMxogEUycytF0TcJRXuvJsEnR6lEtBPmQbMuTEXlipFD1FEIRKWpE0WkdMNDx16sQQbHKr/6l71DZv/DQrV8OUUSaehEZ0SeQuTX30RCEu5EAL4Evcq4QEXo0+VEy0ASRQabIEWSAlJEx/DwQJ+rvUQfP/lDYcCMwRB2tESQ8zFDPtg1wpTx40KmyU5FK4swQy7CuURF20ZCPVocRSDWcUWrvV1B9KP0RKgbzESm0ilFKQ/gwm7QdESQPYRFT00IRb3llEXrvTRDtKfpQ3kqDEXch3RFiZinQu/IgcGWQNNEBeIhRQbFXsJLTy9Dv5DvQsaHAEOook9E7ULrwf4BqUEvonpDiXcLRSrGhUWvDdPBub2uQuuoIcPC/lBF7KejRVcr8kRajgNFhWMxRLC+dkX8uJpEfBIVRYddnMJrArJErX/URP2ZHUVW/0RC3ZTFRKaPSkU3uA1Fq/OfReOtNkXLWHhFDJYZRZ3MOUJkhJRDaLwhwWJSJkIeEFlFjXCPQ9sq/EFnllZEw6tORPuBVsP/1jhDiiaZRC7oQEM/LFNCsRjyQaEeEEVFK2/CxvY+RdDmGkSbC6NE+bMJRTVaOkUQ/GXDtT1kRGkLOEP/F4RFxKF4RQMi7EENzlBER0HERDo/gkWw4WPBXxPKwkIDCUWmSyFFwAFpwdCyQkPaHapByepAQ86170T+MpxDuxK7QwhLkkQicJBE1DcfQ2NoR0WdODjDv25cQphuFkSHMN1ERUOdROazG0VTGYTCgHJwwsGMCUT2frRDF6YeRUFER8LCVBtFyqOuQ2Kep8KeUNFDkDSwQljk18LL5MpErMoSQyKtzkUC52JFJwMnxNrcaMIvrr9EmofLQm+BrUUaHR9FLcyWQ61BGMOdm+pEI3PjRC6US0WhdPrBc1Q+RWpXdEVIT41Cb+9twkd1r0LJBk9Enp1QvqxddkW2NvfCs8GTRPJOHUUsTF7EDhVZQ/WBiERdq4ZFDkczRRCsaUXcpy9FpvJ0QSWU0sN6PNpEfUW3RMpI3UIMmhLDlqd9RIPnKETBUuREaW9ERcHOJUVdHK9En8aJRKLkJcI4HZJEBh+fQGRI70T+DJPDTckdRd3DTkQANCNCtVOFRQyIw0Q4yTBFp7gVwzzTwkL2zEbDIkoHRdNf9EMU3ChF503iRPH3QEXEOVFEgPb0QOxaGUXu8hTDiu1pRYky10Fff0JBrgLdQuDfc0T0S+1E2fVtQmA8mcKy/RdF6l8xw69FiETPLoBD1msvQsILkEQMPVBFF6jPwxBhPMFCSAtFqAS7RH16R0X+RqVF2+W0wZA7icKSM+JEGMoHRd6axURUGwVFyC04we7RmkS6LOVEQojAQx5Zo0T/ERdERzRqReB8ksPJj8BEkeazwwtERkQZCxXCvvwnRToDoES8rvNA5e+4wDClmELc5mJFYGVIRXt8JUObKplD30nUwktXrMKBkRdF7vMwRACNcUU4sbY/OL2GRIXJdUXr4BFDuHbewhWWvkQsD+FEuZyFwvexSEJsth5F1ZQww/R4NUUYsKhDIXISwr97i0W+ay5FSqlqwvVyMkPaMVVCWv+gRCqgM0T/39ZEpbM4RaW5SEUE6/9D1D0rRO9KQMP7dYJBD6E2Rb9UC0Vxw0NFz0WoQfRRekXZMihBkV4nRX7o8cMGq6LCgtA1RcQ7H0WqHBNFp5K7RC+RSkVtK81EPHmiRDefDUFRrzZFwdjQQF+7GkVPEdhEbqdtQs0C9UM0jRxFozKORbWaB0Wx9gBFtNdLRcjpikEyAMlBQfVIRZXTTkWOiRlFzGMHRZRfBEVDaCdFGpY9RD0u2kTtKIhCCNleRVpbFER2muNE9BZZRXLj4ETPAjFFA3uPwkGpfMFlBcvCQPIPQXsBqUX0IoxFGDrdQtqgn0OmiXpFtj3sRbVZS0Q+J+VEXUtORKZGlEVEWZlDOA/BRCi/j8GFL1dCs3q1waaxW8EQhvNCF27mwdZEA0SOg7LDfpFdRBsH5kQsrMBEqV8BRGqfFkVEQ0tEgcxowuIUcEOy/NlD70MaRErOB0WMKyJF2Ad5RBj7QMNLyMVEec4nQ4Crb0UDJKhDB/IvxO5+UkVIPd1EG0MTRYoJJERSirfCKBkywQLL3ESz3hPC99tLQWsFDEWcl6dEf4sYRc3VL0TlzzzCg//OQfarbkRkayfBdVUARQaYIkXSWKpDouJURJo6PUU1RC9Eq4bWQuamn0QLJlJF5LuWQhiVa0KGcelE86rnQ89fzEN4RZTBUQfIwyt0Y0V7colDOmq0RQphokM6IPdEOaUORXDTG0LKBAtFY/VcRUflLELmvHBEgE4DRWVP30X8NojCG8/9RKDRaUT5HmNForNZRS0/WEWtMs9FfL4FwuZvS0XNi2pFG+TeQ6Ob1ECeAKDBnqS6RMfaKkVo+/dEx63PRL2PTEWSphpFjnh9RQKnM0WqTMJEb0iMRUJHMkTYYwvDZrJhQg7cE8Pbo1xC0TUrRXu9+ESkG9JEgsr/wux/u0Qcd4NFZkfrwgvzg0USzexA5uBBRLmIUsPHd8pDWyU2RLlgkcKo2YhASNSOQ23ngkTQ7hBFGYOawdlSK0WrBDTC/z/3RMJb9UKwetdECy+jROGfk0VXfk5F35GrRen9HUTyGnjDFlkpQ6ioysIUscREuJUoRRQ+bEQ1OwPDKk9NRR7LrcJsgy9EWw2gRXC6NkMk/MZEoVEaQtd5S0WhHuxEfOjqRLnKJ8OZnoVEXPu8wrsxg8Ow26LASJuxworuwkT5mQHCXKLMRHEj2EO7M0xDI8/5ROloXkT3wTXEde1SwQyJhcEtmx5EIuyVwiQTHUU7NIxE8Bhxwn0dF0NenvtD+ZoQQwxQC0XyKBpFdr4+RagRa7/sdC3DpgcwReUyMkXDDItF5KX+QgQ5+kSjY2VEFfopRYntzMIQXhlFqJN9QjeCFsOdeAHC\",\"dtype\":\"float32\",\"order\":\"little\",\"shape\":[2841]}},\"selected\":{\"id\":\"1049\"},\"selection_policy\":{\"id\":\"1048\"}},\"id\":\"1033\",\"type\":\"ColumnDataSource\"},{\"attributes\":{},\"id\":\"1020\",\"type\":\"WheelZoomTool\"}],\"root_ids\":[\"1002\"]},\"title\":\"Bokeh Application\",\"version\":\"2.4.3\"}};\n",
       "  const render_items = [{\"docid\":\"0ea7368d-511d-403d-8114-05c8d4baf873\",\"root_ids\":[\"1002\"],\"roots\":{\"1002\":\"6c218e2a-e108-4403-a6b9-19fdc6492561\"}}];\n",
       "  root.Bokeh.embed.embed_items_notebook(docs_json, render_items);\n",
       "  }\n",
       "  if (root.Bokeh !== undefined) {\n",
       "    embed_document(root);\n",
       "  } else {\n",
       "    let attempts = 0;\n",
       "    const timer = setInterval(function(root) {\n",
       "      if (root.Bokeh !== undefined) {\n",
       "        clearInterval(timer);\n",
       "        embed_document(root);\n",
       "      } else {\n",
       "        attempts++;\n",
       "        if (attempts > 100) {\n",
       "          clearInterval(timer);\n",
       "          console.log(\"Bokeh: ERROR: Unable to run BokehJS code because BokehJS library is missing\");\n",
       "        }\n",
       "      }\n",
       "    }, 10, root)\n",
       "  }\n",
       "})(window);"
      ],
      "application/vnd.bokehjs_exec.v0+json": ""
     },
     "metadata": {
      "application/vnd.bokehjs_exec.v0+json": {
       "id": "1002"
      }
     },
     "output_type": "display_data"
    }
   ],
   "source": [
    "from bokeh.plotting import figure, show,output_notebook\n",
    "p = figure(width=400, height=400)\n",
    "p.xaxis.axis_label = \"Actual\"\n",
    "p.yaxis.axis_label = \"predicted\"\n",
    "p.circle(y_test,predict_test, size=6, color=\"navy\", alpha=0.5)\n",
    "output_notebook()\n",
    "show(p)"
   ]
  },
  {
   "cell_type": "code",
   "execution_count": null,
   "id": "f272ecc1-544f-41c5-98e9-0d8b32727e4f",
   "metadata": {},
   "outputs": [],
   "source": []
  },
  {
   "cell_type": "code",
   "execution_count": null,
   "id": "0f6f2942-8eb8-44a9-8380-6460bba7c610",
   "metadata": {},
   "outputs": [],
   "source": []
  },
  {
   "cell_type": "code",
   "execution_count": 82,
   "id": "ad74f38f-4c61-485d-a204-24768501a7ec",
   "metadata": {},
   "outputs": [],
   "source": [
    "from sklearn.linear_model import LinearRegression"
   ]
  },
  {
   "cell_type": "code",
   "execution_count": 83,
   "id": "23f9b54e-53b2-42de-b197-4257fd495a11",
   "metadata": {},
   "outputs": [],
   "source": [
    "lr=LinearRegression()"
   ]
  },
  {
   "cell_type": "code",
   "execution_count": 84,
   "id": "64f95284-404e-41ec-9d92-a001bf75a03e",
   "metadata": {},
   "outputs": [
    {
     "data": {
      "text/plain": [
       "LinearRegression()"
      ]
     },
     "execution_count": 84,
     "metadata": {},
     "output_type": "execute_result"
    }
   ],
   "source": [
    "lr.fit(X_train,y_train)"
   ]
  },
  {
   "cell_type": "code",
   "execution_count": 85,
   "id": "9a682b5f-9564-4246-9572-72cd2efc6909",
   "metadata": {},
   "outputs": [],
   "source": [
    "lr_predict=lr.predict(X_test)"
   ]
  },
  {
   "cell_type": "code",
   "execution_count": 86,
   "id": "040b1bae-6f01-4762-b49f-853f3285408b",
   "metadata": {},
   "outputs": [
    {
     "data": {
      "text/plain": [
       "array([ -614.51281153, -1117.7868599 ,  2602.84247185, ...,\n",
       "         532.40816314,   329.87129126,  -246.89258634])"
      ]
     },
     "execution_count": 86,
     "metadata": {},
     "output_type": "execute_result"
    }
   ],
   "source": [
    "lr_predict"
   ]
  },
  {
   "cell_type": "code",
   "execution_count": 87,
   "id": "88edfc69-6362-4b4d-9087-609db7ecf35b",
   "metadata": {},
   "outputs": [
    {
     "data": {
      "text/plain": [
       "(2841,)"
      ]
     },
     "execution_count": 87,
     "metadata": {},
     "output_type": "execute_result"
    }
   ],
   "source": [
    "lr_predict.shape"
   ]
  },
  {
   "cell_type": "code",
   "execution_count": 88,
   "id": "d459eeb5-bae1-49d3-99dc-69fc7cfe2197",
   "metadata": {},
   "outputs": [
    {
     "data": {
      "text/plain": [
       "1093.094912975729"
      ]
     },
     "execution_count": 88,
     "metadata": {},
     "output_type": "execute_result"
    }
   ],
   "source": [
    "np.sqrt(metrics.mean_squared_error(y_test,lr_predict))"
   ]
  },
  {
   "cell_type": "code",
   "execution_count": 89,
   "id": "cf6b5e48-1085-4c03-a4cf-96bc648c3aea",
   "metadata": {},
   "outputs": [
    {
     "data": {
      "text/plain": [
       "0.5753954732534277"
      ]
     },
     "execution_count": 89,
     "metadata": {},
     "output_type": "execute_result"
    }
   ],
   "source": [
    "metrics.r2_score(y_test,lr_predict)"
   ]
  },
  {
   "cell_type": "code",
   "execution_count": 90,
   "id": "5df4bcb6-5514-40fa-b8c9-36e7141f034e",
   "metadata": {},
   "outputs": [
    {
     "data": {
      "text/plain": [
       "831.1676467413105"
      ]
     },
     "execution_count": 90,
     "metadata": {},
     "output_type": "execute_result"
    }
   ],
   "source": [
    "metrics.mean_absolute_error(y_test,lr_predict)"
   ]
  },
  {
   "cell_type": "code",
   "execution_count": 91,
   "id": "17ee61f3-8ff3-4441-91fe-53070c39eb13",
   "metadata": {},
   "outputs": [
    {
     "data": {
      "text/html": [
       "<div class=\"bk-root\">\n",
       "        <a href=\"https://bokeh.org\" target=\"_blank\" class=\"bk-logo bk-logo-small bk-logo-notebook\"></a>\n",
       "        <span id=\"1143\">Loading BokehJS ...</span>\n",
       "    </div>\n"
      ]
     },
     "metadata": {},
     "output_type": "display_data"
    },
    {
     "data": {
      "application/javascript": [
       "(function(root) {\n",
       "  function now() {\n",
       "    return new Date();\n",
       "  }\n",
       "\n",
       "  const force = true;\n",
       "\n",
       "  if (typeof root._bokeh_onload_callbacks === \"undefined\" || force === true) {\n",
       "    root._bokeh_onload_callbacks = [];\n",
       "    root._bokeh_is_loading = undefined;\n",
       "  }\n",
       "\n",
       "const JS_MIME_TYPE = 'application/javascript';\n",
       "  const HTML_MIME_TYPE = 'text/html';\n",
       "  const EXEC_MIME_TYPE = 'application/vnd.bokehjs_exec.v0+json';\n",
       "  const CLASS_NAME = 'output_bokeh rendered_html';\n",
       "\n",
       "  /**\n",
       "   * Render data to the DOM node\n",
       "   */\n",
       "  function render(props, node) {\n",
       "    const script = document.createElement(\"script\");\n",
       "    node.appendChild(script);\n",
       "  }\n",
       "\n",
       "  /**\n",
       "   * Handle when an output is cleared or removed\n",
       "   */\n",
       "  function handleClearOutput(event, handle) {\n",
       "    const cell = handle.cell;\n",
       "\n",
       "    const id = cell.output_area._bokeh_element_id;\n",
       "    const server_id = cell.output_area._bokeh_server_id;\n",
       "    // Clean up Bokeh references\n",
       "    if (id != null && id in Bokeh.index) {\n",
       "      Bokeh.index[id].model.document.clear();\n",
       "      delete Bokeh.index[id];\n",
       "    }\n",
       "\n",
       "    if (server_id !== undefined) {\n",
       "      // Clean up Bokeh references\n",
       "      const cmd_clean = \"from bokeh.io.state import curstate; print(curstate().uuid_to_server['\" + server_id + \"'].get_sessions()[0].document.roots[0]._id)\";\n",
       "      cell.notebook.kernel.execute(cmd_clean, {\n",
       "        iopub: {\n",
       "          output: function(msg) {\n",
       "            const id = msg.content.text.trim();\n",
       "            if (id in Bokeh.index) {\n",
       "              Bokeh.index[id].model.document.clear();\n",
       "              delete Bokeh.index[id];\n",
       "            }\n",
       "          }\n",
       "        }\n",
       "      });\n",
       "      // Destroy server and session\n",
       "      const cmd_destroy = \"import bokeh.io.notebook as ion; ion.destroy_server('\" + server_id + \"')\";\n",
       "      cell.notebook.kernel.execute(cmd_destroy);\n",
       "    }\n",
       "  }\n",
       "\n",
       "  /**\n",
       "   * Handle when a new output is added\n",
       "   */\n",
       "  function handleAddOutput(event, handle) {\n",
       "    const output_area = handle.output_area;\n",
       "    const output = handle.output;\n",
       "\n",
       "    // limit handleAddOutput to display_data with EXEC_MIME_TYPE content only\n",
       "    if ((output.output_type != \"display_data\") || (!Object.prototype.hasOwnProperty.call(output.data, EXEC_MIME_TYPE))) {\n",
       "      return\n",
       "    }\n",
       "\n",
       "    const toinsert = output_area.element.find(\".\" + CLASS_NAME.split(' ')[0]);\n",
       "\n",
       "    if (output.metadata[EXEC_MIME_TYPE][\"id\"] !== undefined) {\n",
       "      toinsert[toinsert.length - 1].firstChild.textContent = output.data[JS_MIME_TYPE];\n",
       "      // store reference to embed id on output_area\n",
       "      output_area._bokeh_element_id = output.metadata[EXEC_MIME_TYPE][\"id\"];\n",
       "    }\n",
       "    if (output.metadata[EXEC_MIME_TYPE][\"server_id\"] !== undefined) {\n",
       "      const bk_div = document.createElement(\"div\");\n",
       "      bk_div.innerHTML = output.data[HTML_MIME_TYPE];\n",
       "      const script_attrs = bk_div.children[0].attributes;\n",
       "      for (let i = 0; i < script_attrs.length; i++) {\n",
       "        toinsert[toinsert.length - 1].firstChild.setAttribute(script_attrs[i].name, script_attrs[i].value);\n",
       "        toinsert[toinsert.length - 1].firstChild.textContent = bk_div.children[0].textContent\n",
       "      }\n",
       "      // store reference to server id on output_area\n",
       "      output_area._bokeh_server_id = output.metadata[EXEC_MIME_TYPE][\"server_id\"];\n",
       "    }\n",
       "  }\n",
       "\n",
       "  function register_renderer(events, OutputArea) {\n",
       "\n",
       "    function append_mime(data, metadata, element) {\n",
       "      // create a DOM node to render to\n",
       "      const toinsert = this.create_output_subarea(\n",
       "        metadata,\n",
       "        CLASS_NAME,\n",
       "        EXEC_MIME_TYPE\n",
       "      );\n",
       "      this.keyboard_manager.register_events(toinsert);\n",
       "      // Render to node\n",
       "      const props = {data: data, metadata: metadata[EXEC_MIME_TYPE]};\n",
       "      render(props, toinsert[toinsert.length - 1]);\n",
       "      element.append(toinsert);\n",
       "      return toinsert\n",
       "    }\n",
       "\n",
       "    /* Handle when an output is cleared or removed */\n",
       "    events.on('clear_output.CodeCell', handleClearOutput);\n",
       "    events.on('delete.Cell', handleClearOutput);\n",
       "\n",
       "    /* Handle when a new output is added */\n",
       "    events.on('output_added.OutputArea', handleAddOutput);\n",
       "\n",
       "    /**\n",
       "     * Register the mime type and append_mime function with output_area\n",
       "     */\n",
       "    OutputArea.prototype.register_mime_type(EXEC_MIME_TYPE, append_mime, {\n",
       "      /* Is output safe? */\n",
       "      safe: true,\n",
       "      /* Index of renderer in `output_area.display_order` */\n",
       "      index: 0\n",
       "    });\n",
       "  }\n",
       "\n",
       "  // register the mime type if in Jupyter Notebook environment and previously unregistered\n",
       "  if (root.Jupyter !== undefined) {\n",
       "    const events = require('base/js/events');\n",
       "    const OutputArea = require('notebook/js/outputarea').OutputArea;\n",
       "\n",
       "    if (OutputArea.prototype.mime_types().indexOf(EXEC_MIME_TYPE) == -1) {\n",
       "      register_renderer(events, OutputArea);\n",
       "    }\n",
       "  }\n",
       "  if (typeof (root._bokeh_timeout) === \"undefined\" || force === true) {\n",
       "    root._bokeh_timeout = Date.now() + 5000;\n",
       "    root._bokeh_failed_load = false;\n",
       "  }\n",
       "\n",
       "  const NB_LOAD_WARNING = {'data': {'text/html':\n",
       "     \"<div style='background-color: #fdd'>\\n\"+\n",
       "     \"<p>\\n\"+\n",
       "     \"BokehJS does not appear to have successfully loaded. If loading BokehJS from CDN, this \\n\"+\n",
       "     \"may be due to a slow or bad network connection. Possible fixes:\\n\"+\n",
       "     \"</p>\\n\"+\n",
       "     \"<ul>\\n\"+\n",
       "     \"<li>re-rerun `output_notebook()` to attempt to load from CDN again, or</li>\\n\"+\n",
       "     \"<li>use INLINE resources instead, as so:</li>\\n\"+\n",
       "     \"</ul>\\n\"+\n",
       "     \"<code>\\n\"+\n",
       "     \"from bokeh.resources import INLINE\\n\"+\n",
       "     \"output_notebook(resources=INLINE)\\n\"+\n",
       "     \"</code>\\n\"+\n",
       "     \"</div>\"}};\n",
       "\n",
       "  function display_loaded() {\n",
       "    const el = document.getElementById(\"1143\");\n",
       "    if (el != null) {\n",
       "      el.textContent = \"BokehJS is loading...\";\n",
       "    }\n",
       "    if (root.Bokeh !== undefined) {\n",
       "      if (el != null) {\n",
       "        el.textContent = \"BokehJS \" + root.Bokeh.version + \" successfully loaded.\";\n",
       "      }\n",
       "    } else if (Date.now() < root._bokeh_timeout) {\n",
       "      setTimeout(display_loaded, 100)\n",
       "    }\n",
       "  }\n",
       "\n",
       "  function run_callbacks() {\n",
       "    try {\n",
       "      root._bokeh_onload_callbacks.forEach(function(callback) {\n",
       "        if (callback != null)\n",
       "          callback();\n",
       "      });\n",
       "    } finally {\n",
       "      delete root._bokeh_onload_callbacks\n",
       "    }\n",
       "    console.debug(\"Bokeh: all callbacks have finished\");\n",
       "  }\n",
       "\n",
       "  function load_libs(css_urls, js_urls, callback) {\n",
       "    if (css_urls == null) css_urls = [];\n",
       "    if (js_urls == null) js_urls = [];\n",
       "\n",
       "    root._bokeh_onload_callbacks.push(callback);\n",
       "    if (root._bokeh_is_loading > 0) {\n",
       "      console.debug(\"Bokeh: BokehJS is being loaded, scheduling callback at\", now());\n",
       "      return null;\n",
       "    }\n",
       "    if (js_urls == null || js_urls.length === 0) {\n",
       "      run_callbacks();\n",
       "      return null;\n",
       "    }\n",
       "    console.debug(\"Bokeh: BokehJS not loaded, scheduling load and callback at\", now());\n",
       "    root._bokeh_is_loading = css_urls.length + js_urls.length;\n",
       "\n",
       "    function on_load() {\n",
       "      root._bokeh_is_loading--;\n",
       "      if (root._bokeh_is_loading === 0) {\n",
       "        console.debug(\"Bokeh: all BokehJS libraries/stylesheets loaded\");\n",
       "        run_callbacks()\n",
       "      }\n",
       "    }\n",
       "\n",
       "    function on_error(url) {\n",
       "      console.error(\"failed to load \" + url);\n",
       "    }\n",
       "\n",
       "    for (let i = 0; i < css_urls.length; i++) {\n",
       "      const url = css_urls[i];\n",
       "      const element = document.createElement(\"link\");\n",
       "      element.onload = on_load;\n",
       "      element.onerror = on_error.bind(null, url);\n",
       "      element.rel = \"stylesheet\";\n",
       "      element.type = \"text/css\";\n",
       "      element.href = url;\n",
       "      console.debug(\"Bokeh: injecting link tag for BokehJS stylesheet: \", url);\n",
       "      document.body.appendChild(element);\n",
       "    }\n",
       "\n",
       "    for (let i = 0; i < js_urls.length; i++) {\n",
       "      const url = js_urls[i];\n",
       "      const element = document.createElement('script');\n",
       "      element.onload = on_load;\n",
       "      element.onerror = on_error.bind(null, url);\n",
       "      element.async = false;\n",
       "      element.src = url;\n",
       "      console.debug(\"Bokeh: injecting script tag for BokehJS library: \", url);\n",
       "      document.head.appendChild(element);\n",
       "    }\n",
       "  };\n",
       "\n",
       "  function inject_raw_css(css) {\n",
       "    const element = document.createElement(\"style\");\n",
       "    element.appendChild(document.createTextNode(css));\n",
       "    document.body.appendChild(element);\n",
       "  }\n",
       "\n",
       "  const js_urls = [\"https://cdn.bokeh.org/bokeh/release/bokeh-2.4.3.min.js\", \"https://cdn.bokeh.org/bokeh/release/bokeh-gl-2.4.3.min.js\", \"https://cdn.bokeh.org/bokeh/release/bokeh-widgets-2.4.3.min.js\", \"https://cdn.bokeh.org/bokeh/release/bokeh-tables-2.4.3.min.js\", \"https://cdn.bokeh.org/bokeh/release/bokeh-mathjax-2.4.3.min.js\"];\n",
       "  const css_urls = [];\n",
       "\n",
       "  const inline_js = [    function(Bokeh) {\n",
       "      Bokeh.set_log_level(\"info\");\n",
       "    },\n",
       "function(Bokeh) {\n",
       "    }\n",
       "  ];\n",
       "\n",
       "  function run_inline_js() {\n",
       "    if (root.Bokeh !== undefined || force === true) {\n",
       "          for (let i = 0; i < inline_js.length; i++) {\n",
       "      inline_js[i].call(root, root.Bokeh);\n",
       "    }\n",
       "if (force === true) {\n",
       "        display_loaded();\n",
       "      }} else if (Date.now() < root._bokeh_timeout) {\n",
       "      setTimeout(run_inline_js, 100);\n",
       "    } else if (!root._bokeh_failed_load) {\n",
       "      console.log(\"Bokeh: BokehJS failed to load within specified timeout.\");\n",
       "      root._bokeh_failed_load = true;\n",
       "    } else if (force !== true) {\n",
       "      const cell = $(document.getElementById(\"1143\")).parents('.cell').data().cell;\n",
       "      cell.output_area.append_execute_result(NB_LOAD_WARNING)\n",
       "    }\n",
       "  }\n",
       "\n",
       "  if (root._bokeh_is_loading === 0) {\n",
       "    console.debug(\"Bokeh: BokehJS loaded, going straight to plotting\");\n",
       "    run_inline_js();\n",
       "  } else {\n",
       "    load_libs(css_urls, js_urls, function() {\n",
       "      console.debug(\"Bokeh: BokehJS plotting callback run at\", now());\n",
       "      run_inline_js();\n",
       "    });\n",
       "  }\n",
       "}(window));"
      ],
      "application/vnd.bokehjs_load.v0+json": "(function(root) {\n  function now() {\n    return new Date();\n  }\n\n  const force = true;\n\n  if (typeof root._bokeh_onload_callbacks === \"undefined\" || force === true) {\n    root._bokeh_onload_callbacks = [];\n    root._bokeh_is_loading = undefined;\n  }\n\n\n  if (typeof (root._bokeh_timeout) === \"undefined\" || force === true) {\n    root._bokeh_timeout = Date.now() + 5000;\n    root._bokeh_failed_load = false;\n  }\n\n  const NB_LOAD_WARNING = {'data': {'text/html':\n     \"<div style='background-color: #fdd'>\\n\"+\n     \"<p>\\n\"+\n     \"BokehJS does not appear to have successfully loaded. If loading BokehJS from CDN, this \\n\"+\n     \"may be due to a slow or bad network connection. Possible fixes:\\n\"+\n     \"</p>\\n\"+\n     \"<ul>\\n\"+\n     \"<li>re-rerun `output_notebook()` to attempt to load from CDN again, or</li>\\n\"+\n     \"<li>use INLINE resources instead, as so:</li>\\n\"+\n     \"</ul>\\n\"+\n     \"<code>\\n\"+\n     \"from bokeh.resources import INLINE\\n\"+\n     \"output_notebook(resources=INLINE)\\n\"+\n     \"</code>\\n\"+\n     \"</div>\"}};\n\n  function display_loaded() {\n    const el = document.getElementById(\"1143\");\n    if (el != null) {\n      el.textContent = \"BokehJS is loading...\";\n    }\n    if (root.Bokeh !== undefined) {\n      if (el != null) {\n        el.textContent = \"BokehJS \" + root.Bokeh.version + \" successfully loaded.\";\n      }\n    } else if (Date.now() < root._bokeh_timeout) {\n      setTimeout(display_loaded, 100)\n    }\n  }\n\n  function run_callbacks() {\n    try {\n      root._bokeh_onload_callbacks.forEach(function(callback) {\n        if (callback != null)\n          callback();\n      });\n    } finally {\n      delete root._bokeh_onload_callbacks\n    }\n    console.debug(\"Bokeh: all callbacks have finished\");\n  }\n\n  function load_libs(css_urls, js_urls, callback) {\n    if (css_urls == null) css_urls = [];\n    if (js_urls == null) js_urls = [];\n\n    root._bokeh_onload_callbacks.push(callback);\n    if (root._bokeh_is_loading > 0) {\n      console.debug(\"Bokeh: BokehJS is being loaded, scheduling callback at\", now());\n      return null;\n    }\n    if (js_urls == null || js_urls.length === 0) {\n      run_callbacks();\n      return null;\n    }\n    console.debug(\"Bokeh: BokehJS not loaded, scheduling load and callback at\", now());\n    root._bokeh_is_loading = css_urls.length + js_urls.length;\n\n    function on_load() {\n      root._bokeh_is_loading--;\n      if (root._bokeh_is_loading === 0) {\n        console.debug(\"Bokeh: all BokehJS libraries/stylesheets loaded\");\n        run_callbacks()\n      }\n    }\n\n    function on_error(url) {\n      console.error(\"failed to load \" + url);\n    }\n\n    for (let i = 0; i < css_urls.length; i++) {\n      const url = css_urls[i];\n      const element = document.createElement(\"link\");\n      element.onload = on_load;\n      element.onerror = on_error.bind(null, url);\n      element.rel = \"stylesheet\";\n      element.type = \"text/css\";\n      element.href = url;\n      console.debug(\"Bokeh: injecting link tag for BokehJS stylesheet: \", url);\n      document.body.appendChild(element);\n    }\n\n    for (let i = 0; i < js_urls.length; i++) {\n      const url = js_urls[i];\n      const element = document.createElement('script');\n      element.onload = on_load;\n      element.onerror = on_error.bind(null, url);\n      element.async = false;\n      element.src = url;\n      console.debug(\"Bokeh: injecting script tag for BokehJS library: \", url);\n      document.head.appendChild(element);\n    }\n  };\n\n  function inject_raw_css(css) {\n    const element = document.createElement(\"style\");\n    element.appendChild(document.createTextNode(css));\n    document.body.appendChild(element);\n  }\n\n  const js_urls = [\"https://cdn.bokeh.org/bokeh/release/bokeh-2.4.3.min.js\", \"https://cdn.bokeh.org/bokeh/release/bokeh-gl-2.4.3.min.js\", \"https://cdn.bokeh.org/bokeh/release/bokeh-widgets-2.4.3.min.js\", \"https://cdn.bokeh.org/bokeh/release/bokeh-tables-2.4.3.min.js\", \"https://cdn.bokeh.org/bokeh/release/bokeh-mathjax-2.4.3.min.js\"];\n  const css_urls = [];\n\n  const inline_js = [    function(Bokeh) {\n      Bokeh.set_log_level(\"info\");\n    },\nfunction(Bokeh) {\n    }\n  ];\n\n  function run_inline_js() {\n    if (root.Bokeh !== undefined || force === true) {\n          for (let i = 0; i < inline_js.length; i++) {\n      inline_js[i].call(root, root.Bokeh);\n    }\nif (force === true) {\n        display_loaded();\n      }} else if (Date.now() < root._bokeh_timeout) {\n      setTimeout(run_inline_js, 100);\n    } else if (!root._bokeh_failed_load) {\n      console.log(\"Bokeh: BokehJS failed to load within specified timeout.\");\n      root._bokeh_failed_load = true;\n    } else if (force !== true) {\n      const cell = $(document.getElementById(\"1143\")).parents('.cell').data().cell;\n      cell.output_area.append_execute_result(NB_LOAD_WARNING)\n    }\n  }\n\n  if (root._bokeh_is_loading === 0) {\n    console.debug(\"Bokeh: BokehJS loaded, going straight to plotting\");\n    run_inline_js();\n  } else {\n    load_libs(css_urls, js_urls, function() {\n      console.debug(\"Bokeh: BokehJS plotting callback run at\", now());\n      run_inline_js();\n    });\n  }\n}(window));"
     },
     "metadata": {},
     "output_type": "display_data"
    },
    {
     "data": {
      "text/html": [
       "\n",
       "  <div class=\"bk-root\" id=\"843f9ce8-6ca6-4997-badc-e960e155e117\" data-root-id=\"1002\"></div>\n"
      ]
     },
     "metadata": {},
     "output_type": "display_data"
    },
    {
     "data": {
      "application/javascript": [
       "(function(root) {\n",
       "  function embed_document(root) {\n",
       "  const docs_json = {\"90471502-ea41-4b05-bfde-c8801fdb8cba\":{\"defs\":[],\"roots\":{\"references\":[{\"attributes\":{\"below\":[{\"id\":\"1011\"}],\"center\":[{\"id\":\"1014\"},{\"id\":\"1018\"}],\"height\":400,\"left\":[{\"id\":\"1015\"}],\"renderers\":[{\"id\":\"1037\"}],\"title\":{\"id\":\"1040\"},\"toolbar\":{\"id\":\"1026\"},\"width\":400,\"x_range\":{\"id\":\"1003\"},\"x_scale\":{\"id\":\"1007\"},\"y_range\":{\"id\":\"1005\"},\"y_scale\":{\"id\":\"1009\"}},\"id\":\"1002\",\"subtype\":\"Figure\",\"type\":\"Plot\"},{\"attributes\":{},\"id\":\"1023\",\"type\":\"ResetTool\"},{\"attributes\":{},\"id\":\"1047\",\"type\":\"AllLabels\"},{\"attributes\":{\"fill_alpha\":{\"value\":0.5},\"fill_color\":{\"value\":\"navy\"},\"hatch_alpha\":{\"value\":0.5},\"hatch_color\":{\"value\":\"navy\"},\"line_alpha\":{\"value\":0.5},\"line_color\":{\"value\":\"navy\"},\"size\":{\"value\":6},\"x\":{\"field\":\"x\"},\"y\":{\"field\":\"y\"}},\"id\":\"1034\",\"type\":\"Circle\"},{\"attributes\":{\"bottom_units\":\"screen\",\"coordinates\":null,\"fill_alpha\":0.5,\"fill_color\":\"lightgrey\",\"group\":null,\"left_units\":\"screen\",\"level\":\"overlay\",\"line_alpha\":1.0,\"line_color\":\"black\",\"line_dash\":[4,4],\"line_width\":2,\"right_units\":\"screen\",\"syncable\":false,\"top_units\":\"screen\"},\"id\":\"1025\",\"type\":\"BoxAnnotation\"},{\"attributes\":{},\"id\":\"1022\",\"type\":\"SaveTool\"},{\"attributes\":{\"coordinates\":null,\"group\":null},\"id\":\"1040\",\"type\":\"Title\"},{\"attributes\":{\"axis_label\":\"predicted\",\"coordinates\":null,\"formatter\":{\"id\":\"1043\"},\"group\":null,\"major_label_policy\":{\"id\":\"1044\"},\"ticker\":{\"id\":\"1016\"}},\"id\":\"1015\",\"type\":\"LinearAxis\"},{\"attributes\":{\"axis\":{\"id\":\"1015\"},\"coordinates\":null,\"dimension\":1,\"group\":null,\"ticker\":null},\"id\":\"1018\",\"type\":\"Grid\"},{\"attributes\":{\"coordinates\":null,\"data_source\":{\"id\":\"1033\"},\"glyph\":{\"id\":\"1034\"},\"group\":null,\"hover_glyph\":null,\"muted_glyph\":{\"id\":\"1036\"},\"nonselection_glyph\":{\"id\":\"1035\"},\"view\":{\"id\":\"1038\"}},\"id\":\"1037\",\"type\":\"GlyphRenderer\"},{\"attributes\":{},\"id\":\"1048\",\"type\":\"UnionRenderers\"},{\"attributes\":{\"tools\":[{\"id\":\"1019\"},{\"id\":\"1020\"},{\"id\":\"1021\"},{\"id\":\"1022\"},{\"id\":\"1023\"},{\"id\":\"1024\"}]},\"id\":\"1026\",\"type\":\"Toolbar\"},{\"attributes\":{\"overlay\":{\"id\":\"1025\"}},\"id\":\"1021\",\"type\":\"BoxZoomTool\"},{\"attributes\":{},\"id\":\"1049\",\"type\":\"Selection\"},{\"attributes\":{},\"id\":\"1016\",\"type\":\"BasicTicker\"},{\"attributes\":{},\"id\":\"1003\",\"type\":\"DataRange1d\"},{\"attributes\":{},\"id\":\"1007\",\"type\":\"LinearScale\"},{\"attributes\":{\"axis\":{\"id\":\"1011\"},\"coordinates\":null,\"group\":null,\"ticker\":null},\"id\":\"1014\",\"type\":\"Grid\"},{\"attributes\":{},\"id\":\"1005\",\"type\":\"DataRange1d\"},{\"attributes\":{\"fill_alpha\":{\"value\":0.2},\"fill_color\":{\"value\":\"navy\"},\"hatch_alpha\":{\"value\":0.2},\"hatch_color\":{\"value\":\"navy\"},\"line_alpha\":{\"value\":0.2},\"line_color\":{\"value\":\"navy\"},\"size\":{\"value\":6},\"x\":{\"field\":\"x\"},\"y\":{\"field\":\"y\"}},\"id\":\"1036\",\"type\":\"Circle\"},{\"attributes\":{\"axis_label\":\"Actual\",\"coordinates\":null,\"formatter\":{\"id\":\"1046\"},\"group\":null,\"major_label_policy\":{\"id\":\"1047\"},\"ticker\":{\"id\":\"1012\"}},\"id\":\"1011\",\"type\":\"LinearAxis\"},{\"attributes\":{},\"id\":\"1019\",\"type\":\"PanTool\"},{\"attributes\":{},\"id\":\"1012\",\"type\":\"BasicTicker\"},{\"attributes\":{\"source\":{\"id\":\"1033\"}},\"id\":\"1038\",\"type\":\"CDSView\"},{\"attributes\":{\"fill_alpha\":{\"value\":0.1},\"fill_color\":{\"value\":\"navy\"},\"hatch_alpha\":{\"value\":0.1},\"hatch_color\":{\"value\":\"navy\"},\"line_alpha\":{\"value\":0.1},\"line_color\":{\"value\":\"navy\"},\"size\":{\"value\":6},\"x\":{\"field\":\"x\"},\"y\":{\"field\":\"y\"}},\"id\":\"1035\",\"type\":\"Circle\"},{\"attributes\":{},\"id\":\"1009\",\"type\":\"LinearScale\"},{\"attributes\":{},\"id\":\"1043\",\"type\":\"BasicTickFormatter\"},{\"attributes\":{},\"id\":\"1046\",\"type\":\"BasicTickFormatter\"},{\"attributes\":{},\"id\":\"1024\",\"type\":\"HelpTool\"},{\"attributes\":{},\"id\":\"1044\",\"type\":\"AllLabels\"},{\"attributes\":{\"data\":{\"x\":{\"__ndarray__\":\"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\",\"dtype\":\"float64\",\"order\":\"little\",\"shape\":[2841]},\"y\":{\"__ndarray__\":\"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\",\"dtype\":\"float32\",\"order\":\"little\",\"shape\":[2841]}},\"selected\":{\"id\":\"1049\"},\"selection_policy\":{\"id\":\"1048\"}},\"id\":\"1033\",\"type\":\"ColumnDataSource\"},{\"attributes\":{},\"id\":\"1020\",\"type\":\"WheelZoomTool\"}],\"root_ids\":[\"1002\"]},\"title\":\"Bokeh Application\",\"version\":\"2.4.3\"}};\n",
       "  const render_items = [{\"docid\":\"90471502-ea41-4b05-bfde-c8801fdb8cba\",\"root_ids\":[\"1002\"],\"roots\":{\"1002\":\"843f9ce8-6ca6-4997-badc-e960e155e117\"}}];\n",
       "  root.Bokeh.embed.embed_items_notebook(docs_json, render_items);\n",
       "  }\n",
       "  if (root.Bokeh !== undefined) {\n",
       "    embed_document(root);\n",
       "  } else {\n",
       "    let attempts = 0;\n",
       "    const timer = setInterval(function(root) {\n",
       "      if (root.Bokeh !== undefined) {\n",
       "        clearInterval(timer);\n",
       "        embed_document(root);\n",
       "      } else {\n",
       "        attempts++;\n",
       "        if (attempts > 100) {\n",
       "          clearInterval(timer);\n",
       "          console.log(\"Bokeh: ERROR: Unable to run BokehJS code because BokehJS library is missing\");\n",
       "        }\n",
       "      }\n",
       "    }, 10, root)\n",
       "  }\n",
       "})(window);"
      ],
      "application/vnd.bokehjs_exec.v0+json": ""
     },
     "metadata": {
      "application/vnd.bokehjs_exec.v0+json": {
       "id": "1002"
      }
     },
     "output_type": "display_data"
    }
   ],
   "source": [
    "fig = figure(width=400, height=400)\n",
    "fig.xaxis.axis_label = \"Actual\"\n",
    "fig.yaxis.axis_label = \"predicted\"\n",
    "fig.circle(y_test,lr_predict, size=6, color=\"navy\", alpha=0.5)\n",
    "output_notebook()\n",
    "show(p)"
   ]
  },
  {
   "cell_type": "code",
   "execution_count": null,
   "id": "b4ac9544-e02e-4e64-9aa0-daf3516d9768",
   "metadata": {},
   "outputs": [],
   "source": []
  }
 ],
 "metadata": {
  "kernelspec": {
   "display_name": "Python 3 (ipykernel)",
   "language": "python",
   "name": "python3"
  },
  "language_info": {
   "codemirror_mode": {
    "name": "ipython",
    "version": 3
   },
   "file_extension": ".py",
   "mimetype": "text/x-python",
   "name": "python",
   "nbconvert_exporter": "python",
   "pygments_lexer": "ipython3",
   "version": "3.8.13"
  }
 },
 "nbformat": 4,
 "nbformat_minor": 5
}
